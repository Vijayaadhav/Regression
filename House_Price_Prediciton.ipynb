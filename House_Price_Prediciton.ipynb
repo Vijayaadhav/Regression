{
  "nbformat": 4,
  "nbformat_minor": 0,
  "metadata": {
    "colab": {
      "name": "House Price Prediciton",
      "provenance": [],
      "authorship_tag": "ABX9TyMci0LN462G4v6sywGFm+/A",
      "include_colab_link": true
    },
    "kernelspec": {
      "name": "python3",
      "display_name": "Python 3"
    }
  },
  "cells": [
    {
      "cell_type": "markdown",
      "metadata": {
        "id": "view-in-github",
        "colab_type": "text"
      },
      "source": [
        "<a href=\"https://colab.research.google.com/github/Vijayaadhav/Regression/blob/main/House_Price_Prediciton.ipynb\" target=\"_parent\"><img src=\"https://colab.research.google.com/assets/colab-badge.svg\" alt=\"Open In Colab\"/></a>"
      ]
    },
    {
      "cell_type": "code",
      "metadata": {
        "id": "6Rz4K8y66n-T",
        "outputId": "ba3f8a0d-c666-4092-e2be-0f26e5f120bb",
        "colab": {
          "resources": {
            "http://localhost:8080/nbextensions/google.colab/files.js": {
              "data": "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",
              "ok": true,
              "headers": [
                [
                  "content-type",
                  "application/javascript"
                ]
              ],
              "status": 200,
              "status_text": ""
            }
          },
          "base_uri": "https://localhost:8080/",
          "height": 73
        }
      },
      "source": [
        "from google.colab import files\n",
        "uploaded = files.upload()"
      ],
      "execution_count": null,
      "outputs": [
        {
          "output_type": "display_data",
          "data": {
            "text/html": [
              "\n",
              "     <input type=\"file\" id=\"files-c9a671e7-1209-4582-99ed-b22ebb516a50\" name=\"files[]\" multiple disabled\n",
              "        style=\"border:none\" />\n",
              "     <output id=\"result-c9a671e7-1209-4582-99ed-b22ebb516a50\">\n",
              "      Upload widget is only available when the cell has been executed in the\n",
              "      current browser session. Please rerun this cell to enable.\n",
              "      </output>\n",
              "      <script src=\"/nbextensions/google.colab/files.js\"></script> "
            ],
            "text/plain": [
              "<IPython.core.display.HTML object>"
            ]
          },
          "metadata": {
            "tags": []
          }
        },
        {
          "output_type": "stream",
          "text": [
            "Saving Train.csv to Train.csv\n"
          ],
          "name": "stdout"
        }
      ]
    },
    {
      "cell_type": "code",
      "metadata": {
        "id": "ln9Kkl8O7YI_"
      },
      "source": [
        "import numpy as np\n",
        "import pandas as pd\n",
        "import matplotlib.pyplot as plt\n",
        "%matplotlib inline\n",
        "#importing seaborn for statistical plots\n",
        "import seaborn as sns\n",
        "import statistics "
      ],
      "execution_count": null,
      "outputs": []
    },
    {
      "cell_type": "code",
      "metadata": {
        "id": "WdFleN077YVi"
      },
      "source": [
        "import io\n",
        "df = pd.read_csv(io.BytesIO(uploaded['Train.csv']))"
      ],
      "execution_count": null,
      "outputs": []
    },
    {
      "cell_type": "code",
      "metadata": {
        "id": "mVt5NNpG7YYO"
      },
      "source": [
        "df.head(20)"
      ],
      "execution_count": null,
      "outputs": []
    },
    {
      "cell_type": "code",
      "metadata": {
        "id": "wlwwXCZl7Ya5"
      },
      "source": [
        "df.shape"
      ],
      "execution_count": null,
      "outputs": []
    },
    {
      "cell_type": "code",
      "metadata": {
        "id": "afPPOwo77YeS"
      },
      "source": [
        "df.info()"
      ],
      "execution_count": null,
      "outputs": []
    },
    {
      "cell_type": "code",
      "metadata": {
        "id": "rMhGHjqx7x2z"
      },
      "source": [
        "df.describe(include = 'all')"
      ],
      "execution_count": null,
      "outputs": []
    },
    {
      "cell_type": "markdown",
      "metadata": {
        "id": "1waqHkvc71SP"
      },
      "source": [
        "### DATA CLEANING"
      ]
    },
    {
      "cell_type": "markdown",
      "metadata": {
        "id": "vZqOWxmg7-IK"
      },
      "source": [
        "Null value representation:"
      ]
    },
    {
      "cell_type": "code",
      "metadata": {
        "id": "sifWGcEj7x8B",
        "outputId": "416804b8-7a9c-427c-817f-9b44c2133663",
        "colab": {
          "base_uri": "https://localhost:8080/"
        }
      },
      "source": [
        "df.isnull().sum()"
      ],
      "execution_count": null,
      "outputs": [
        {
          "output_type": "execute_result",
          "data": {
            "text/plain": [
              "area_type          0\n",
              "availability       0\n",
              "location           1\n",
              "size              16\n",
              "society         5502\n",
              "total_sqft         0\n",
              "bath              73\n",
              "balcony          609\n",
              "price              0\n",
              "dtype: int64"
            ]
          },
          "metadata": {
            "tags": []
          },
          "execution_count": 7
        }
      ]
    },
    {
      "cell_type": "code",
      "metadata": {
        "id": "NDV8Saex7x-X"
      },
      "source": [
        "l = []\n",
        "for i in df.columns:\n",
        "    l.append((round((df[i].isnull().sum()/df.shape[0])*100,2)))\n",
        "arr = np.array(l)"
      ],
      "execution_count": null,
      "outputs": []
    },
    {
      "cell_type": "code",
      "metadata": {
        "id": "jQoHNesN7yAs",
        "outputId": "e1372c1c-886c-450d-b2dc-4288a34369fa",
        "colab": {
          "base_uri": "https://localhost:8080/",
          "height": 314
        }
      },
      "source": [
        "null = pd.DataFrame(data=arr,index = df.columns,columns = ['Percentage of null'])\n",
        "null"
      ],
      "execution_count": null,
      "outputs": [
        {
          "output_type": "execute_result",
          "data": {
            "text/html": [
              "<div>\n",
              "<style scoped>\n",
              "    .dataframe tbody tr th:only-of-type {\n",
              "        vertical-align: middle;\n",
              "    }\n",
              "\n",
              "    .dataframe tbody tr th {\n",
              "        vertical-align: top;\n",
              "    }\n",
              "\n",
              "    .dataframe thead th {\n",
              "        text-align: right;\n",
              "    }\n",
              "</style>\n",
              "<table border=\"1\" class=\"dataframe\">\n",
              "  <thead>\n",
              "    <tr style=\"text-align: right;\">\n",
              "      <th></th>\n",
              "      <th>Percentage of null</th>\n",
              "    </tr>\n",
              "  </thead>\n",
              "  <tbody>\n",
              "    <tr>\n",
              "      <th>area_type</th>\n",
              "      <td>0.00</td>\n",
              "    </tr>\n",
              "    <tr>\n",
              "      <th>availability</th>\n",
              "      <td>0.00</td>\n",
              "    </tr>\n",
              "    <tr>\n",
              "      <th>location</th>\n",
              "      <td>0.01</td>\n",
              "    </tr>\n",
              "    <tr>\n",
              "      <th>size</th>\n",
              "      <td>0.12</td>\n",
              "    </tr>\n",
              "    <tr>\n",
              "      <th>society</th>\n",
              "      <td>41.31</td>\n",
              "    </tr>\n",
              "    <tr>\n",
              "      <th>total_sqft</th>\n",
              "      <td>0.00</td>\n",
              "    </tr>\n",
              "    <tr>\n",
              "      <th>bath</th>\n",
              "      <td>0.55</td>\n",
              "    </tr>\n",
              "    <tr>\n",
              "      <th>balcony</th>\n",
              "      <td>4.57</td>\n",
              "    </tr>\n",
              "    <tr>\n",
              "      <th>price</th>\n",
              "      <td>0.00</td>\n",
              "    </tr>\n",
              "  </tbody>\n",
              "</table>\n",
              "</div>"
            ],
            "text/plain": [
              "              Percentage of null\n",
              "area_type                   0.00\n",
              "availability                0.00\n",
              "location                    0.01\n",
              "size                        0.12\n",
              "society                    41.31\n",
              "total_sqft                  0.00\n",
              "bath                        0.55\n",
              "balcony                     4.57\n",
              "price                       0.00"
            ]
          },
          "metadata": {
            "tags": []
          },
          "execution_count": 9
        }
      ]
    },
    {
      "cell_type": "markdown",
      "metadata": {
        "id": "I1jOFsUx8TQc"
      },
      "source": [
        "* since society has 41% null values , we can drop that column."
      ]
    },
    {
      "cell_type": "code",
      "metadata": {
        "id": "JqlQfa9X7yC2",
        "outputId": "c501a2dc-3b13-4a8b-918d-039c2c354a91",
        "colab": {
          "base_uri": "https://localhost:8080/",
          "height": 303
        }
      },
      "source": [
        "df = df.drop('society',axis = 1)"
      ],
      "execution_count": null,
      "outputs": [
        {
          "output_type": "error",
          "ename": "KeyError",
          "evalue": "ignored",
          "traceback": [
            "\u001b[0;31m---------------------------------------------------------------------------\u001b[0m",
            "\u001b[0;31mKeyError\u001b[0m                                  Traceback (most recent call last)",
            "\u001b[0;32m<ipython-input-11-c5e6c0c1c48c>\u001b[0m in \u001b[0;36m<module>\u001b[0;34m()\u001b[0m\n\u001b[0;32m----> 1\u001b[0;31m \u001b[0mdf\u001b[0m \u001b[0;34m=\u001b[0m \u001b[0mdf\u001b[0m\u001b[0;34m.\u001b[0m\u001b[0mdrop\u001b[0m\u001b[0;34m(\u001b[0m\u001b[0;34m'society'\u001b[0m\u001b[0;34m,\u001b[0m\u001b[0maxis\u001b[0m \u001b[0;34m=\u001b[0m \u001b[0;36m1\u001b[0m\u001b[0;34m)\u001b[0m\u001b[0;34m\u001b[0m\u001b[0;34m\u001b[0m\u001b[0m\n\u001b[0m",
            "\u001b[0;32m/usr/local/lib/python3.6/dist-packages/pandas/core/frame.py\u001b[0m in \u001b[0;36mdrop\u001b[0;34m(self, labels, axis, index, columns, level, inplace, errors)\u001b[0m\n\u001b[1;32m   4172\u001b[0m             \u001b[0mlevel\u001b[0m\u001b[0;34m=\u001b[0m\u001b[0mlevel\u001b[0m\u001b[0;34m,\u001b[0m\u001b[0;34m\u001b[0m\u001b[0;34m\u001b[0m\u001b[0m\n\u001b[1;32m   4173\u001b[0m             \u001b[0minplace\u001b[0m\u001b[0;34m=\u001b[0m\u001b[0minplace\u001b[0m\u001b[0;34m,\u001b[0m\u001b[0;34m\u001b[0m\u001b[0;34m\u001b[0m\u001b[0m\n\u001b[0;32m-> 4174\u001b[0;31m             \u001b[0merrors\u001b[0m\u001b[0;34m=\u001b[0m\u001b[0merrors\u001b[0m\u001b[0;34m,\u001b[0m\u001b[0;34m\u001b[0m\u001b[0;34m\u001b[0m\u001b[0m\n\u001b[0m\u001b[1;32m   4175\u001b[0m         )\n\u001b[1;32m   4176\u001b[0m \u001b[0;34m\u001b[0m\u001b[0m\n",
            "\u001b[0;32m/usr/local/lib/python3.6/dist-packages/pandas/core/generic.py\u001b[0m in \u001b[0;36mdrop\u001b[0;34m(self, labels, axis, index, columns, level, inplace, errors)\u001b[0m\n\u001b[1;32m   3885\u001b[0m         \u001b[0;32mfor\u001b[0m \u001b[0maxis\u001b[0m\u001b[0;34m,\u001b[0m \u001b[0mlabels\u001b[0m \u001b[0;32min\u001b[0m \u001b[0maxes\u001b[0m\u001b[0;34m.\u001b[0m\u001b[0mitems\u001b[0m\u001b[0;34m(\u001b[0m\u001b[0;34m)\u001b[0m\u001b[0;34m:\u001b[0m\u001b[0;34m\u001b[0m\u001b[0;34m\u001b[0m\u001b[0m\n\u001b[1;32m   3886\u001b[0m             \u001b[0;32mif\u001b[0m \u001b[0mlabels\u001b[0m \u001b[0;32mis\u001b[0m \u001b[0;32mnot\u001b[0m \u001b[0;32mNone\u001b[0m\u001b[0;34m:\u001b[0m\u001b[0;34m\u001b[0m\u001b[0;34m\u001b[0m\u001b[0m\n\u001b[0;32m-> 3887\u001b[0;31m                 \u001b[0mobj\u001b[0m \u001b[0;34m=\u001b[0m \u001b[0mobj\u001b[0m\u001b[0;34m.\u001b[0m\u001b[0m_drop_axis\u001b[0m\u001b[0;34m(\u001b[0m\u001b[0mlabels\u001b[0m\u001b[0;34m,\u001b[0m \u001b[0maxis\u001b[0m\u001b[0;34m,\u001b[0m \u001b[0mlevel\u001b[0m\u001b[0;34m=\u001b[0m\u001b[0mlevel\u001b[0m\u001b[0;34m,\u001b[0m \u001b[0merrors\u001b[0m\u001b[0;34m=\u001b[0m\u001b[0merrors\u001b[0m\u001b[0;34m)\u001b[0m\u001b[0;34m\u001b[0m\u001b[0;34m\u001b[0m\u001b[0m\n\u001b[0m\u001b[1;32m   3888\u001b[0m \u001b[0;34m\u001b[0m\u001b[0m\n\u001b[1;32m   3889\u001b[0m         \u001b[0;32mif\u001b[0m \u001b[0minplace\u001b[0m\u001b[0;34m:\u001b[0m\u001b[0;34m\u001b[0m\u001b[0;34m\u001b[0m\u001b[0m\n",
            "\u001b[0;32m/usr/local/lib/python3.6/dist-packages/pandas/core/generic.py\u001b[0m in \u001b[0;36m_drop_axis\u001b[0;34m(self, labels, axis, level, errors)\u001b[0m\n\u001b[1;32m   3919\u001b[0m                 \u001b[0mnew_axis\u001b[0m \u001b[0;34m=\u001b[0m \u001b[0maxis\u001b[0m\u001b[0;34m.\u001b[0m\u001b[0mdrop\u001b[0m\u001b[0;34m(\u001b[0m\u001b[0mlabels\u001b[0m\u001b[0;34m,\u001b[0m \u001b[0mlevel\u001b[0m\u001b[0;34m=\u001b[0m\u001b[0mlevel\u001b[0m\u001b[0;34m,\u001b[0m \u001b[0merrors\u001b[0m\u001b[0;34m=\u001b[0m\u001b[0merrors\u001b[0m\u001b[0;34m)\u001b[0m\u001b[0;34m\u001b[0m\u001b[0;34m\u001b[0m\u001b[0m\n\u001b[1;32m   3920\u001b[0m             \u001b[0;32melse\u001b[0m\u001b[0;34m:\u001b[0m\u001b[0;34m\u001b[0m\u001b[0;34m\u001b[0m\u001b[0m\n\u001b[0;32m-> 3921\u001b[0;31m                 \u001b[0mnew_axis\u001b[0m \u001b[0;34m=\u001b[0m \u001b[0maxis\u001b[0m\u001b[0;34m.\u001b[0m\u001b[0mdrop\u001b[0m\u001b[0;34m(\u001b[0m\u001b[0mlabels\u001b[0m\u001b[0;34m,\u001b[0m \u001b[0merrors\u001b[0m\u001b[0;34m=\u001b[0m\u001b[0merrors\u001b[0m\u001b[0;34m)\u001b[0m\u001b[0;34m\u001b[0m\u001b[0;34m\u001b[0m\u001b[0m\n\u001b[0m\u001b[1;32m   3922\u001b[0m             \u001b[0mresult\u001b[0m \u001b[0;34m=\u001b[0m \u001b[0mself\u001b[0m\u001b[0;34m.\u001b[0m\u001b[0mreindex\u001b[0m\u001b[0;34m(\u001b[0m\u001b[0;34m**\u001b[0m\u001b[0;34m{\u001b[0m\u001b[0maxis_name\u001b[0m\u001b[0;34m:\u001b[0m \u001b[0mnew_axis\u001b[0m\u001b[0;34m}\u001b[0m\u001b[0;34m)\u001b[0m\u001b[0;34m\u001b[0m\u001b[0;34m\u001b[0m\u001b[0m\n\u001b[1;32m   3923\u001b[0m \u001b[0;34m\u001b[0m\u001b[0m\n",
            "\u001b[0;32m/usr/local/lib/python3.6/dist-packages/pandas/core/indexes/base.py\u001b[0m in \u001b[0;36mdrop\u001b[0;34m(self, labels, errors)\u001b[0m\n\u001b[1;32m   5282\u001b[0m         \u001b[0;32mif\u001b[0m \u001b[0mmask\u001b[0m\u001b[0;34m.\u001b[0m\u001b[0many\u001b[0m\u001b[0;34m(\u001b[0m\u001b[0;34m)\u001b[0m\u001b[0;34m:\u001b[0m\u001b[0;34m\u001b[0m\u001b[0;34m\u001b[0m\u001b[0m\n\u001b[1;32m   5283\u001b[0m             \u001b[0;32mif\u001b[0m \u001b[0merrors\u001b[0m \u001b[0;34m!=\u001b[0m \u001b[0;34m\"ignore\"\u001b[0m\u001b[0;34m:\u001b[0m\u001b[0;34m\u001b[0m\u001b[0;34m\u001b[0m\u001b[0m\n\u001b[0;32m-> 5284\u001b[0;31m                 \u001b[0;32mraise\u001b[0m \u001b[0mKeyError\u001b[0m\u001b[0;34m(\u001b[0m\u001b[0;34mf\"{labels[mask]} not found in axis\"\u001b[0m\u001b[0;34m)\u001b[0m\u001b[0;34m\u001b[0m\u001b[0;34m\u001b[0m\u001b[0m\n\u001b[0m\u001b[1;32m   5285\u001b[0m             \u001b[0mindexer\u001b[0m \u001b[0;34m=\u001b[0m \u001b[0mindexer\u001b[0m\u001b[0;34m[\u001b[0m\u001b[0;34m~\u001b[0m\u001b[0mmask\u001b[0m\u001b[0;34m]\u001b[0m\u001b[0;34m\u001b[0m\u001b[0;34m\u001b[0m\u001b[0m\n\u001b[1;32m   5286\u001b[0m         \u001b[0;32mreturn\u001b[0m \u001b[0mself\u001b[0m\u001b[0;34m.\u001b[0m\u001b[0mdelete\u001b[0m\u001b[0;34m(\u001b[0m\u001b[0mindexer\u001b[0m\u001b[0;34m)\u001b[0m\u001b[0;34m\u001b[0m\u001b[0;34m\u001b[0m\u001b[0m\n",
            "\u001b[0;31mKeyError\u001b[0m: \"['society'] not found in axis\""
          ]
        }
      ]
    },
    {
      "cell_type": "markdown",
      "metadata": {
        "id": "H0vBU7IC8o3m"
      },
      "source": [
        "Duplicates Removal"
      ]
    },
    {
      "cell_type": "code",
      "metadata": {
        "id": "IDo_u7gs7yIZ",
        "outputId": "45871238-0ea5-4633-ae92-0b41bb437181",
        "colab": {
          "base_uri": "https://localhost:8080/"
        }
      },
      "source": [
        "df[df.duplicated()].count()"
      ],
      "execution_count": null,
      "outputs": [
        {
          "output_type": "execute_result",
          "data": {
            "text/plain": [
              "area_type       568\n",
              "availability    568\n",
              "location        568\n",
              "size            568\n",
              "total_sqft      568\n",
              "bath            568\n",
              "balcony         564\n",
              "price           568\n",
              "dtype: int64"
            ]
          },
          "metadata": {
            "tags": []
          },
          "execution_count": 14
        }
      ]
    },
    {
      "cell_type": "code",
      "metadata": {
        "id": "GVQ4GhFo8yjo",
        "outputId": "aa06e600-8131-4f23-86d8-ca36db607d23",
        "colab": {
          "base_uri": "https://localhost:8080/"
        }
      },
      "source": [
        "df.drop_duplicates(inplace = True)\n",
        "df.shape"
      ],
      "execution_count": null,
      "outputs": [
        {
          "output_type": "execute_result",
          "data": {
            "text/plain": [
              "(12752, 8)"
            ]
          },
          "metadata": {
            "tags": []
          },
          "execution_count": 15
        }
      ]
    },
    {
      "cell_type": "markdown",
      "metadata": {
        "id": "9X5apHlA827O"
      },
      "source": [
        "* After removing duplicates , the records are reduced from 13320 to 12752"
      ]
    },
    {
      "cell_type": "markdown",
      "metadata": {
        "id": "5fKhgeui89Ob"
      },
      "source": [
        "Handling missing values"
      ]
    },
    {
      "cell_type": "code",
      "metadata": {
        "id": "aJWEr1yf8ypV"
      },
      "source": [
        "df['size'] = df['size'].apply(lambda x:x[0] if (type(x) != float) else x)\n",
        "df['size'] = df['size'].fillna(value = statistics.mode(df['size']))"
      ],
      "execution_count": null,
      "outputs": []
    },
    {
      "cell_type": "code",
      "metadata": {
        "id": "wGp4tkd99Dvd"
      },
      "source": [
        "df['bath'] = df['bath'].fillna(value = statistics.mode(df['bath']))"
      ],
      "execution_count": null,
      "outputs": []
    },
    {
      "cell_type": "code",
      "metadata": {
        "id": "zhPrHd8P9Dx0"
      },
      "source": [
        "df['balcony'] = df['balcony'].fillna(value = statistics.mode(df['balcony']))"
      ],
      "execution_count": null,
      "outputs": []
    },
    {
      "cell_type": "code",
      "metadata": {
        "id": "pCf1Zadl9D0J",
        "outputId": "043a17ec-a9c8-451e-945b-bf339a9bca29",
        "colab": {
          "base_uri": "https://localhost:8080/"
        }
      },
      "source": [
        "df['total_sqft'] = df['total_sqft'].apply(lambda x:x[0:4])\n",
        "df = df[df['total_sqft'].apply(lambda x: x.isnumeric() )]\n",
        "df['total_sqft'] = df['total_sqft'].astype(int)"
      ],
      "execution_count": null,
      "outputs": [
        {
          "output_type": "stream",
          "text": [
            "/usr/local/lib/python3.6/dist-packages/ipykernel_launcher.py:3: SettingWithCopyWarning: \n",
            "A value is trying to be set on a copy of a slice from a DataFrame.\n",
            "Try using .loc[row_indexer,col_indexer] = value instead\n",
            "\n",
            "See the caveats in the documentation: https://pandas.pydata.org/pandas-docs/stable/user_guide/indexing.html#returning-a-view-versus-a-copy\n",
            "  This is separate from the ipykernel package so we can avoid doing imports until\n"
          ],
          "name": "stderr"
        }
      ]
    },
    {
      "cell_type": "code",
      "metadata": {
        "id": "q0Y6UuI19Iy1",
        "outputId": "6cea3c3a-ba01-467f-ee04-5beb9c9d54b9",
        "colab": {
          "base_uri": "https://localhost:8080/",
          "height": 195
        }
      },
      "source": [
        "df.head()"
      ],
      "execution_count": null,
      "outputs": [
        {
          "output_type": "execute_result",
          "data": {
            "text/html": [
              "<div>\n",
              "<style scoped>\n",
              "    .dataframe tbody tr th:only-of-type {\n",
              "        vertical-align: middle;\n",
              "    }\n",
              "\n",
              "    .dataframe tbody tr th {\n",
              "        vertical-align: top;\n",
              "    }\n",
              "\n",
              "    .dataframe thead th {\n",
              "        text-align: right;\n",
              "    }\n",
              "</style>\n",
              "<table border=\"1\" class=\"dataframe\">\n",
              "  <thead>\n",
              "    <tr style=\"text-align: right;\">\n",
              "      <th></th>\n",
              "      <th>area_type</th>\n",
              "      <th>availability</th>\n",
              "      <th>location</th>\n",
              "      <th>size</th>\n",
              "      <th>total_sqft</th>\n",
              "      <th>bath</th>\n",
              "      <th>balcony</th>\n",
              "      <th>price</th>\n",
              "    </tr>\n",
              "  </thead>\n",
              "  <tbody>\n",
              "    <tr>\n",
              "      <th>0</th>\n",
              "      <td>Super built-up  Area</td>\n",
              "      <td>19-Dec</td>\n",
              "      <td>Electronic City Phase II</td>\n",
              "      <td>2</td>\n",
              "      <td>1056</td>\n",
              "      <td>2.0</td>\n",
              "      <td>1.0</td>\n",
              "      <td>39.07</td>\n",
              "    </tr>\n",
              "    <tr>\n",
              "      <th>1</th>\n",
              "      <td>Plot  Area</td>\n",
              "      <td>Ready To Move</td>\n",
              "      <td>Chikka Tirupathi</td>\n",
              "      <td>4</td>\n",
              "      <td>2600</td>\n",
              "      <td>5.0</td>\n",
              "      <td>3.0</td>\n",
              "      <td>120.00</td>\n",
              "    </tr>\n",
              "    <tr>\n",
              "      <th>2</th>\n",
              "      <td>Built-up  Area</td>\n",
              "      <td>Ready To Move</td>\n",
              "      <td>Uttarahalli</td>\n",
              "      <td>3</td>\n",
              "      <td>1440</td>\n",
              "      <td>2.0</td>\n",
              "      <td>3.0</td>\n",
              "      <td>62.00</td>\n",
              "    </tr>\n",
              "    <tr>\n",
              "      <th>3</th>\n",
              "      <td>Super built-up  Area</td>\n",
              "      <td>Ready To Move</td>\n",
              "      <td>Lingadheeranahalli</td>\n",
              "      <td>3</td>\n",
              "      <td>1521</td>\n",
              "      <td>3.0</td>\n",
              "      <td>1.0</td>\n",
              "      <td>95.00</td>\n",
              "    </tr>\n",
              "    <tr>\n",
              "      <th>4</th>\n",
              "      <td>Super built-up  Area</td>\n",
              "      <td>Ready To Move</td>\n",
              "      <td>Kothanur</td>\n",
              "      <td>2</td>\n",
              "      <td>1200</td>\n",
              "      <td>2.0</td>\n",
              "      <td>1.0</td>\n",
              "      <td>51.00</td>\n",
              "    </tr>\n",
              "  </tbody>\n",
              "</table>\n",
              "</div>"
            ],
            "text/plain": [
              "              area_type   availability  ... balcony   price\n",
              "0  Super built-up  Area         19-Dec  ...     1.0   39.07\n",
              "1            Plot  Area  Ready To Move  ...     3.0  120.00\n",
              "2        Built-up  Area  Ready To Move  ...     3.0   62.00\n",
              "3  Super built-up  Area  Ready To Move  ...     1.0   95.00\n",
              "4  Super built-up  Area  Ready To Move  ...     1.0   51.00\n",
              "\n",
              "[5 rows x 8 columns]"
            ]
          },
          "metadata": {
            "tags": []
          },
          "execution_count": 22
        }
      ]
    },
    {
      "cell_type": "markdown",
      "metadata": {
        "id": "6wxM5oxW9TCN"
      },
      "source": [
        "### EDA:"
      ]
    },
    {
      "cell_type": "code",
      "metadata": {
        "id": "qVjW7u609KIq",
        "outputId": "9397d07c-53a2-4551-970d-90eed6960213",
        "colab": {
          "base_uri": "https://localhost:8080/",
          "height": 743
        }
      },
      "source": [
        "sns.pairplot(df,diag_kind = 'kde')"
      ],
      "execution_count": null,
      "outputs": [
        {
          "output_type": "execute_result",
          "data": {
            "text/plain": [
              "<seaborn.axisgrid.PairGrid at 0x7f63273f4588>"
            ]
          },
          "metadata": {
            "tags": []
          },
          "execution_count": 23
        },
        {
          "output_type": "display_data",
          "data": {
            "image/png": "[encoded data removed]",
            "text/plain": [
              "<Figure size 720x720 with 20 Axes>"
            ]
          },
          "metadata": {
            "tags": [],
            "needs_background": "light"
          }
        }
      ]
    },
    {
      "cell_type": "code",
      "metadata": {
        "id": "KE9HXWUm9bzR",
        "outputId": "1e862705-3af6-4192-eea4-657862b7db00",
        "colab": {
          "base_uri": "https://localhost:8080/"
        }
      },
      "source": [
        "df.info()"
      ],
      "execution_count": null,
      "outputs": [
        {
          "output_type": "stream",
          "text": [
            "<class 'pandas.core.frame.DataFrame'>\n",
            "Int64Index: 12647 entries, 0 to 13318\n",
            "Data columns (total 8 columns):\n",
            " #   Column        Non-Null Count  Dtype  \n",
            "---  ------        --------------  -----  \n",
            " 0   area_type     12647 non-null  object \n",
            " 1   availability  12647 non-null  object \n",
            " 2   location      12646 non-null  object \n",
            " 3   size          12647 non-null  object \n",
            " 4   total_sqft    12647 non-null  int64  \n",
            " 5   bath          12647 non-null  float64\n",
            " 6   balcony       12647 non-null  float64\n",
            " 7   price         12647 non-null  float64\n",
            "dtypes: float64(3), int64(1), object(4)\n",
            "memory usage: 889.2+ KB\n"
          ],
          "name": "stdout"
        }
      ]
    },
    {
      "cell_type": "code",
      "metadata": {
        "id": "DQtHymee9b1t",
        "outputId": "2915a6a8-e263-48c9-a1fa-fb77171de2bf",
        "colab": {
          "base_uri": "https://localhost:8080/",
          "height": 287
        }
      },
      "source": [
        "sns.heatmap(df.corr(),annot = True)"
      ],
      "execution_count": null,
      "outputs": [
        {
          "output_type": "execute_result",
          "data": {
            "text/plain": [
              "<matplotlib.axes._subplots.AxesSubplot at 0x7f6324765048>"
            ]
          },
          "metadata": {
            "tags": []
          },
          "execution_count": 25
        },
        {
          "output_type": "display_data",
          "data": {
            "image/png": "[encoded data removed]",
            "text/plain": [
              "<Figure size 432x288 with 2 Axes>"
            ]
          },
          "metadata": {
            "tags": [],
            "needs_background": "light"
          }
        }
      ]
    },
    {
      "cell_type": "code",
      "metadata": {
        "id": "yRq8ejbA9b4c",
        "outputId": "a03b2dbb-6694-407b-c4a4-476c9d473225",
        "colab": {
          "base_uri": "https://localhost:8080/",
          "height": 351
        }
      },
      "source": [
        "plt.figure(figsize = (7,5))\n",
        "sns.boxplot(x = df['area_type'],y=df['price'])"
      ],
      "execution_count": null,
      "outputs": [
        {
          "output_type": "execute_result",
          "data": {
            "text/plain": [
              "<matplotlib.axes._subplots.AxesSubplot at 0x7f632163b400>"
            ]
          },
          "metadata": {
            "tags": []
          },
          "execution_count": 26
        },
        {
          "output_type": "display_data",
          "data": {
            "image/png": "[encoded data removed]",
            "text/plain": [
              "<Figure size 504x360 with 1 Axes>"
            ]
          },
          "metadata": {
            "tags": [],
            "needs_background": "light"
          }
        }
      ]
    },
    {
      "cell_type": "code",
      "metadata": {
        "id": "C2vBktHR9b6p",
        "outputId": "cf00133d-7c5e-4211-f90f-9dc791acd162",
        "colab": {
          "base_uri": "https://localhost:8080/",
          "height": 351
        }
      },
      "source": [
        "plt.figure(figsize = (7,5))\n",
        "sns.boxplot(x = df['size'],y=df['price'])"
      ],
      "execution_count": null,
      "outputs": [
        {
          "output_type": "execute_result",
          "data": {
            "text/plain": [
              "<matplotlib.axes._subplots.AxesSubplot at 0x7f6321541710>"
            ]
          },
          "metadata": {
            "tags": []
          },
          "execution_count": 27
        },
        {
          "output_type": "display_data",
          "data": {
            "image/png": "[encoded data removed]",
            "text/plain": [
              "<Figure size 504x360 with 1 Axes>"
            ]
          },
          "metadata": {
            "tags": [],
            "needs_background": "light"
          }
        }
      ]
    },
    {
      "cell_type": "code",
      "metadata": {
        "id": "Mon94NCz9b9H",
        "outputId": "2cda9dc9-fde2-406d-9fa3-5a15870e3e1b",
        "colab": {
          "base_uri": "https://localhost:8080/",
          "height": 351
        }
      },
      "source": [
        "plt.figure(figsize = (10,5))\n",
        "sns.boxplot(x = df['bath'],y=df['price'])"
      ],
      "execution_count": null,
      "outputs": [
        {
          "output_type": "execute_result",
          "data": {
            "text/plain": [
              "<matplotlib.axes._subplots.AxesSubplot at 0x7f63276255f8>"
            ]
          },
          "metadata": {
            "tags": []
          },
          "execution_count": 28
        },
        {
          "output_type": "display_data",
          "data": {
            "image/png": "[encoded data removed]",
            "text/plain": [
              "<Figure size 720x360 with 1 Axes>"
            ]
          },
          "metadata": {
            "tags": [],
            "needs_background": "light"
          }
        }
      ]
    },
    {
      "cell_type": "code",
      "metadata": {
        "id": "qulvbMYM9b_T",
        "outputId": "2aaa397c-0886-40ef-c3e9-2e9ed0476833",
        "colab": {
          "base_uri": "https://localhost:8080/",
          "height": 351
        }
      },
      "source": [
        "plt.figure(figsize = (10,5))\n",
        "sns.boxplot(x = df['bath'],y=df['price'])"
      ],
      "execution_count": null,
      "outputs": [
        {
          "output_type": "execute_result",
          "data": {
            "text/plain": [
              "<matplotlib.axes._subplots.AxesSubplot at 0x7f6321594ba8>"
            ]
          },
          "metadata": {
            "tags": []
          },
          "execution_count": 29
        },
        {
          "output_type": "display_data",
          "data": {
            "image/png": "[encoded data removed]",
            "text/plain": [
              "<Figure size 720x360 with 1 Axes>"
            ]
          },
          "metadata": {
            "tags": [],
            "needs_background": "light"
          }
        }
      ]
    },
    {
      "cell_type": "code",
      "metadata": {
        "id": "XzspyM9d9cBW",
        "outputId": "35d54565-033e-4280-afcf-c44e353fc848",
        "colab": {
          "base_uri": "https://localhost:8080/",
          "height": 351
        }
      },
      "source": [
        "plt.figure(figsize = (10,5))\n",
        "sns.boxplot(x = df['balcony'],y=df['price'])"
      ],
      "execution_count": null,
      "outputs": [
        {
          "output_type": "execute_result",
          "data": {
            "text/plain": [
              "<matplotlib.axes._subplots.AxesSubplot at 0x7f6321252278>"
            ]
          },
          "metadata": {
            "tags": []
          },
          "execution_count": 30
        },
        {
          "output_type": "display_data",
          "data": {
            "image/png": "[encoded data removed]",
            "text/plain": [
              "<Figure size 720x360 with 1 Axes>"
            ]
          },
          "metadata": {
            "tags": [],
            "needs_background": "light"
          }
        }
      ]
    },
    {
      "cell_type": "markdown",
      "metadata": {
        "id": "XG62DD639oQc"
      },
      "source": [
        "### Feature Engineering"
      ]
    },
    {
      "cell_type": "markdown",
      "metadata": {
        "id": "4on0_WKu9ygi"
      },
      "source": [
        "Availability"
      ]
    },
    {
      "cell_type": "markdown",
      "metadata": {
        "id": "7KoAl1Wh93nI"
      },
      "source": [
        "* Converting the date of availability into 'others' other than 'Ready To Move'"
      ]
    },
    {
      "cell_type": "code",
      "metadata": {
        "id": "JPSE38TW9cGQ",
        "outputId": "58121398-2e65-4ab7-c1d0-e06b17cb1a2b",
        "colab": {
          "base_uri": "https://localhost:8080/"
        }
      },
      "source": [
        "df['availability'] = df['availability'].apply(lambda x: x if (x == 'Ready To Move') else 'Not Ready' )"
      ],
      "execution_count": null,
      "outputs": [
        {
          "output_type": "stream",
          "text": [
            "/usr/local/lib/python3.6/dist-packages/ipykernel_launcher.py:1: SettingWithCopyWarning: \n",
            "A value is trying to be set on a copy of a slice from a DataFrame.\n",
            "Try using .loc[row_indexer,col_indexer] = value instead\n",
            "\n",
            "See the caveats in the documentation: https://pandas.pydata.org/pandas-docs/stable/user_guide/indexing.html#returning-a-view-versus-a-copy\n",
            "  \"\"\"Entry point for launching an IPython kernel.\n"
          ],
          "name": "stderr"
        }
      ]
    },
    {
      "cell_type": "code",
      "metadata": {
        "id": "95K52k__9cId",
        "outputId": "f8df33ae-9793-4642-cd35-726bd34a6985",
        "colab": {
          "base_uri": "https://localhost:8080/",
          "height": 195
        }
      },
      "source": [
        "df.head()"
      ],
      "execution_count": null,
      "outputs": [
        {
          "output_type": "execute_result",
          "data": {
            "text/html": [
              "<div>\n",
              "<style scoped>\n",
              "    .dataframe tbody tr th:only-of-type {\n",
              "        vertical-align: middle;\n",
              "    }\n",
              "\n",
              "    .dataframe tbody tr th {\n",
              "        vertical-align: top;\n",
              "    }\n",
              "\n",
              "    .dataframe thead th {\n",
              "        text-align: right;\n",
              "    }\n",
              "</style>\n",
              "<table border=\"1\" class=\"dataframe\">\n",
              "  <thead>\n",
              "    <tr style=\"text-align: right;\">\n",
              "      <th></th>\n",
              "      <th>area_type</th>\n",
              "      <th>availability</th>\n",
              "      <th>location</th>\n",
              "      <th>size</th>\n",
              "      <th>total_sqft</th>\n",
              "      <th>bath</th>\n",
              "      <th>balcony</th>\n",
              "      <th>price</th>\n",
              "    </tr>\n",
              "  </thead>\n",
              "  <tbody>\n",
              "    <tr>\n",
              "      <th>0</th>\n",
              "      <td>Super built-up  Area</td>\n",
              "      <td>Not Ready</td>\n",
              "      <td>Electronic City Phase II</td>\n",
              "      <td>2</td>\n",
              "      <td>1056</td>\n",
              "      <td>2.0</td>\n",
              "      <td>1.0</td>\n",
              "      <td>39.07</td>\n",
              "    </tr>\n",
              "    <tr>\n",
              "      <th>1</th>\n",
              "      <td>Plot  Area</td>\n",
              "      <td>Ready To Move</td>\n",
              "      <td>Chikka Tirupathi</td>\n",
              "      <td>4</td>\n",
              "      <td>2600</td>\n",
              "      <td>5.0</td>\n",
              "      <td>3.0</td>\n",
              "      <td>120.00</td>\n",
              "    </tr>\n",
              "    <tr>\n",
              "      <th>2</th>\n",
              "      <td>Built-up  Area</td>\n",
              "      <td>Ready To Move</td>\n",
              "      <td>Uttarahalli</td>\n",
              "      <td>3</td>\n",
              "      <td>1440</td>\n",
              "      <td>2.0</td>\n",
              "      <td>3.0</td>\n",
              "      <td>62.00</td>\n",
              "    </tr>\n",
              "    <tr>\n",
              "      <th>3</th>\n",
              "      <td>Super built-up  Area</td>\n",
              "      <td>Ready To Move</td>\n",
              "      <td>Lingadheeranahalli</td>\n",
              "      <td>3</td>\n",
              "      <td>1521</td>\n",
              "      <td>3.0</td>\n",
              "      <td>1.0</td>\n",
              "      <td>95.00</td>\n",
              "    </tr>\n",
              "    <tr>\n",
              "      <th>4</th>\n",
              "      <td>Super built-up  Area</td>\n",
              "      <td>Ready To Move</td>\n",
              "      <td>Kothanur</td>\n",
              "      <td>2</td>\n",
              "      <td>1200</td>\n",
              "      <td>2.0</td>\n",
              "      <td>1.0</td>\n",
              "      <td>51.00</td>\n",
              "    </tr>\n",
              "  </tbody>\n",
              "</table>\n",
              "</div>"
            ],
            "text/plain": [
              "              area_type   availability  ... balcony   price\n",
              "0  Super built-up  Area      Not Ready  ...     1.0   39.07\n",
              "1            Plot  Area  Ready To Move  ...     3.0  120.00\n",
              "2        Built-up  Area  Ready To Move  ...     3.0   62.00\n",
              "3  Super built-up  Area  Ready To Move  ...     1.0   95.00\n",
              "4  Super built-up  Area  Ready To Move  ...     1.0   51.00\n",
              "\n",
              "[5 rows x 8 columns]"
            ]
          },
          "metadata": {
            "tags": []
          },
          "execution_count": 32
        }
      ]
    },
    {
      "cell_type": "code",
      "metadata": {
        "id": "hVUQGxHD9cL7",
        "outputId": "c90bbca6-84fd-4fd6-fc19-04f8450a24e0",
        "colab": {
          "base_uri": "https://localhost:8080/"
        }
      },
      "source": [
        "df['availability'].value_counts()"
      ],
      "execution_count": null,
      "outputs": [
        {
          "output_type": "execute_result",
          "data": {
            "text/plain": [
              "Ready To Move    10091\n",
              "Not Ready         2556\n",
              "Name: availability, dtype: int64"
            ]
          },
          "metadata": {
            "tags": []
          },
          "execution_count": 34
        }
      ]
    },
    {
      "cell_type": "markdown",
      "metadata": {
        "id": "HmRXb6dQ-A-a"
      },
      "source": [
        "Bath"
      ]
    },
    {
      "cell_type": "markdown",
      "metadata": {
        "id": "YKusIzSZ-GLB"
      },
      "source": [
        "* since there are less no of reccords in bathrooms greater than 9 , it is removed"
      ]
    },
    {
      "cell_type": "code",
      "metadata": {
        "id": "PZpiW9Py99Sw",
        "outputId": "6e6f51b8-9964-4829-c633-eedc97858114",
        "colab": {
          "base_uri": "https://localhost:8080/"
        }
      },
      "source": [
        "df['bath'].value_counts()"
      ],
      "execution_count": null,
      "outputs": [
        {
          "output_type": "execute_result",
          "data": {
            "text/plain": [
              "2.0     6546\n",
              "3.0     3167\n",
              "4.0     1194\n",
              "1.0      714\n",
              "5.0      518\n",
              "6.0      268\n",
              "7.0      102\n",
              "8.0       64\n",
              "9.0       41\n",
              "10.0      13\n",
              "12.0       7\n",
              "13.0       3\n",
              "11.0       3\n",
              "16.0       2\n",
              "27.0       1\n",
              "18.0       1\n",
              "40.0       1\n",
              "15.0       1\n",
              "14.0       1\n",
              "Name: bath, dtype: int64"
            ]
          },
          "metadata": {
            "tags": []
          },
          "execution_count": 35
        }
      ]
    },
    {
      "cell_type": "code",
      "metadata": {
        "id": "UGFXb7z8-Jy_"
      },
      "source": [
        "df = df[df['bath'] < 10.0]"
      ],
      "execution_count": null,
      "outputs": []
    },
    {
      "cell_type": "markdown",
      "metadata": {
        "id": "ONGD27Ue-M3m"
      },
      "source": [
        "Location"
      ]
    },
    {
      "cell_type": "code",
      "metadata": {
        "id": "dKguBghu-LNJ"
      },
      "source": [
        "value_counts = pd.DataFrame(df['location'].value_counts())"
      ],
      "execution_count": null,
      "outputs": []
    },
    {
      "cell_type": "code",
      "metadata": {
        "id": "zWSlVE11-RkF"
      },
      "source": [
        "value_counts = value_counts[(value_counts['location']>25)].index"
      ],
      "execution_count": null,
      "outputs": []
    },
    {
      "cell_type": "code",
      "metadata": {
        "id": "1CphphSB-RmB",
        "outputId": "bd7cdaf2-959c-4fe3-89e6-1d1cf991984a",
        "colab": {
          "base_uri": "https://localhost:8080/"
        }
      },
      "source": [
        "value_counts"
      ],
      "execution_count": null,
      "outputs": [
        {
          "output_type": "execute_result",
          "data": {
            "text/plain": [
              "Index(['Whitefield', 'Sarjapur  Road', 'Electronic City', 'Kanakpura Road',\n",
              "       'Thanisandra', 'Yelahanka', 'Marathahalli', 'Hebbal',\n",
              "       'Raja Rajeshwari Nagar', 'Uttarahalli',\n",
              "       ...\n",
              "       'Ananth Nagar', 'Kammasandra', 'Padmanabhanagar', 'Anandapura',\n",
              "       'Kodichikkanahalli', 'Somasundara Palya', 'Gubbalala',\n",
              "       'Bommasandra Industrial Area', 'Ambalipura', 'Kothannur'],\n",
              "      dtype='object', length=111)"
            ]
          },
          "metadata": {
            "tags": []
          },
          "execution_count": 42
        }
      ]
    },
    {
      "cell_type": "markdown",
      "metadata": {
        "id": "Vm2zWrOE-aXl"
      },
      "source": [
        "* since we have more unique values present in the lcoation column ,we ar converting the least appeared values to 'others'"
      ]
    },
    {
      "cell_type": "code",
      "metadata": {
        "id": "_UyJt_31-Rpn"
      },
      "source": [
        "df['location']= df['location'].apply(lambda x : x if x in value_counts else 'others') "
      ],
      "execution_count": null,
      "outputs": []
    },
    {
      "cell_type": "code",
      "metadata": {
        "id": "oqR2ye5h-eqQ",
        "outputId": "19dfc51d-e3e8-41ae-c82d-1cdef9d070ff",
        "colab": {
          "base_uri": "https://localhost:8080/",
          "height": 195
        }
      },
      "source": [
        "df.head()"
      ],
      "execution_count": null,
      "outputs": [
        {
          "output_type": "execute_result",
          "data": {
            "text/html": [
              "<div>\n",
              "<style scoped>\n",
              "    .dataframe tbody tr th:only-of-type {\n",
              "        vertical-align: middle;\n",
              "    }\n",
              "\n",
              "    .dataframe tbody tr th {\n",
              "        vertical-align: top;\n",
              "    }\n",
              "\n",
              "    .dataframe thead th {\n",
              "        text-align: right;\n",
              "    }\n",
              "</style>\n",
              "<table border=\"1\" class=\"dataframe\">\n",
              "  <thead>\n",
              "    <tr style=\"text-align: right;\">\n",
              "      <th></th>\n",
              "      <th>area_type</th>\n",
              "      <th>availability</th>\n",
              "      <th>location</th>\n",
              "      <th>size</th>\n",
              "      <th>total_sqft</th>\n",
              "      <th>bath</th>\n",
              "      <th>balcony</th>\n",
              "      <th>price</th>\n",
              "    </tr>\n",
              "  </thead>\n",
              "  <tbody>\n",
              "    <tr>\n",
              "      <th>0</th>\n",
              "      <td>Super built-up  Area</td>\n",
              "      <td>Not Ready</td>\n",
              "      <td>Electronic City Phase II</td>\n",
              "      <td>2</td>\n",
              "      <td>1056</td>\n",
              "      <td>2.0</td>\n",
              "      <td>1.0</td>\n",
              "      <td>39.07</td>\n",
              "    </tr>\n",
              "    <tr>\n",
              "      <th>1</th>\n",
              "      <td>Plot  Area</td>\n",
              "      <td>Ready To Move</td>\n",
              "      <td>others</td>\n",
              "      <td>4</td>\n",
              "      <td>2600</td>\n",
              "      <td>5.0</td>\n",
              "      <td>3.0</td>\n",
              "      <td>120.00</td>\n",
              "    </tr>\n",
              "    <tr>\n",
              "      <th>2</th>\n",
              "      <td>Built-up  Area</td>\n",
              "      <td>Ready To Move</td>\n",
              "      <td>Uttarahalli</td>\n",
              "      <td>3</td>\n",
              "      <td>1440</td>\n",
              "      <td>2.0</td>\n",
              "      <td>3.0</td>\n",
              "      <td>62.00</td>\n",
              "    </tr>\n",
              "    <tr>\n",
              "      <th>3</th>\n",
              "      <td>Super built-up  Area</td>\n",
              "      <td>Ready To Move</td>\n",
              "      <td>others</td>\n",
              "      <td>3</td>\n",
              "      <td>1521</td>\n",
              "      <td>3.0</td>\n",
              "      <td>1.0</td>\n",
              "      <td>95.00</td>\n",
              "    </tr>\n",
              "    <tr>\n",
              "      <th>4</th>\n",
              "      <td>Super built-up  Area</td>\n",
              "      <td>Ready To Move</td>\n",
              "      <td>Kothanur</td>\n",
              "      <td>2</td>\n",
              "      <td>1200</td>\n",
              "      <td>2.0</td>\n",
              "      <td>1.0</td>\n",
              "      <td>51.00</td>\n",
              "    </tr>\n",
              "  </tbody>\n",
              "</table>\n",
              "</div>"
            ],
            "text/plain": [
              "              area_type   availability  ... balcony   price\n",
              "0  Super built-up  Area      Not Ready  ...     1.0   39.07\n",
              "1            Plot  Area  Ready To Move  ...     3.0  120.00\n",
              "2        Built-up  Area  Ready To Move  ...     3.0   62.00\n",
              "3  Super built-up  Area  Ready To Move  ...     1.0   95.00\n",
              "4  Super built-up  Area  Ready To Move  ...     1.0   51.00\n",
              "\n",
              "[5 rows x 8 columns]"
            ]
          },
          "metadata": {
            "tags": []
          },
          "execution_count": 45
        }
      ]
    },
    {
      "cell_type": "markdown",
      "metadata": {
        "id": "3Ah-Yo_M-jI1"
      },
      "source": [
        "### Encoding"
      ]
    },
    {
      "cell_type": "code",
      "metadata": {
        "id": "9zJbqBB--esn"
      },
      "source": [
        "df_encoded = pd.get_dummies(df,columns = ['area_type','availability','location','size','bath','balcony'],drop_first = True)"
      ],
      "execution_count": null,
      "outputs": []
    },
    {
      "cell_type": "code",
      "metadata": {
        "id": "93IKLjto-ewD",
        "outputId": "6538db3c-e441-4af2-ef01-09f9d0441e94",
        "colab": {
          "base_uri": "https://localhost:8080/"
        }
      },
      "source": [
        "df_encoded.info()"
      ],
      "execution_count": null,
      "outputs": [
        {
          "output_type": "stream",
          "text": [
            "<class 'pandas.core.frame.DataFrame'>\n",
            "Int64Index: 12614 entries, 0 to 13318\n",
            "Columns: 136 entries, total_sqft to balcony_3.0\n",
            "dtypes: float64(1), int64(1), uint8(134)\n",
            "memory usage: 1.9 MB\n"
          ],
          "name": "stdout"
        }
      ]
    },
    {
      "cell_type": "code",
      "metadata": {
        "id": "icG7GQbZ-sE6",
        "outputId": "16bef80d-2dde-4516-b1e3-2c0ee3b3ac19",
        "colab": {
          "base_uri": "https://localhost:8080/",
          "height": 278
        }
      },
      "source": [
        "df_encoded.head()"
      ],
      "execution_count": null,
      "outputs": [
        {
          "output_type": "execute_result",
          "data": {
            "text/html": [
              "<div>\n",
              "<style scoped>\n",
              "    .dataframe tbody tr th:only-of-type {\n",
              "        vertical-align: middle;\n",
              "    }\n",
              "\n",
              "    .dataframe tbody tr th {\n",
              "        vertical-align: top;\n",
              "    }\n",
              "\n",
              "    .dataframe thead th {\n",
              "        text-align: right;\n",
              "    }\n",
              "</style>\n",
              "<table border=\"1\" class=\"dataframe\">\n",
              "  <thead>\n",
              "    <tr style=\"text-align: right;\">\n",
              "      <th></th>\n",
              "      <th>total_sqft</th>\n",
              "      <th>price</th>\n",
              "      <th>area_type_Carpet  Area</th>\n",
              "      <th>area_type_Plot  Area</th>\n",
              "      <th>area_type_Super built-up  Area</th>\n",
              "      <th>availability_Ready To Move</th>\n",
              "      <th>location_7th Phase JP Nagar</th>\n",
              "      <th>location_8th Phase JP Nagar</th>\n",
              "      <th>location_9th Phase JP Nagar</th>\n",
              "      <th>location_Akshaya Nagar</th>\n",
              "      <th>location_Ambalipura</th>\n",
              "      <th>location_Ambedkar Nagar</th>\n",
              "      <th>location_Anandapura</th>\n",
              "      <th>location_Ananth Nagar</th>\n",
              "      <th>location_Anekal</th>\n",
              "      <th>location_Attibele</th>\n",
              "      <th>location_BTM 2nd Stage</th>\n",
              "      <th>location_Balagere</th>\n",
              "      <th>location_Banashankari</th>\n",
              "      <th>location_Bannerghatta Road</th>\n",
              "      <th>location_Basavangudi</th>\n",
              "      <th>location_Begur Road</th>\n",
              "      <th>location_Bellandur</th>\n",
              "      <th>location_Bhoganhalli</th>\n",
              "      <th>location_Bisuvanahalli</th>\n",
              "      <th>location_Bommanahalli</th>\n",
              "      <th>location_Bommasandra</th>\n",
              "      <th>location_Bommasandra Industrial Area</th>\n",
              "      <th>location_Brookefield</th>\n",
              "      <th>location_Budigere</th>\n",
              "      <th>location_CV Raman Nagar</th>\n",
              "      <th>location_Chandapura</th>\n",
              "      <th>location_Channasandra</th>\n",
              "      <th>location_Chikkalasandra</th>\n",
              "      <th>location_Devanahalli</th>\n",
              "      <th>location_Dodda Nekkundi</th>\n",
              "      <th>location_Doddathoguru</th>\n",
              "      <th>location_Electronic City</th>\n",
              "      <th>location_Electronic City Phase II</th>\n",
              "      <th>location_Electronics City Phase 1</th>\n",
              "      <th>...</th>\n",
              "      <th>location_Ramamurthy Nagar</th>\n",
              "      <th>location_Sahakara Nagar</th>\n",
              "      <th>location_Sarjapur</th>\n",
              "      <th>location_Sarjapur  Road</th>\n",
              "      <th>location_Somasundara Palya</th>\n",
              "      <th>location_Subramanyapura</th>\n",
              "      <th>location_TC Palaya</th>\n",
              "      <th>location_Talaghattapura</th>\n",
              "      <th>location_Thanisandra</th>\n",
              "      <th>location_Thigalarapalya</th>\n",
              "      <th>location_Tumkur Road</th>\n",
              "      <th>location_Uttarahalli</th>\n",
              "      <th>location_Varthur</th>\n",
              "      <th>location_Vidyaranyapura</th>\n",
              "      <th>location_Vijayanagar</th>\n",
              "      <th>location_Vittasandra</th>\n",
              "      <th>location_Whitefield</th>\n",
              "      <th>location_Yelahanka</th>\n",
              "      <th>location_Yelahanka New Town</th>\n",
              "      <th>location_Yeshwanthpur</th>\n",
              "      <th>location_others</th>\n",
              "      <th>size_2</th>\n",
              "      <th>size_3</th>\n",
              "      <th>size_4</th>\n",
              "      <th>size_5</th>\n",
              "      <th>size_6</th>\n",
              "      <th>size_7</th>\n",
              "      <th>size_8</th>\n",
              "      <th>size_9</th>\n",
              "      <th>bath_2.0</th>\n",
              "      <th>bath_3.0</th>\n",
              "      <th>bath_4.0</th>\n",
              "      <th>bath_5.0</th>\n",
              "      <th>bath_6.0</th>\n",
              "      <th>bath_7.0</th>\n",
              "      <th>bath_8.0</th>\n",
              "      <th>bath_9.0</th>\n",
              "      <th>balcony_1.0</th>\n",
              "      <th>balcony_2.0</th>\n",
              "      <th>balcony_3.0</th>\n",
              "    </tr>\n",
              "  </thead>\n",
              "  <tbody>\n",
              "    <tr>\n",
              "      <th>0</th>\n",
              "      <td>1056</td>\n",
              "      <td>39.07</td>\n",
              "      <td>0</td>\n",
              "      <td>0</td>\n",
              "      <td>1</td>\n",
              "      <td>0</td>\n",
              "      <td>0</td>\n",
              "      <td>0</td>\n",
              "      <td>0</td>\n",
              "      <td>0</td>\n",
              "      <td>0</td>\n",
              "      <td>0</td>\n",
              "      <td>0</td>\n",
              "      <td>0</td>\n",
              "      <td>0</td>\n",
              "      <td>0</td>\n",
              "      <td>0</td>\n",
              "      <td>0</td>\n",
              "      <td>0</td>\n",
              "      <td>0</td>\n",
              "      <td>0</td>\n",
              "      <td>0</td>\n",
              "      <td>0</td>\n",
              "      <td>0</td>\n",
              "      <td>0</td>\n",
              "      <td>0</td>\n",
              "      <td>0</td>\n",
              "      <td>0</td>\n",
              "      <td>0</td>\n",
              "      <td>0</td>\n",
              "      <td>0</td>\n",
              "      <td>0</td>\n",
              "      <td>0</td>\n",
              "      <td>0</td>\n",
              "      <td>0</td>\n",
              "      <td>0</td>\n",
              "      <td>0</td>\n",
              "      <td>0</td>\n",
              "      <td>1</td>\n",
              "      <td>0</td>\n",
              "      <td>...</td>\n",
              "      <td>0</td>\n",
              "      <td>0</td>\n",
              "      <td>0</td>\n",
              "      <td>0</td>\n",
              "      <td>0</td>\n",
              "      <td>0</td>\n",
              "      <td>0</td>\n",
              "      <td>0</td>\n",
              "      <td>0</td>\n",
              "      <td>0</td>\n",
              "      <td>0</td>\n",
              "      <td>0</td>\n",
              "      <td>0</td>\n",
              "      <td>0</td>\n",
              "      <td>0</td>\n",
              "      <td>0</td>\n",
              "      <td>0</td>\n",
              "      <td>0</td>\n",
              "      <td>0</td>\n",
              "      <td>0</td>\n",
              "      <td>0</td>\n",
              "      <td>1</td>\n",
              "      <td>0</td>\n",
              "      <td>0</td>\n",
              "      <td>0</td>\n",
              "      <td>0</td>\n",
              "      <td>0</td>\n",
              "      <td>0</td>\n",
              "      <td>0</td>\n",
              "      <td>1</td>\n",
              "      <td>0</td>\n",
              "      <td>0</td>\n",
              "      <td>0</td>\n",
              "      <td>0</td>\n",
              "      <td>0</td>\n",
              "      <td>0</td>\n",
              "      <td>0</td>\n",
              "      <td>1</td>\n",
              "      <td>0</td>\n",
              "      <td>0</td>\n",
              "    </tr>\n",
              "    <tr>\n",
              "      <th>1</th>\n",
              "      <td>2600</td>\n",
              "      <td>120.00</td>\n",
              "      <td>0</td>\n",
              "      <td>1</td>\n",
              "      <td>0</td>\n",
              "      <td>1</td>\n",
              "      <td>0</td>\n",
              "      <td>0</td>\n",
              "      <td>0</td>\n",
              "      <td>0</td>\n",
              "      <td>0</td>\n",
              "      <td>0</td>\n",
              "      <td>0</td>\n",
              "      <td>0</td>\n",
              "      <td>0</td>\n",
              "      <td>0</td>\n",
              "      <td>0</td>\n",
              "      <td>0</td>\n",
              "      <td>0</td>\n",
              "      <td>0</td>\n",
              "      <td>0</td>\n",
              "      <td>0</td>\n",
              "      <td>0</td>\n",
              "      <td>0</td>\n",
              "      <td>0</td>\n",
              "      <td>0</td>\n",
              "      <td>0</td>\n",
              "      <td>0</td>\n",
              "      <td>0</td>\n",
              "      <td>0</td>\n",
              "      <td>0</td>\n",
              "      <td>0</td>\n",
              "      <td>0</td>\n",
              "      <td>0</td>\n",
              "      <td>0</td>\n",
              "      <td>0</td>\n",
              "      <td>0</td>\n",
              "      <td>0</td>\n",
              "      <td>0</td>\n",
              "      <td>0</td>\n",
              "      <td>...</td>\n",
              "      <td>0</td>\n",
              "      <td>0</td>\n",
              "      <td>0</td>\n",
              "      <td>0</td>\n",
              "      <td>0</td>\n",
              "      <td>0</td>\n",
              "      <td>0</td>\n",
              "      <td>0</td>\n",
              "      <td>0</td>\n",
              "      <td>0</td>\n",
              "      <td>0</td>\n",
              "      <td>0</td>\n",
              "      <td>0</td>\n",
              "      <td>0</td>\n",
              "      <td>0</td>\n",
              "      <td>0</td>\n",
              "      <td>0</td>\n",
              "      <td>0</td>\n",
              "      <td>0</td>\n",
              "      <td>0</td>\n",
              "      <td>1</td>\n",
              "      <td>0</td>\n",
              "      <td>0</td>\n",
              "      <td>1</td>\n",
              "      <td>0</td>\n",
              "      <td>0</td>\n",
              "      <td>0</td>\n",
              "      <td>0</td>\n",
              "      <td>0</td>\n",
              "      <td>0</td>\n",
              "      <td>0</td>\n",
              "      <td>0</td>\n",
              "      <td>1</td>\n",
              "      <td>0</td>\n",
              "      <td>0</td>\n",
              "      <td>0</td>\n",
              "      <td>0</td>\n",
              "      <td>0</td>\n",
              "      <td>0</td>\n",
              "      <td>1</td>\n",
              "    </tr>\n",
              "    <tr>\n",
              "      <th>2</th>\n",
              "      <td>1440</td>\n",
              "      <td>62.00</td>\n",
              "      <td>0</td>\n",
              "      <td>0</td>\n",
              "      <td>0</td>\n",
              "      <td>1</td>\n",
              "      <td>0</td>\n",
              "      <td>0</td>\n",
              "      <td>0</td>\n",
              "      <td>0</td>\n",
              "      <td>0</td>\n",
              "      <td>0</td>\n",
              "      <td>0</td>\n",
              "      <td>0</td>\n",
              "      <td>0</td>\n",
              "      <td>0</td>\n",
              "      <td>0</td>\n",
              "      <td>0</td>\n",
              "      <td>0</td>\n",
              "      <td>0</td>\n",
              "      <td>0</td>\n",
              "      <td>0</td>\n",
              "      <td>0</td>\n",
              "      <td>0</td>\n",
              "      <td>0</td>\n",
              "      <td>0</td>\n",
              "      <td>0</td>\n",
              "      <td>0</td>\n",
              "      <td>0</td>\n",
              "      <td>0</td>\n",
              "      <td>0</td>\n",
              "      <td>0</td>\n",
              "      <td>0</td>\n",
              "      <td>0</td>\n",
              "      <td>0</td>\n",
              "      <td>0</td>\n",
              "      <td>0</td>\n",
              "      <td>0</td>\n",
              "      <td>0</td>\n",
              "      <td>0</td>\n",
              "      <td>...</td>\n",
              "      <td>0</td>\n",
              "      <td>0</td>\n",
              "      <td>0</td>\n",
              "      <td>0</td>\n",
              "      <td>0</td>\n",
              "      <td>0</td>\n",
              "      <td>0</td>\n",
              "      <td>0</td>\n",
              "      <td>0</td>\n",
              "      <td>0</td>\n",
              "      <td>0</td>\n",
              "      <td>1</td>\n",
              "      <td>0</td>\n",
              "      <td>0</td>\n",
              "      <td>0</td>\n",
              "      <td>0</td>\n",
              "      <td>0</td>\n",
              "      <td>0</td>\n",
              "      <td>0</td>\n",
              "      <td>0</td>\n",
              "      <td>0</td>\n",
              "      <td>0</td>\n",
              "      <td>1</td>\n",
              "      <td>0</td>\n",
              "      <td>0</td>\n",
              "      <td>0</td>\n",
              "      <td>0</td>\n",
              "      <td>0</td>\n",
              "      <td>0</td>\n",
              "      <td>1</td>\n",
              "      <td>0</td>\n",
              "      <td>0</td>\n",
              "      <td>0</td>\n",
              "      <td>0</td>\n",
              "      <td>0</td>\n",
              "      <td>0</td>\n",
              "      <td>0</td>\n",
              "      <td>0</td>\n",
              "      <td>0</td>\n",
              "      <td>1</td>\n",
              "    </tr>\n",
              "    <tr>\n",
              "      <th>3</th>\n",
              "      <td>1521</td>\n",
              "      <td>95.00</td>\n",
              "      <td>0</td>\n",
              "      <td>0</td>\n",
              "      <td>1</td>\n",
              "      <td>1</td>\n",
              "      <td>0</td>\n",
              "      <td>0</td>\n",
              "      <td>0</td>\n",
              "      <td>0</td>\n",
              "      <td>0</td>\n",
              "      <td>0</td>\n",
              "      <td>0</td>\n",
              "      <td>0</td>\n",
              "      <td>0</td>\n",
              "      <td>0</td>\n",
              "      <td>0</td>\n",
              "      <td>0</td>\n",
              "      <td>0</td>\n",
              "      <td>0</td>\n",
              "      <td>0</td>\n",
              "      <td>0</td>\n",
              "      <td>0</td>\n",
              "      <td>0</td>\n",
              "      <td>0</td>\n",
              "      <td>0</td>\n",
              "      <td>0</td>\n",
              "      <td>0</td>\n",
              "      <td>0</td>\n",
              "      <td>0</td>\n",
              "      <td>0</td>\n",
              "      <td>0</td>\n",
              "      <td>0</td>\n",
              "      <td>0</td>\n",
              "      <td>0</td>\n",
              "      <td>0</td>\n",
              "      <td>0</td>\n",
              "      <td>0</td>\n",
              "      <td>0</td>\n",
              "      <td>0</td>\n",
              "      <td>...</td>\n",
              "      <td>0</td>\n",
              "      <td>0</td>\n",
              "      <td>0</td>\n",
              "      <td>0</td>\n",
              "      <td>0</td>\n",
              "      <td>0</td>\n",
              "      <td>0</td>\n",
              "      <td>0</td>\n",
              "      <td>0</td>\n",
              "      <td>0</td>\n",
              "      <td>0</td>\n",
              "      <td>0</td>\n",
              "      <td>0</td>\n",
              "      <td>0</td>\n",
              "      <td>0</td>\n",
              "      <td>0</td>\n",
              "      <td>0</td>\n",
              "      <td>0</td>\n",
              "      <td>0</td>\n",
              "      <td>0</td>\n",
              "      <td>1</td>\n",
              "      <td>0</td>\n",
              "      <td>1</td>\n",
              "      <td>0</td>\n",
              "      <td>0</td>\n",
              "      <td>0</td>\n",
              "      <td>0</td>\n",
              "      <td>0</td>\n",
              "      <td>0</td>\n",
              "      <td>0</td>\n",
              "      <td>1</td>\n",
              "      <td>0</td>\n",
              "      <td>0</td>\n",
              "      <td>0</td>\n",
              "      <td>0</td>\n",
              "      <td>0</td>\n",
              "      <td>0</td>\n",
              "      <td>1</td>\n",
              "      <td>0</td>\n",
              "      <td>0</td>\n",
              "    </tr>\n",
              "    <tr>\n",
              "      <th>4</th>\n",
              "      <td>1200</td>\n",
              "      <td>51.00</td>\n",
              "      <td>0</td>\n",
              "      <td>0</td>\n",
              "      <td>1</td>\n",
              "      <td>1</td>\n",
              "      <td>0</td>\n",
              "      <td>0</td>\n",
              "      <td>0</td>\n",
              "      <td>0</td>\n",
              "      <td>0</td>\n",
              "      <td>0</td>\n",
              "      <td>0</td>\n",
              "      <td>0</td>\n",
              "      <td>0</td>\n",
              "      <td>0</td>\n",
              "      <td>0</td>\n",
              "      <td>0</td>\n",
              "      <td>0</td>\n",
              "      <td>0</td>\n",
              "      <td>0</td>\n",
              "      <td>0</td>\n",
              "      <td>0</td>\n",
              "      <td>0</td>\n",
              "      <td>0</td>\n",
              "      <td>0</td>\n",
              "      <td>0</td>\n",
              "      <td>0</td>\n",
              "      <td>0</td>\n",
              "      <td>0</td>\n",
              "      <td>0</td>\n",
              "      <td>0</td>\n",
              "      <td>0</td>\n",
              "      <td>0</td>\n",
              "      <td>0</td>\n",
              "      <td>0</td>\n",
              "      <td>0</td>\n",
              "      <td>0</td>\n",
              "      <td>0</td>\n",
              "      <td>0</td>\n",
              "      <td>...</td>\n",
              "      <td>0</td>\n",
              "      <td>0</td>\n",
              "      <td>0</td>\n",
              "      <td>0</td>\n",
              "      <td>0</td>\n",
              "      <td>0</td>\n",
              "      <td>0</td>\n",
              "      <td>0</td>\n",
              "      <td>0</td>\n",
              "      <td>0</td>\n",
              "      <td>0</td>\n",
              "      <td>0</td>\n",
              "      <td>0</td>\n",
              "      <td>0</td>\n",
              "      <td>0</td>\n",
              "      <td>0</td>\n",
              "      <td>0</td>\n",
              "      <td>0</td>\n",
              "      <td>0</td>\n",
              "      <td>0</td>\n",
              "      <td>0</td>\n",
              "      <td>1</td>\n",
              "      <td>0</td>\n",
              "      <td>0</td>\n",
              "      <td>0</td>\n",
              "      <td>0</td>\n",
              "      <td>0</td>\n",
              "      <td>0</td>\n",
              "      <td>0</td>\n",
              "      <td>1</td>\n",
              "      <td>0</td>\n",
              "      <td>0</td>\n",
              "      <td>0</td>\n",
              "      <td>0</td>\n",
              "      <td>0</td>\n",
              "      <td>0</td>\n",
              "      <td>0</td>\n",
              "      <td>1</td>\n",
              "      <td>0</td>\n",
              "      <td>0</td>\n",
              "    </tr>\n",
              "  </tbody>\n",
              "</table>\n",
              "<p>5 rows × 136 columns</p>\n",
              "</div>"
            ],
            "text/plain": [
              "   total_sqft   price  ...  balcony_2.0  balcony_3.0\n",
              "0        1056   39.07  ...            0            0\n",
              "1        2600  120.00  ...            0            1\n",
              "2        1440   62.00  ...            0            1\n",
              "3        1521   95.00  ...            0            0\n",
              "4        1200   51.00  ...            0            0\n",
              "\n",
              "[5 rows x 136 columns]"
            ]
          },
          "metadata": {
            "tags": []
          },
          "execution_count": 48
        }
      ]
    },
    {
      "cell_type": "markdown",
      "metadata": {
        "id": "xA6hGVoB-wc8"
      },
      "source": [
        "### Model - Linear Regression"
      ]
    },
    {
      "cell_type": "code",
      "metadata": {
        "id": "8H9ijyLZ-6Fk"
      },
      "source": [
        "import statsmodels.api as sm"
      ],
      "execution_count": null,
      "outputs": []
    },
    {
      "cell_type": "code",
      "metadata": {
        "id": "T7LoFN_f_CbF"
      },
      "source": [
        "xc =sm.add_constant(X)\n",
        "model = sm.OLS(y,xc).fit()"
      ],
      "execution_count": null,
      "outputs": []
    },
    {
      "cell_type": "code",
      "metadata": {
        "id": "ImB2J4Jx_DRw",
        "outputId": "adc88312-acc7-4ec8-dc8f-206cc3d6fe43",
        "colab": {
          "base_uri": "https://localhost:8080/",
          "height": 1000
        }
      },
      "source": [
        "model.summary()"
      ],
      "execution_count": null,
      "outputs": [
        {
          "output_type": "execute_result",
          "data": {
            "text/html": [
              "<table class=\"simpletable\">\n",
              "<caption>OLS Regression Results</caption>\n",
              "<tr>\n",
              "  <th>Dep. Variable:</th>          <td>price</td>      <th>  R-squared:         </th> <td>   0.532</td> \n",
              "</tr>\n",
              "<tr>\n",
              "  <th>Model:</th>                   <td>OLS</td>       <th>  Adj. R-squared:    </th> <td>   0.527</td> \n",
              "</tr>\n",
              "<tr>\n",
              "  <th>Method:</th>             <td>Least Squares</td>  <th>  F-statistic:       </th> <td>   105.1</td> \n",
              "</tr>\n",
              "<tr>\n",
              "  <th>Date:</th>             <td>Fri, 13 Nov 2020</td> <th>  Prob (F-statistic):</th>  <td>  0.00</td>  \n",
              "</tr>\n",
              "<tr>\n",
              "  <th>Time:</th>                 <td>09:47:21</td>     <th>  Log-Likelihood:    </th> <td> -76193.</td> \n",
              "</tr>\n",
              "<tr>\n",
              "  <th>No. Observations:</th>      <td> 12614</td>      <th>  AIC:               </th> <td>1.527e+05</td>\n",
              "</tr>\n",
              "<tr>\n",
              "  <th>Df Residuals:</th>          <td> 12478</td>      <th>  BIC:               </th> <td>1.537e+05</td>\n",
              "</tr>\n",
              "<tr>\n",
              "  <th>Df Model:</th>              <td>   135</td>      <th>                     </th>     <td> </td>    \n",
              "</tr>\n",
              "<tr>\n",
              "  <th>Covariance Type:</th>      <td>nonrobust</td>    <th>                     </th>     <td> </td>    \n",
              "</tr>\n",
              "</table>\n",
              "<table class=\"simpletable\">\n",
              "<tr>\n",
              "                    <td></td>                      <th>coef</th>     <th>std err</th>      <th>t</th>      <th>P>|t|</th>  <th>[0.025</th>    <th>0.975]</th>  \n",
              "</tr>\n",
              "<tr>\n",
              "  <th>const</th>                                <td>  -65.2294</td> <td>   18.050</td> <td>   -3.614</td> <td> 0.000</td> <td> -100.610</td> <td>  -29.849</td>\n",
              "</tr>\n",
              "<tr>\n",
              "  <th>total_sqft</th>                           <td>    0.1072</td> <td>    0.001</td> <td>   73.172</td> <td> 0.000</td> <td>    0.104</td> <td>    0.110</td>\n",
              "</tr>\n",
              "<tr>\n",
              "  <th>area_type_Carpet  Area</th>               <td>   14.9423</td> <td>   11.880</td> <td>    1.258</td> <td> 0.209</td> <td>   -8.345</td> <td>   38.230</td>\n",
              "</tr>\n",
              "<tr>\n",
              "  <th>area_type_Plot  Area</th>                 <td>   77.8756</td> <td>    3.473</td> <td>   22.422</td> <td> 0.000</td> <td>   71.067</td> <td>   84.684</td>\n",
              "</tr>\n",
              "<tr>\n",
              "  <th>area_type_Super built-up  Area</th>       <td>    8.6918</td> <td>    2.508</td> <td>    3.466</td> <td> 0.001</td> <td>    3.776</td> <td>   13.607</td>\n",
              "</tr>\n",
              "<tr>\n",
              "  <th>availability_Ready To Move</th>           <td>   -7.2044</td> <td>    2.490</td> <td>   -2.893</td> <td> 0.004</td> <td>  -12.085</td> <td>   -2.324</td>\n",
              "</tr>\n",
              "<tr>\n",
              "  <th>location_7th Phase JP Nagar</th>          <td>   14.7465</td> <td>   19.240</td> <td>    0.766</td> <td> 0.443</td> <td>  -22.967</td> <td>   52.460</td>\n",
              "</tr>\n",
              "<tr>\n",
              "  <th>location_8th Phase JP Nagar</th>          <td>    3.1451</td> <td>   21.940</td> <td>    0.143</td> <td> 0.886</td> <td>  -39.860</td> <td>   46.150</td>\n",
              "</tr>\n",
              "<tr>\n",
              "  <th>location_9th Phase JP Nagar</th>          <td>   -3.2162</td> <td>   23.116</td> <td>   -0.139</td> <td> 0.889</td> <td>  -48.528</td> <td>   42.096</td>\n",
              "</tr>\n",
              "<tr>\n",
              "  <th>location_Akshaya Nagar</th>               <td>   -0.5676</td> <td>   21.573</td> <td>   -0.026</td> <td> 0.979</td> <td>  -42.854</td> <td>   41.719</td>\n",
              "</tr>\n",
              "<tr>\n",
              "  <th>location_Ambalipura</th>                  <td>    8.9603</td> <td>   26.319</td> <td>    0.340</td> <td> 0.734</td> <td>  -42.629</td> <td>   60.549</td>\n",
              "</tr>\n",
              "<tr>\n",
              "  <th>location_Ambedkar Nagar</th>              <td>   -1.4335</td> <td>   25.622</td> <td>   -0.056</td> <td> 0.955</td> <td>  -51.657</td> <td>   48.790</td>\n",
              "</tr>\n",
              "<tr>\n",
              "  <th>location_Anandapura</th>                  <td>  -19.0434</td> <td>   26.082</td> <td>   -0.730</td> <td> 0.465</td> <td>  -70.168</td> <td>   32.081</td>\n",
              "</tr>\n",
              "<tr>\n",
              "  <th>location_Ananth Nagar</th>                <td>   -3.1247</td> <td>   25.537</td> <td>   -0.122</td> <td> 0.903</td> <td>  -53.180</td> <td>   46.931</td>\n",
              "</tr>\n",
              "<tr>\n",
              "  <th>location_Anekal</th>                      <td>  -21.9588</td> <td>   25.352</td> <td>   -0.866</td> <td> 0.386</td> <td>  -71.653</td> <td>   27.736</td>\n",
              "</tr>\n",
              "<tr>\n",
              "  <th>location_Attibele</th>                    <td>  -12.6042</td> <td>   23.453</td> <td>   -0.537</td> <td> 0.591</td> <td>  -58.576</td> <td>   33.368</td>\n",
              "</tr>\n",
              "<tr>\n",
              "  <th>location_BTM 2nd Stage</th>               <td>   55.5578</td> <td>   25.524</td> <td>    2.177</td> <td> 0.030</td> <td>    5.528</td> <td>  105.588</td>\n",
              "</tr>\n",
              "<tr>\n",
              "  <th>location_Balagere</th>                    <td>   16.5546</td> <td>   23.312</td> <td>    0.710</td> <td> 0.478</td> <td>  -29.140</td> <td>   62.249</td>\n",
              "</tr>\n",
              "<tr>\n",
              "  <th>location_Banashankari</th>                <td>   21.2800</td> <td>   20.883</td> <td>    1.019</td> <td> 0.308</td> <td>  -19.654</td> <td>   62.214</td>\n",
              "</tr>\n",
              "<tr>\n",
              "  <th>location_Bannerghatta Road</th>           <td>   10.8946</td> <td>   19.024</td> <td>    0.573</td> <td> 0.567</td> <td>  -26.396</td> <td>   48.185</td>\n",
              "</tr>\n",
              "<tr>\n",
              "  <th>location_Basavangudi</th>                 <td>   78.1262</td> <td>   25.302</td> <td>    3.088</td> <td> 0.002</td> <td>   28.531</td> <td>  127.721</td>\n",
              "</tr>\n",
              "<tr>\n",
              "  <th>location_Begur Road</th>                  <td>  -17.1889</td> <td>   20.887</td> <td>   -0.823</td> <td> 0.411</td> <td>  -58.131</td> <td>   23.753</td>\n",
              "</tr>\n",
              "<tr>\n",
              "  <th>location_Bellandur</th>                   <td>    4.8105</td> <td>   20.085</td> <td>    0.240</td> <td> 0.811</td> <td>  -34.560</td> <td>   44.181</td>\n",
              "</tr>\n",
              "<tr>\n",
              "  <th>location_Bhoganhalli</th>                 <td>   -6.0553</td> <td>   23.779</td> <td>   -0.255</td> <td> 0.799</td> <td>  -52.667</td> <td>   40.556</td>\n",
              "</tr>\n",
              "<tr>\n",
              "  <th>location_Bisuvanahalli</th>               <td>   16.2191</td> <td>   23.310</td> <td>    0.696</td> <td> 0.487</td> <td>  -29.473</td> <td>   61.911</td>\n",
              "</tr>\n",
              "<tr>\n",
              "  <th>location_Bommanahalli</th>                <td>  -10.8594</td> <td>   24.283</td> <td>   -0.447</td> <td> 0.655</td> <td>  -58.459</td> <td>   36.740</td>\n",
              "</tr>\n",
              "<tr>\n",
              "  <th>location_Bommasandra</th>                 <td>   -3.4029</td> <td>   23.992</td> <td>   -0.142</td> <td> 0.887</td> <td>  -50.430</td> <td>   43.624</td>\n",
              "</tr>\n",
              "<tr>\n",
              "  <th>location_Bommasandra Industrial Area</th> <td>  -32.6983</td> <td>   26.443</td> <td>   -1.237</td> <td> 0.216</td> <td>  -84.531</td> <td>   19.134</td>\n",
              "</tr>\n",
              "<tr>\n",
              "  <th>location_Brookefield</th>                 <td>   -0.3810</td> <td>   22.656</td> <td>   -0.017</td> <td> 0.987</td> <td>  -44.791</td> <td>   44.029</td>\n",
              "</tr>\n",
              "<tr>\n",
              "  <th>location_Budigere</th>                    <td>   -1.9547</td> <td>   22.890</td> <td>   -0.085</td> <td> 0.932</td> <td>  -46.823</td> <td>   42.914</td>\n",
              "</tr>\n",
              "<tr>\n",
              "  <th>location_CV Raman Nagar</th>              <td>   12.9997</td> <td>   23.232</td> <td>    0.560</td> <td> 0.576</td> <td>  -32.539</td> <td>   58.538</td>\n",
              "</tr>\n",
              "<tr>\n",
              "  <th>location_Chandapura</th>                  <td>  -18.4574</td> <td>   20.584</td> <td>   -0.897</td> <td> 0.370</td> <td>  -58.804</td> <td>   21.890</td>\n",
              "</tr>\n",
              "<tr>\n",
              "  <th>location_Channasandra</th>                <td>  -28.3307</td> <td>   23.820</td> <td>   -1.189</td> <td> 0.234</td> <td>  -75.022</td> <td>   18.360</td>\n",
              "</tr>\n",
              "<tr>\n",
              "  <th>location_Chikkalasandra</th>              <td>   12.2932</td> <td>   25.529</td> <td>    0.482</td> <td> 0.630</td> <td>  -37.747</td> <td>   62.334</td>\n",
              "</tr>\n",
              "<tr>\n",
              "  <th>location_Devanahalli</th>                 <td>  -19.9610</td> <td>   23.047</td> <td>   -0.866</td> <td> 0.386</td> <td>  -65.136</td> <td>   25.214</td>\n",
              "</tr>\n",
              "<tr>\n",
              "  <th>location_Dodda Nekkundi</th>              <td>   18.2974</td> <td>   25.520</td> <td>    0.717</td> <td> 0.473</td> <td>  -31.726</td> <td>   68.321</td>\n",
              "</tr>\n",
              "<tr>\n",
              "  <th>location_Doddathoguru</th>                <td>    2.5221</td> <td>   25.521</td> <td>    0.099</td> <td> 0.921</td> <td>  -47.503</td> <td>   52.547</td>\n",
              "</tr>\n",
              "<tr>\n",
              "  <th>location_Electronic City</th>             <td>    3.5126</td> <td>   18.132</td> <td>    0.194</td> <td> 0.846</td> <td>  -32.028</td> <td>   39.053</td>\n",
              "</tr>\n",
              "<tr>\n",
              "  <th>location_Electronic City Phase II</th>    <td>   -9.8544</td> <td>   19.405</td> <td>   -0.508</td> <td> 0.612</td> <td>  -47.891</td> <td>   28.182</td>\n",
              "</tr>\n",
              "<tr>\n",
              "  <th>location_Electronics City Phase 1</th>    <td>    3.1576</td> <td>   20.288</td> <td>    0.156</td> <td> 0.876</td> <td>  -36.610</td> <td>   42.925</td>\n",
              "</tr>\n",
              "<tr>\n",
              "  <th>location_Frazer Town</th>                 <td>   58.0559</td> <td>   24.310</td> <td>    2.388</td> <td> 0.017</td> <td>   10.405</td> <td>  105.707</td>\n",
              "</tr>\n",
              "<tr>\n",
              "  <th>location_Gottigere</th>                   <td>  -12.7822</td> <td>   22.547</td> <td>   -0.567</td> <td> 0.571</td> <td>  -56.979</td> <td>   31.414</td>\n",
              "</tr>\n",
              "<tr>\n",
              "  <th>location_Green Glen Layout</th>           <td>    7.9692</td> <td>   23.679</td> <td>    0.337</td> <td> 0.736</td> <td>  -38.445</td> <td>   54.383</td>\n",
              "</tr>\n",
              "<tr>\n",
              "  <th>location_Gubbalala</th>                   <td>  -27.2697</td> <td>   26.332</td> <td>   -1.036</td> <td> 0.300</td> <td>  -78.885</td> <td>   24.346</td>\n",
              "</tr>\n",
              "<tr>\n",
              "  <th>location_HSR Layout</th>                  <td>   12.5981</td> <td>   23.376</td> <td>    0.539</td> <td> 0.590</td> <td>  -33.222</td> <td>   58.418</td>\n",
              "</tr>\n",
              "<tr>\n",
              "  <th>location_Haralur Road</th>                <td>   -2.3148</td> <td>   19.930</td> <td>   -0.116</td> <td> 0.908</td> <td>  -41.381</td> <td>   36.751</td>\n",
              "</tr>\n",
              "<tr>\n",
              "  <th>location_Harlur</th>                      <td>   12.2062</td> <td>   20.725</td> <td>    0.589</td> <td> 0.556</td> <td>  -28.417</td> <td>   52.830</td>\n",
              "</tr>\n",
              "<tr>\n",
              "  <th>location_Hebbal</th>                      <td>   17.3561</td> <td>   18.921</td> <td>    0.917</td> <td> 0.359</td> <td>  -19.733</td> <td>   54.445</td>\n",
              "</tr>\n",
              "<tr>\n",
              "  <th>location_Hebbal Kempapura</th>            <td>   24.7153</td> <td>   24.668</td> <td>    1.002</td> <td> 0.316</td> <td>  -23.638</td> <td>   73.069</td>\n",
              "</tr>\n",
              "<tr>\n",
              "  <th>location_Hegde Nagar</th>                 <td>   -1.1953</td> <td>   22.606</td> <td>   -0.053</td> <td> 0.958</td> <td>  -45.507</td> <td>   43.117</td>\n",
              "</tr>\n",
              "<tr>\n",
              "  <th>location_Hennur</th>                      <td>   -7.3069</td> <td>   22.554</td> <td>   -0.324</td> <td> 0.746</td> <td>  -51.517</td> <td>   36.903</td>\n",
              "</tr>\n",
              "<tr>\n",
              "  <th>location_Hennur Road</th>                 <td>    2.9510</td> <td>   19.068</td> <td>    0.155</td> <td> 0.877</td> <td>  -34.425</td> <td>   40.327</td>\n",
              "</tr>\n",
              "<tr>\n",
              "  <th>location_Hoodi</th>                       <td>    3.5309</td> <td>   20.342</td> <td>    0.174</td> <td> 0.862</td> <td>  -36.343</td> <td>   43.405</td>\n",
              "</tr>\n",
              "<tr>\n",
              "  <th>location_Horamavu Agara</th>              <td>   -6.2946</td> <td>   23.372</td> <td>   -0.269</td> <td> 0.788</td> <td>  -52.108</td> <td>   39.518</td>\n",
              "</tr>\n",
              "<tr>\n",
              "  <th>location_Hormavu</th>                     <td>   -6.5552</td> <td>   20.936</td> <td>   -0.313</td> <td> 0.754</td> <td>  -47.594</td> <td>   34.483</td>\n",
              "</tr>\n",
              "<tr>\n",
              "  <th>location_Hosa Road</th>                   <td>    0.5650</td> <td>   21.333</td> <td>    0.026</td> <td> 0.979</td> <td>  -41.250</td> <td>   42.380</td>\n",
              "</tr>\n",
              "<tr>\n",
              "  <th>location_Hosakerehalli</th>               <td>   14.2167</td> <td>   24.138</td> <td>    0.589</td> <td> 0.556</td> <td>  -33.097</td> <td>   61.530</td>\n",
              "</tr>\n",
              "<tr>\n",
              "  <th>location_Hosur Road</th>                  <td>   -7.8418</td> <td>   22.879</td> <td>   -0.343</td> <td> 0.732</td> <td>  -52.689</td> <td>   37.005</td>\n",
              "</tr>\n",
              "<tr>\n",
              "  <th>location_Hulimavu</th>                    <td>    8.1234</td> <td>   22.266</td> <td>    0.365</td> <td> 0.715</td> <td>  -35.521</td> <td>   51.768</td>\n",
              "</tr>\n",
              "<tr>\n",
              "  <th>location_Indira Nagar</th>                <td>  134.7541</td> <td>   23.124</td> <td>    5.827</td> <td> 0.000</td> <td>   89.428</td> <td>  180.081</td>\n",
              "</tr>\n",
              "<tr>\n",
              "  <th>location_JP Nagar</th>                    <td>    6.4375</td> <td>   20.998</td> <td>    0.307</td> <td> 0.759</td> <td>  -34.722</td> <td>   47.596</td>\n",
              "</tr>\n",
              "<tr>\n",
              "  <th>location_Jakkur</th>                      <td>   12.1847</td> <td>   21.022</td> <td>    0.580</td> <td> 0.562</td> <td>  -29.022</td> <td>   53.392</td>\n",
              "</tr>\n",
              "<tr>\n",
              "  <th>location_Jalahalli</th>                   <td>   12.2295</td> <td>   22.556</td> <td>    0.542</td> <td> 0.588</td> <td>  -31.984</td> <td>   56.443</td>\n",
              "</tr>\n",
              "<tr>\n",
              "  <th>location_Jigani</th>                      <td>    5.5464</td> <td>   22.367</td> <td>    0.248</td> <td> 0.804</td> <td>  -38.295</td> <td>   49.388</td>\n",
              "</tr>\n",
              "<tr>\n",
              "  <th>location_KR Puram</th>                    <td>  -10.6933</td> <td>   20.211</td> <td>   -0.529</td> <td> 0.597</td> <td>  -50.310</td> <td>   28.923</td>\n",
              "</tr>\n",
              "<tr>\n",
              "  <th>location_Kadugodi</th>                    <td>  -25.1693</td> <td>   23.656</td> <td>   -1.064</td> <td> 0.287</td> <td>  -71.539</td> <td>   21.201</td>\n",
              "</tr>\n",
              "<tr>\n",
              "  <th>location_Kaggadasapura</th>               <td>   -8.1750</td> <td>   21.312</td> <td>   -0.384</td> <td> 0.701</td> <td>  -49.950</td> <td>   33.600</td>\n",
              "</tr>\n",
              "<tr>\n",
              "  <th>location_Kalena Agrahara</th>             <td>   12.0588</td> <td>   24.650</td> <td>    0.489</td> <td> 0.625</td> <td>  -36.260</td> <td>   60.377</td>\n",
              "</tr>\n",
              "<tr>\n",
              "  <th>location_Kammasandra</th>                 <td>  -11.4508</td> <td>   25.776</td> <td>   -0.444</td> <td> 0.657</td> <td>  -61.977</td> <td>   39.075</td>\n",
              "</tr>\n",
              "<tr>\n",
              "  <th>location_Kanakapura</th>                  <td>   -3.7715</td> <td>   23.808</td> <td>   -0.158</td> <td> 0.874</td> <td>  -50.439</td> <td>   42.896</td>\n",
              "</tr>\n",
              "<tr>\n",
              "  <th>location_Kanakpura Road</th>              <td>    0.0320</td> <td>   18.348</td> <td>    0.002</td> <td> 0.999</td> <td>  -35.933</td> <td>   35.997</td>\n",
              "</tr>\n",
              "<tr>\n",
              "  <th>location_Kasavanhalli</th>                <td>    4.7691</td> <td>   20.584</td> <td>    0.232</td> <td> 0.817</td> <td>  -35.578</td> <td>   45.116</td>\n",
              "</tr>\n",
              "<tr>\n",
              "  <th>location_Kengeri</th>                     <td>   -7.2748</td> <td>   20.888</td> <td>   -0.348</td> <td> 0.728</td> <td>  -48.219</td> <td>   33.669</td>\n",
              "</tr>\n",
              "<tr>\n",
              "  <th>location_Kengeri Satellite Town</th>      <td>    1.5642</td> <td>   23.641</td> <td>    0.066</td> <td> 0.947</td> <td>  -44.775</td> <td>   47.904</td>\n",
              "</tr>\n",
              "<tr>\n",
              "  <th>location_Kodichikkanahalli</th>           <td>  -15.1244</td> <td>   26.046</td> <td>   -0.581</td> <td> 0.561</td> <td>  -66.178</td> <td>   35.929</td>\n",
              "</tr>\n",
              "<tr>\n",
              "  <th>location_Koramangala</th>                 <td>   80.6770</td> <td>   20.995</td> <td>    3.843</td> <td> 0.000</td> <td>   39.524</td> <td>  121.830</td>\n",
              "</tr>\n",
              "<tr>\n",
              "  <th>location_Kothannur</th>                   <td>   -9.0696</td> <td>   26.344</td> <td>   -0.344</td> <td> 0.731</td> <td>  -60.708</td> <td>   42.569</td>\n",
              "</tr>\n",
              "<tr>\n",
              "  <th>location_Kothanur</th>                    <td>  -20.0072</td> <td>   21.384</td> <td>   -0.936</td> <td> 0.349</td> <td>  -61.922</td> <td>   21.908</td>\n",
              "</tr>\n",
              "<tr>\n",
              "  <th>location_Kudlu Gate</th>                  <td>    1.8027</td> <td>   23.961</td> <td>    0.075</td> <td> 0.940</td> <td>  -45.165</td> <td>   48.770</td>\n",
              "</tr>\n",
              "<tr>\n",
              "  <th>location_Kumaraswami Layout</th>          <td>   -0.4207</td> <td>   25.388</td> <td>   -0.017</td> <td> 0.987</td> <td>  -50.185</td> <td>   49.343</td>\n",
              "</tr>\n",
              "<tr>\n",
              "  <th>location_Kundalahalli</th>                <td>   27.1158</td> <td>   22.777</td> <td>    1.190</td> <td> 0.234</td> <td>  -17.530</td> <td>   71.762</td>\n",
              "</tr>\n",
              "<tr>\n",
              "  <th>location_Lakshminarayana Pura</th>        <td>   29.0418</td> <td>   24.111</td> <td>    1.205</td> <td> 0.228</td> <td>  -18.219</td> <td>   76.302</td>\n",
              "</tr>\n",
              "<tr>\n",
              "  <th>location_Mahadevpura</th>                 <td>   -5.6196</td> <td>   25.281</td> <td>   -0.222</td> <td> 0.824</td> <td>  -55.175</td> <td>   43.936</td>\n",
              "</tr>\n",
              "<tr>\n",
              "  <th>location_Malleshwaram</th>                <td>  201.6563</td> <td>   21.873</td> <td>    9.219</td> <td> 0.000</td> <td>  158.782</td> <td>  244.531</td>\n",
              "</tr>\n",
              "<tr>\n",
              "  <th>location_Marathahalli</th>                <td>   -4.1578</td> <td>   18.789</td> <td>   -0.221</td> <td> 0.825</td> <td>  -40.986</td> <td>   32.671</td>\n",
              "</tr>\n",
              "<tr>\n",
              "  <th>location_Mysore Road</th>                 <td>   11.5244</td> <td>   22.668</td> <td>    0.508</td> <td> 0.611</td> <td>  -32.908</td> <td>   55.956</td>\n",
              "</tr>\n",
              "<tr>\n",
              "  <th>location_Nagarbhavi</th>                  <td>   35.5585</td> <td>   21.594</td> <td>    1.647</td> <td> 0.100</td> <td>   -6.769</td> <td>   77.886</td>\n",
              "</tr>\n",
              "<tr>\n",
              "  <th>location_Old Airport Road</th>            <td>    2.9882</td> <td>   25.608</td> <td>    0.117</td> <td> 0.907</td> <td>  -47.207</td> <td>   53.183</td>\n",
              "</tr>\n",
              "<tr>\n",
              "  <th>location_Old Madras Road</th>             <td>  -33.8509</td> <td>   21.200</td> <td>   -1.597</td> <td> 0.110</td> <td>  -75.407</td> <td>    7.705</td>\n",
              "</tr>\n",
              "<tr>\n",
              "  <th>location_Padmanabhanagar</th>             <td>   18.9997</td> <td>   25.787</td> <td>    0.737</td> <td> 0.461</td> <td>  -31.548</td> <td>   69.547</td>\n",
              "</tr>\n",
              "<tr>\n",
              "  <th>location_Panathur</th>                    <td>   13.4953</td> <td>   22.481</td> <td>    0.600</td> <td> 0.548</td> <td>  -30.570</td> <td>   57.561</td>\n",
              "</tr>\n",
              "<tr>\n",
              "  <th>location_R.T. Nagar</th>                  <td>   30.5022</td> <td>   24.287</td> <td>    1.256</td> <td> 0.209</td> <td>  -17.104</td> <td>   78.108</td>\n",
              "</tr>\n",
              "<tr>\n",
              "  <th>location_Rachenahalli</th>                <td>   -3.9558</td> <td>   22.990</td> <td>   -0.172</td> <td> 0.863</td> <td>  -49.020</td> <td>   41.108</td>\n",
              "</tr>\n",
              "<tr>\n",
              "  <th>location_Raja Rajeshwari Nagar</th>       <td>  -11.3998</td> <td>   18.882</td> <td>   -0.604</td> <td> 0.546</td> <td>  -48.411</td> <td>   25.612</td>\n",
              "</tr>\n",
              "<tr>\n",
              "  <th>location_Rajaji Nagar</th>                <td>  160.3678</td> <td>   19.779</td> <td>    8.108</td> <td> 0.000</td> <td>  121.598</td> <td>  199.138</td>\n",
              "</tr>\n",
              "<tr>\n",
              "  <th>location_Ramagondanahalli</th>            <td>   10.8103</td> <td>   22.696</td> <td>    0.476</td> <td> 0.634</td> <td>  -33.677</td> <td>   55.297</td>\n",
              "</tr>\n",
              "<tr>\n",
              "  <th>location_Ramamurthy Nagar</th>            <td>  -11.7468</td> <td>   20.957</td> <td>   -0.561</td> <td> 0.575</td> <td>  -52.826</td> <td>   29.332</td>\n",
              "</tr>\n",
              "<tr>\n",
              "  <th>location_Sahakara Nagar</th>              <td>   19.3961</td> <td>   23.942</td> <td>    0.810</td> <td> 0.418</td> <td>  -27.534</td> <td>   66.326</td>\n",
              "</tr>\n",
              "<tr>\n",
              "  <th>location_Sarjapur</th>                    <td>  -27.4669</td> <td>   20.510</td> <td>   -1.339</td> <td> 0.181</td> <td>  -67.670</td> <td>   12.736</td>\n",
              "</tr>\n",
              "<tr>\n",
              "  <th>location_Sarjapur  Road</th>              <td>    1.7365</td> <td>   17.867</td> <td>    0.097</td> <td> 0.923</td> <td>  -33.285</td> <td>   36.758</td>\n",
              "</tr>\n",
              "<tr>\n",
              "  <th>location_Somasundara Palya</th>           <td>    1.2936</td> <td>   26.049</td> <td>    0.050</td> <td> 0.960</td> <td>  -49.767</td> <td>   52.354</td>\n",
              "</tr>\n",
              "<tr>\n",
              "  <th>location_Subramanyapura</th>              <td>   14.5433</td> <td>   23.502</td> <td>    0.619</td> <td> 0.536</td> <td>  -31.525</td> <td>   60.611</td>\n",
              "</tr>\n",
              "<tr>\n",
              "  <th>location_TC Palaya</th>                   <td>  -26.9937</td> <td>   22.960</td> <td>   -1.176</td> <td> 0.240</td> <td>  -71.998</td> <td>   18.011</td>\n",
              "</tr>\n",
              "<tr>\n",
              "  <th>location_Talaghattapura</th>              <td>    0.9826</td> <td>   24.176</td> <td>    0.041</td> <td> 0.968</td> <td>  -46.405</td> <td>   48.371</td>\n",
              "</tr>\n",
              "<tr>\n",
              "  <th>location_Thanisandra</th>                 <td>   -2.3724</td> <td>   18.414</td> <td>   -0.129</td> <td> 0.897</td> <td>  -38.466</td> <td>   33.721</td>\n",
              "</tr>\n",
              "<tr>\n",
              "  <th>location_Thigalarapalya</th>              <td>   -8.1645</td> <td>   22.785</td> <td>   -0.358</td> <td> 0.720</td> <td>  -52.826</td> <td>   36.497</td>\n",
              "</tr>\n",
              "<tr>\n",
              "  <th>location_Tumkur Road</th>                 <td>    9.3437</td> <td>   25.083</td> <td>    0.373</td> <td> 0.710</td> <td>  -39.824</td> <td>   58.511</td>\n",
              "</tr>\n",
              "<tr>\n",
              "  <th>location_Uttarahalli</th>                 <td>   -0.2227</td> <td>   18.949</td> <td>   -0.012</td> <td> 0.991</td> <td>  -37.365</td> <td>   36.920</td>\n",
              "</tr>\n",
              "<tr>\n",
              "  <th>location_Varthur</th>                     <td>   -7.6599</td> <td>   21.095</td> <td>   -0.363</td> <td> 0.717</td> <td>  -49.009</td> <td>   33.690</td>\n",
              "</tr>\n",
              "<tr>\n",
              "  <th>location_Vidyaranyapura</th>              <td>   -3.2840</td> <td>   23.528</td> <td>   -0.140</td> <td> 0.889</td> <td>  -49.402</td> <td>   42.834</td>\n",
              "</tr>\n",
              "<tr>\n",
              "  <th>location_Vijayanagar</th>                 <td>   32.4560</td> <td>   23.271</td> <td>    1.395</td> <td> 0.163</td> <td>  -13.158</td> <td>   78.070</td>\n",
              "</tr>\n",
              "<tr>\n",
              "  <th>location_Vittasandra</th>                 <td>   -2.7699</td> <td>   24.881</td> <td>   -0.111</td> <td> 0.911</td> <td>  -51.541</td> <td>   46.001</td>\n",
              "</tr>\n",
              "<tr>\n",
              "  <th>location_Whitefield</th>                  <td>   -3.0196</td> <td>   17.671</td> <td>   -0.171</td> <td> 0.864</td> <td>  -37.658</td> <td>   31.618</td>\n",
              "</tr>\n",
              "<tr>\n",
              "  <th>location_Yelahanka</th>                   <td>   -8.4026</td> <td>   18.469</td> <td>   -0.455</td> <td> 0.649</td> <td>  -44.606</td> <td>   27.800</td>\n",
              "</tr>\n",
              "<tr>\n",
              "  <th>location_Yelahanka New Town</th>          <td>   20.8490</td> <td>   23.534</td> <td>    0.886</td> <td> 0.376</td> <td>  -25.282</td> <td>   66.980</td>\n",
              "</tr>\n",
              "<tr>\n",
              "  <th>location_Yeshwanthpur</th>                <td>   13.2241</td> <td>   20.500</td> <td>    0.645</td> <td> 0.519</td> <td>  -26.959</td> <td>   53.407</td>\n",
              "</tr>\n",
              "<tr>\n",
              "  <th>location_others</th>                      <td>   21.2109</td> <td>   17.120</td> <td>    1.239</td> <td> 0.215</td> <td>  -12.347</td> <td>   54.769</td>\n",
              "</tr>\n",
              "<tr>\n",
              "  <th>size_2</th>                               <td>  -19.6555</td> <td>    7.737</td> <td>   -2.540</td> <td> 0.011</td> <td>  -34.821</td> <td>   -4.490</td>\n",
              "</tr>\n",
              "<tr>\n",
              "  <th>size_3</th>                               <td>  -31.5989</td> <td>    8.235</td> <td>   -3.837</td> <td> 0.000</td> <td>  -47.740</td> <td>  -15.458</td>\n",
              "</tr>\n",
              "<tr>\n",
              "  <th>size_4</th>                               <td>   -8.0119</td> <td>    9.317</td> <td>   -0.860</td> <td> 0.390</td> <td>  -26.275</td> <td>   10.251</td>\n",
              "</tr>\n",
              "<tr>\n",
              "  <th>size_5</th>                               <td>   -5.1635</td> <td>   10.856</td> <td>   -0.476</td> <td> 0.634</td> <td>  -26.443</td> <td>   16.116</td>\n",
              "</tr>\n",
              "<tr>\n",
              "  <th>size_6</th>                               <td>  -17.6171</td> <td>   12.255</td> <td>   -1.438</td> <td> 0.151</td> <td>  -41.639</td> <td>    6.404</td>\n",
              "</tr>\n",
              "<tr>\n",
              "  <th>size_7</th>                               <td>  -34.5319</td> <td>   15.559</td> <td>   -2.219</td> <td> 0.026</td> <td>  -65.030</td> <td>   -4.034</td>\n",
              "</tr>\n",
              "<tr>\n",
              "  <th>size_8</th>                               <td>  -53.5531</td> <td>   17.049</td> <td>   -3.141</td> <td> 0.002</td> <td>  -86.971</td> <td>  -20.135</td>\n",
              "</tr>\n",
              "<tr>\n",
              "  <th>size_9</th>                               <td> -102.9792</td> <td>   22.447</td> <td>   -4.588</td> <td> 0.000</td> <td> -146.978</td> <td>  -58.980</td>\n",
              "</tr>\n",
              "<tr>\n",
              "  <th>bath_2.0</th>                             <td>  -11.1048</td> <td>    7.174</td> <td>   -1.548</td> <td> 0.122</td> <td>  -25.167</td> <td>    2.958</td>\n",
              "</tr>\n",
              "<tr>\n",
              "  <th>bath_3.0</th>                             <td>   -7.3441</td> <td>    7.849</td> <td>   -0.936</td> <td> 0.349</td> <td>  -22.729</td> <td>    8.041</td>\n",
              "</tr>\n",
              "<tr>\n",
              "  <th>bath_4.0</th>                             <td>    0.4631</td> <td>    8.792</td> <td>    0.053</td> <td> 0.958</td> <td>  -16.770</td> <td>   17.697</td>\n",
              "</tr>\n",
              "<tr>\n",
              "  <th>bath_5.0</th>                             <td>   22.0591</td> <td>    9.924</td> <td>    2.223</td> <td> 0.026</td> <td>    2.606</td> <td>   41.512</td>\n",
              "</tr>\n",
              "<tr>\n",
              "  <th>bath_6.0</th>                             <td>   24.3376</td> <td>   11.515</td> <td>    2.114</td> <td> 0.035</td> <td>    1.767</td> <td>   46.908</td>\n",
              "</tr>\n",
              "<tr>\n",
              "  <th>bath_7.0</th>                             <td>   55.4852</td> <td>   15.569</td> <td>    3.564</td> <td> 0.000</td> <td>   24.968</td> <td>   86.003</td>\n",
              "</tr>\n",
              "<tr>\n",
              "  <th>bath_8.0</th>                             <td>   56.6632</td> <td>   18.563</td> <td>    3.052</td> <td> 0.002</td> <td>   20.277</td> <td>   93.050</td>\n",
              "</tr>\n",
              "<tr>\n",
              "  <th>bath_9.0</th>                             <td>   91.4606</td> <td>   22.908</td> <td>    3.993</td> <td> 0.000</td> <td>   46.558</td> <td>  136.364</td>\n",
              "</tr>\n",
              "<tr>\n",
              "  <th>balcony_1.0</th>                          <td>   20.4195</td> <td>    3.823</td> <td>    5.341</td> <td> 0.000</td> <td>   12.925</td> <td>   27.914</td>\n",
              "</tr>\n",
              "<tr>\n",
              "  <th>balcony_2.0</th>                          <td>   20.1445</td> <td>    3.843</td> <td>    5.242</td> <td> 0.000</td> <td>   12.612</td> <td>   27.677</td>\n",
              "</tr>\n",
              "<tr>\n",
              "  <th>balcony_3.0</th>                          <td>   13.3786</td> <td>    4.448</td> <td>    3.008</td> <td> 0.003</td> <td>    4.660</td> <td>   22.097</td>\n",
              "</tr>\n",
              "</table>\n",
              "<table class=\"simpletable\">\n",
              "<tr>\n",
              "  <th>Omnibus:</th>       <td>18793.374</td> <th>  Durbin-Watson:     </th>   <td>   2.003</td>  \n",
              "</tr>\n",
              "<tr>\n",
              "  <th>Prob(Omnibus):</th>  <td> 0.000</td>   <th>  Jarque-Bera (JB):  </th> <td>12175482.762</td>\n",
              "</tr>\n",
              "<tr>\n",
              "  <th>Skew:</th>           <td> 9.000</td>   <th>  Prob(JB):          </th>   <td>    0.00</td>  \n",
              "</tr>\n",
              "<tr>\n",
              "  <th>Kurtosis:</th>       <td>154.134</td>  <th>  Cond. No.          </th>   <td>3.49e+05</td>  \n",
              "</tr>\n",
              "</table><br/><br/>Warnings:<br/>[1] Standard Errors assume that the covariance matrix of the errors is correctly specified.<br/>[2] The condition number is large, 3.49e+05. This might indicate that there are<br/>strong multicollinearity or other numerical problems."
            ],
            "text/plain": [
              "<class 'statsmodels.iolib.summary.Summary'>\n",
              "\"\"\"\n",
              "                            OLS Regression Results                            \n",
              "==============================================================================\n",
              "Dep. Variable:                  price   R-squared:                       0.532\n",
              "Model:                            OLS   Adj. R-squared:                  0.527\n",
              "Method:                 Least Squares   F-statistic:                     105.1\n",
              "Date:                Fri, 13 Nov 2020   Prob (F-statistic):               0.00\n",
              "Time:                        09:47:21   Log-Likelihood:                -76193.\n",
              "No. Observations:               12614   AIC:                         1.527e+05\n",
              "Df Residuals:                   12478   BIC:                         1.537e+05\n",
              "Df Model:                         135                                         \n",
              "Covariance Type:            nonrobust                                         \n",
              "========================================================================================================\n",
              "                                           coef    std err          t      P>|t|      [0.025      0.975]\n",
              "--------------------------------------------------------------------------------------------------------\n",
              "const                                  -65.2294     18.050     -3.614      0.000    -100.610     -29.849\n",
              "total_sqft                               0.1072      0.001     73.172      0.000       0.104       0.110\n",
              "area_type_Carpet  Area                  14.9423     11.880      1.258      0.209      -8.345      38.230\n",
              "area_type_Plot  Area                    77.8756      3.473     22.422      0.000      71.067      84.684\n",
              "area_type_Super built-up  Area           8.6918      2.508      3.466      0.001       3.776      13.607\n",
              "availability_Ready To Move              -7.2044      2.490     -2.893      0.004     -12.085      -2.324\n",
              "location_7th Phase JP Nagar             14.7465     19.240      0.766      0.443     -22.967      52.460\n",
              "location_8th Phase JP Nagar              3.1451     21.940      0.143      0.886     -39.860      46.150\n",
              "location_9th Phase JP Nagar             -3.2162     23.116     -0.139      0.889     -48.528      42.096\n",
              "location_Akshaya Nagar                  -0.5676     21.573     -0.026      0.979     -42.854      41.719\n",
              "location_Ambalipura                      8.9603     26.319      0.340      0.734     -42.629      60.549\n",
              "location_Ambedkar Nagar                 -1.4335     25.622     -0.056      0.955     -51.657      48.790\n",
              "location_Anandapura                    -19.0434     26.082     -0.730      0.465     -70.168      32.081\n",
              "location_Ananth Nagar                   -3.1247     25.537     -0.122      0.903     -53.180      46.931\n",
              "location_Anekal                        -21.9588     25.352     -0.866      0.386     -71.653      27.736\n",
              "location_Attibele                      -12.6042     23.453     -0.537      0.591     -58.576      33.368\n",
              "location_BTM 2nd Stage                  55.5578     25.524      2.177      0.030       5.528     105.588\n",
              "location_Balagere                       16.5546     23.312      0.710      0.478     -29.140      62.249\n",
              "location_Banashankari                   21.2800     20.883      1.019      0.308     -19.654      62.214\n",
              "location_Bannerghatta Road              10.8946     19.024      0.573      0.567     -26.396      48.185\n",
              "location_Basavangudi                    78.1262     25.302      3.088      0.002      28.531     127.721\n",
              "location_Begur Road                    -17.1889     20.887     -0.823      0.411     -58.131      23.753\n",
              "location_Bellandur                       4.8105     20.085      0.240      0.811     -34.560      44.181\n",
              "location_Bhoganhalli                    -6.0553     23.779     -0.255      0.799     -52.667      40.556\n",
              "location_Bisuvanahalli                  16.2191     23.310      0.696      0.487     -29.473      61.911\n",
              "location_Bommanahalli                  -10.8594     24.283     -0.447      0.655     -58.459      36.740\n",
              "location_Bommasandra                    -3.4029     23.992     -0.142      0.887     -50.430      43.624\n",
              "location_Bommasandra Industrial Area   -32.6983     26.443     -1.237      0.216     -84.531      19.134\n",
              "location_Brookefield                    -0.3810     22.656     -0.017      0.987     -44.791      44.029\n",
              "location_Budigere                       -1.9547     22.890     -0.085      0.932     -46.823      42.914\n",
              "location_CV Raman Nagar                 12.9997     23.232      0.560      0.576     -32.539      58.538\n",
              "location_Chandapura                    -18.4574     20.584     -0.897      0.370     -58.804      21.890\n",
              "location_Channasandra                  -28.3307     23.820     -1.189      0.234     -75.022      18.360\n",
              "location_Chikkalasandra                 12.2932     25.529      0.482      0.630     -37.747      62.334\n",
              "location_Devanahalli                   -19.9610     23.047     -0.866      0.386     -65.136      25.214\n",
              "location_Dodda Nekkundi                 18.2974     25.520      0.717      0.473     -31.726      68.321\n",
              "location_Doddathoguru                    2.5221     25.521      0.099      0.921     -47.503      52.547\n",
              "location_Electronic City                 3.5126     18.132      0.194      0.846     -32.028      39.053\n",
              "location_Electronic City Phase II       -9.8544     19.405     -0.508      0.612     -47.891      28.182\n",
              "location_Electronics City Phase 1        3.1576     20.288      0.156      0.876     -36.610      42.925\n",
              "location_Frazer Town                    58.0559     24.310      2.388      0.017      10.405     105.707\n",
              "location_Gottigere                     -12.7822     22.547     -0.567      0.571     -56.979      31.414\n",
              "location_Green Glen Layout               7.9692     23.679      0.337      0.736     -38.445      54.383\n",
              "location_Gubbalala                     -27.2697     26.332     -1.036      0.300     -78.885      24.346\n",
              "location_HSR Layout                     12.5981     23.376      0.539      0.590     -33.222      58.418\n",
              "location_Haralur Road                   -2.3148     19.930     -0.116      0.908     -41.381      36.751\n",
              "location_Harlur                         12.2062     20.725      0.589      0.556     -28.417      52.830\n",
              "location_Hebbal                         17.3561     18.921      0.917      0.359     -19.733      54.445\n",
              "location_Hebbal Kempapura               24.7153     24.668      1.002      0.316     -23.638      73.069\n",
              "location_Hegde Nagar                    -1.1953     22.606     -0.053      0.958     -45.507      43.117\n",
              "location_Hennur                         -7.3069     22.554     -0.324      0.746     -51.517      36.903\n",
              "location_Hennur Road                     2.9510     19.068      0.155      0.877     -34.425      40.327\n",
              "location_Hoodi                           3.5309     20.342      0.174      0.862     -36.343      43.405\n",
              "location_Horamavu Agara                 -6.2946     23.372     -0.269      0.788     -52.108      39.518\n",
              "location_Hormavu                        -6.5552     20.936     -0.313      0.754     -47.594      34.483\n",
              "location_Hosa Road                       0.5650     21.333      0.026      0.979     -41.250      42.380\n",
              "location_Hosakerehalli                  14.2167     24.138      0.589      0.556     -33.097      61.530\n",
              "location_Hosur Road                     -7.8418     22.879     -0.343      0.732     -52.689      37.005\n",
              "location_Hulimavu                        8.1234     22.266      0.365      0.715     -35.521      51.768\n",
              "location_Indira Nagar                  134.7541     23.124      5.827      0.000      89.428     180.081\n",
              "location_JP Nagar                        6.4375     20.998      0.307      0.759     -34.722      47.596\n",
              "location_Jakkur                         12.1847     21.022      0.580      0.562     -29.022      53.392\n",
              "location_Jalahalli                      12.2295     22.556      0.542      0.588     -31.984      56.443\n",
              "location_Jigani                          5.5464     22.367      0.248      0.804     -38.295      49.388\n",
              "location_KR Puram                      -10.6933     20.211     -0.529      0.597     -50.310      28.923\n",
              "location_Kadugodi                      -25.1693     23.656     -1.064      0.287     -71.539      21.201\n",
              "location_Kaggadasapura                  -8.1750     21.312     -0.384      0.701     -49.950      33.600\n",
              "location_Kalena Agrahara                12.0588     24.650      0.489      0.625     -36.260      60.377\n",
              "location_Kammasandra                   -11.4508     25.776     -0.444      0.657     -61.977      39.075\n",
              "location_Kanakapura                     -3.7715     23.808     -0.158      0.874     -50.439      42.896\n",
              "location_Kanakpura Road                  0.0320     18.348      0.002      0.999     -35.933      35.997\n",
              "location_Kasavanhalli                    4.7691     20.584      0.232      0.817     -35.578      45.116\n",
              "location_Kengeri                        -7.2748     20.888     -0.348      0.728     -48.219      33.669\n",
              "location_Kengeri Satellite Town          1.5642     23.641      0.066      0.947     -44.775      47.904\n",
              "location_Kodichikkanahalli             -15.1244     26.046     -0.581      0.561     -66.178      35.929\n",
              "location_Koramangala                    80.6770     20.995      3.843      0.000      39.524     121.830\n",
              "location_Kothannur                      -9.0696     26.344     -0.344      0.731     -60.708      42.569\n",
              "location_Kothanur                      -20.0072     21.384     -0.936      0.349     -61.922      21.908\n",
              "location_Kudlu Gate                      1.8027     23.961      0.075      0.940     -45.165      48.770\n",
              "location_Kumaraswami Layout             -0.4207     25.388     -0.017      0.987     -50.185      49.343\n",
              "location_Kundalahalli                   27.1158     22.777      1.190      0.234     -17.530      71.762\n",
              "location_Lakshminarayana Pura           29.0418     24.111      1.205      0.228     -18.219      76.302\n",
              "location_Mahadevpura                    -5.6196     25.281     -0.222      0.824     -55.175      43.936\n",
              "location_Malleshwaram                  201.6563     21.873      9.219      0.000     158.782     244.531\n",
              "location_Marathahalli                   -4.1578     18.789     -0.221      0.825     -40.986      32.671\n",
              "location_Mysore Road                    11.5244     22.668      0.508      0.611     -32.908      55.956\n",
              "location_Nagarbhavi                     35.5585     21.594      1.647      0.100      -6.769      77.886\n",
              "location_Old Airport Road                2.9882     25.608      0.117      0.907     -47.207      53.183\n",
              "location_Old Madras Road               -33.8509     21.200     -1.597      0.110     -75.407       7.705\n",
              "location_Padmanabhanagar                18.9997     25.787      0.737      0.461     -31.548      69.547\n",
              "location_Panathur                       13.4953     22.481      0.600      0.548     -30.570      57.561\n",
              "location_R.T. Nagar                     30.5022     24.287      1.256      0.209     -17.104      78.108\n",
              "location_Rachenahalli                   -3.9558     22.990     -0.172      0.863     -49.020      41.108\n",
              "location_Raja Rajeshwari Nagar         -11.3998     18.882     -0.604      0.546     -48.411      25.612\n",
              "location_Rajaji Nagar                  160.3678     19.779      8.108      0.000     121.598     199.138\n",
              "location_Ramagondanahalli               10.8103     22.696      0.476      0.634     -33.677      55.297\n",
              "location_Ramamurthy Nagar              -11.7468     20.957     -0.561      0.575     -52.826      29.332\n",
              "location_Sahakara Nagar                 19.3961     23.942      0.810      0.418     -27.534      66.326\n",
              "location_Sarjapur                      -27.4669     20.510     -1.339      0.181     -67.670      12.736\n",
              "location_Sarjapur  Road                  1.7365     17.867      0.097      0.923     -33.285      36.758\n",
              "location_Somasundara Palya               1.2936     26.049      0.050      0.960     -49.767      52.354\n",
              "location_Subramanyapura                 14.5433     23.502      0.619      0.536     -31.525      60.611\n",
              "location_TC Palaya                     -26.9937     22.960     -1.176      0.240     -71.998      18.011\n",
              "location_Talaghattapura                  0.9826     24.176      0.041      0.968     -46.405      48.371\n",
              "location_Thanisandra                    -2.3724     18.414     -0.129      0.897     -38.466      33.721\n",
              "location_Thigalarapalya                 -8.1645     22.785     -0.358      0.720     -52.826      36.497\n",
              "location_Tumkur Road                     9.3437     25.083      0.373      0.710     -39.824      58.511\n",
              "location_Uttarahalli                    -0.2227     18.949     -0.012      0.991     -37.365      36.920\n",
              "location_Varthur                        -7.6599     21.095     -0.363      0.717     -49.009      33.690\n",
              "location_Vidyaranyapura                 -3.2840     23.528     -0.140      0.889     -49.402      42.834\n",
              "location_Vijayanagar                    32.4560     23.271      1.395      0.163     -13.158      78.070\n",
              "location_Vittasandra                    -2.7699     24.881     -0.111      0.911     -51.541      46.001\n",
              "location_Whitefield                     -3.0196     17.671     -0.171      0.864     -37.658      31.618\n",
              "location_Yelahanka                      -8.4026     18.469     -0.455      0.649     -44.606      27.800\n",
              "location_Yelahanka New Town             20.8490     23.534      0.886      0.376     -25.282      66.980\n",
              "location_Yeshwanthpur                   13.2241     20.500      0.645      0.519     -26.959      53.407\n",
              "location_others                         21.2109     17.120      1.239      0.215     -12.347      54.769\n",
              "size_2                                 -19.6555      7.737     -2.540      0.011     -34.821      -4.490\n",
              "size_3                                 -31.5989      8.235     -3.837      0.000     -47.740     -15.458\n",
              "size_4                                  -8.0119      9.317     -0.860      0.390     -26.275      10.251\n",
              "size_5                                  -5.1635     10.856     -0.476      0.634     -26.443      16.116\n",
              "size_6                                 -17.6171     12.255     -1.438      0.151     -41.639       6.404\n",
              "size_7                                 -34.5319     15.559     -2.219      0.026     -65.030      -4.034\n",
              "size_8                                 -53.5531     17.049     -3.141      0.002     -86.971     -20.135\n",
              "size_9                                -102.9792     22.447     -4.588      0.000    -146.978     -58.980\n",
              "bath_2.0                               -11.1048      7.174     -1.548      0.122     -25.167       2.958\n",
              "bath_3.0                                -7.3441      7.849     -0.936      0.349     -22.729       8.041\n",
              "bath_4.0                                 0.4631      8.792      0.053      0.958     -16.770      17.697\n",
              "bath_5.0                                22.0591      9.924      2.223      0.026       2.606      41.512\n",
              "bath_6.0                                24.3376     11.515      2.114      0.035       1.767      46.908\n",
              "bath_7.0                                55.4852     15.569      3.564      0.000      24.968      86.003\n",
              "bath_8.0                                56.6632     18.563      3.052      0.002      20.277      93.050\n",
              "bath_9.0                                91.4606     22.908      3.993      0.000      46.558     136.364\n",
              "balcony_1.0                             20.4195      3.823      5.341      0.000      12.925      27.914\n",
              "balcony_2.0                             20.1445      3.843      5.242      0.000      12.612      27.677\n",
              "balcony_3.0                             13.3786      4.448      3.008      0.003       4.660      22.097\n",
              "==============================================================================\n",
              "Omnibus:                    18793.374   Durbin-Watson:                   2.003\n",
              "Prob(Omnibus):                  0.000   Jarque-Bera (JB):         12175482.762\n",
              "Skew:                           9.000   Prob(JB):                         0.00\n",
              "Kurtosis:                     154.134   Cond. No.                     3.49e+05\n",
              "==============================================================================\n",
              "\n",
              "Warnings:\n",
              "[1] Standard Errors assume that the covariance matrix of the errors is correctly specified.\n",
              "[2] The condition number is large, 3.49e+05. This might indicate that there are\n",
              "strong multicollinearity or other numerical problems.\n",
              "\"\"\""
            ]
          },
          "metadata": {
            "tags": []
          },
          "execution_count": 63
        }
      ]
    },
    {
      "cell_type": "markdown",
      "metadata": {
        "id": "dtef9akdDSAB"
      },
      "source": [
        "Model - Linear Regression"
      ]
    },
    {
      "cell_type": "code",
      "metadata": {
        "id": "aYv08sYL_X8R",
        "outputId": "7db22a80-a98c-4509-9eda-5a66d1fade06",
        "colab": {
          "base_uri": "https://localhost:8080/"
        }
      },
      "source": [
        "x = df_encoded.drop('price',axis = 1)\n",
        "y = df_encoded['price']\n",
        "\n",
        "from sklearn.pipeline import Pipeline\n",
        "from sklearn.model_selection import train_test_split\n",
        "from sklearn.preprocessing import PowerTransformer\n",
        "from sklearn.preprocessing import StandardScaler\n",
        "from sklearn.preprocessing import OneHotEncoder\n",
        "from sklearn.feature_selection import RFE\n",
        "from sklearn.linear_model import LinearRegression\n",
        "from sklearn.metrics import mean_squared_log_error\n",
        "\n",
        "xtrain,xtest,ytrain,ytest=train_test_split(x,y,random_state=0,test_size=0.2)\n",
        "\n",
        "pipelr=Pipeline((\n",
        "    (\"pt\",PowerTransformer()),\n",
        "    (\"sc\", StandardScaler()),\n",
        "    #(\"rfe\",RFE(estimator=LinearRegression(),n_features_to_select=7)),\n",
        "    (\"lr\", LinearRegression())\n",
        "))\n",
        "\n",
        "pipelr.fit(xtrain,ytrain)\n",
        "ypred_train=np.abs(pipelr.predict(xtrain))\n",
        "ypred_test=np.abs(pipelr.predict(xtest))\n",
        "\n",
        "print(\"Testing Accuracy R2 score\")\n",
        "print(pipelr.score(xtest,ytest))\n",
        "print(\"Training Accuracy R2 score\")\n",
        "print(pipelr.score(xtrain,ytrain))\n",
        "\n",
        "print(\"Testing Accuracy RMSLE score\")\n",
        "print(np.sqrt(mean_squared_log_error(ytest,ypred_test)))\n",
        "print(\"Training Accuracy RMSLE score\")\n",
        "print(np.sqrt(mean_squared_log_error( ytrain,ypred_train)))"
      ],
      "execution_count": null,
      "outputs": [
        {
          "output_type": "stream",
          "text": [
            "Testing Accuracy R2 score\n",
            "0.4365078156722789\n",
            "Training Accuracy R2 score\n",
            "0.46295474244074325\n",
            "Testing Accuracy RMSLE score\n",
            "0.5803635198794446\n",
            "Training Accuracy RMSLE score\n",
            "0.566892644908666\n"
          ],
          "name": "stdout"
        }
      ]
    },
    {
      "cell_type": "markdown",
      "metadata": {
        "id": "pfyIs51MARGa"
      },
      "source": [
        "Model - Random Forest Regressor"
      ]
    },
    {
      "cell_type": "code",
      "metadata": {
        "id": "HwLlT8PK_EOm",
        "outputId": "c7e10999-c4b3-4457-cabb-04c8e169c3ff",
        "colab": {
          "base_uri": "https://localhost:8080/"
        }
      },
      "source": [
        "from sklearn.pipeline import Pipeline\n",
        "from sklearn.preprocessing import PowerTransformer,StandardScaler\n",
        "from sklearn.model_selection import train_test_split\n",
        "from sklearn.ensemble import RandomForestRegressor\n",
        "from sklearn.metrics import mean_squared_log_error,mean_squared_error\n",
        "\n",
        "x = df_encoded.drop('price',axis = 1)\n",
        "y = np.log(df_encoded['price'])\n",
        "xtrain,xtest,ytrain,ytest=train_test_split(x,y,random_state=0,test_size=0.2)\n",
        " \n",
        "pipebr=Pipeline((\n",
        "    (\"pt\",PowerTransformer()),\n",
        "    (\"ss\",StandardScaler()),\n",
        "  #(\"skb\",SelectKBest(f_classif,k=5)),\n",
        "    (\"gbr\", RandomForestRegressor(random_state=0,n_estimators=150))\n",
        "))\n",
        "\n",
        "pipebr.fit(xtrain,ytrain)\n",
        "ypred_train=np.abs(pipebr.predict(xtrain))\n",
        "ypred_test=np.abs(pipebr.predict(xtest))\n",
        "\n",
        "print(\"Testing Accuracy R2 score\")\n",
        "print(pipebr.score(xtest,ytest))\n",
        "print(\"Training Accuracy R2 score\")\n",
        "print(pipebr.score(xtrain,ytrain))\n",
        "\n",
        "print(\"Testing Accuracy RMSLE score\")\n",
        "print(np.sqrt(mean_squared_error(ytest,ypred_test)))\n",
        "print(\"Training Accuracy RMSLE score\")\n",
        "print(np.sqrt(mean_squared_error( ytrain,ypred_train)))"
      ],
      "execution_count": null,
      "outputs": [
        {
          "output_type": "stream",
          "text": [
            "Testing Accuracy R2 score\n",
            "0.7439913621658694\n",
            "Training Accuracy R2 score\n",
            "0.9506468176384524\n",
            "Testing Accuracy RMSLE score\n",
            "0.37053529644342564\n",
            "Training Accuracy RMSLE score\n",
            "0.15999556447018348\n"
          ],
          "name": "stdout"
        }
      ]
    },
    {
      "cell_type": "code",
      "metadata": {
        "id": "vQIYepftArxh",
        "outputId": "622a2f35-f095-4fd4-c9a9-5fb59d430e65",
        "colab": {
          "base_uri": "https://localhost:8080/"
        }
      },
      "source": [
        "from sklearn.model_selection import cross_val_score\n",
        "be=[]\n",
        "ve=[]\n",
        "for i in [5,10,20,40,60,80,100,120,150,200,250,300,400]:\n",
        "  dt=RandomForestRegressor(n_estimators=i,random_state=0)\n",
        "  score=cross_val_score(dt,xtrain,ytrain,cv=5,scoring='neg_mean_squared_error')\n",
        "  print('n_estimator:',i)\n",
        "  print('Bias Error',np.mean(np.sqrt(np.abs(score))))\n",
        "  print('Variance Error',np.std(np.sqrt(np.abs(score)))/np.mean(np.sqrt(np.abs(score))))\n",
        "  be.append(np.mean(np.sqrt(np.abs(score))))\n",
        "  ve.append(np.std(np.sqrt(np.abs(score)))/np.mean(np.sqrt(np.abs(score))))"
      ],
      "execution_count": null,
      "outputs": [
        {
          "output_type": "stream",
          "text": [
            "n_estimator: 5\n",
            "Bias Error 106.30296212118529\n",
            "Variance Error 0.0973992961084445\n",
            "n_estimator: 10\n",
            "Bias Error 103.78417196437033\n",
            "Variance Error 0.09557086715357886\n",
            "n_estimator: 20\n",
            "Bias Error 100.90503261483569\n",
            "Variance Error 0.11574576057644806\n",
            "n_estimator: 40\n",
            "Bias Error 100.5502017805538\n",
            "Variance Error 0.1147775017060692\n",
            "n_estimator: 60\n",
            "Bias Error 100.74033407160648\n",
            "Variance Error 0.11310542896470084\n",
            "n_estimator: 80\n",
            "Bias Error 100.77899202942746\n",
            "Variance Error 0.11060125164700027\n",
            "n_estimator: 100\n",
            "Bias Error 101.28215630933413\n",
            "Variance Error 0.10669814673153237\n",
            "n_estimator: 120\n",
            "Bias Error 101.5262581061535\n",
            "Variance Error 0.10565171984063179\n",
            "n_estimator: 150\n",
            "Bias Error 101.54481862050504\n",
            "Variance Error 0.10283494576559628\n",
            "n_estimator: 200\n",
            "Bias Error 101.4699483087908\n",
            "Variance Error 0.10670413405693578\n",
            "n_estimator: 250\n",
            "Bias Error 101.35077199102417\n",
            "Variance Error 0.10613322932271987\n",
            "n_estimator: 300\n",
            "Bias Error 101.42095588721645\n",
            "Variance Error 0.10482969068143982\n",
            "n_estimator: 400\n",
            "Bias Error 101.4237816725541\n",
            "Variance Error 0.10411583226608923\n"
          ],
          "name": "stdout"
        }
      ]
    },
    {
      "cell_type": "markdown",
      "metadata": {
        "id": "SfkJOkiiJYc9"
      },
      "source": [
        "* This model has training accuracy of 95% and testing accuracy of 74% which leads to overfitting."
      ]
    },
    {
      "cell_type": "markdown",
      "metadata": {
        "id": "_NumvKysAQIE"
      },
      "source": [
        "Model - Gradient Boosting regressor"
      ]
    },
    {
      "cell_type": "code",
      "metadata": {
        "id": "Rz4zvcOJEi0x",
        "outputId": "25430450-9467-4f13-ca22-bc72b2db90a8",
        "colab": {
          "base_uri": "https://localhost:8080/"
        }
      },
      "source": [
        "from sklearn.pipeline import Pipeline\n",
        "from sklearn.model_selection import train_test_split\n",
        "from sklearn.preprocessing import PowerTransformer\n",
        "from sklearn.preprocessing import StandardScaler\n",
        "from sklearn.preprocessing import OneHotEncoder\n",
        "from sklearn.linear_model import LinearRegression\n",
        "from sklearn.ensemble import GradientBoostingRegressor \n",
        "from sklearn.metrics import mean_squared_log_error\n",
        "from xgboost import XGBRegressor\n",
        "from sklearn.feature_selection import SelectKBest\n",
        "\n",
        "x = df_encoded.drop('price',axis = 1)\n",
        "y = np.log(df_encoded['price'])\n",
        "xtrain,xtest,ytrain,ytest=train_test_split(x,y,random_state=0,test_size=0.2)\n",
        "\n",
        "pipex=Pipeline((\n",
        "    (\"pt\",PowerTransformer()),\n",
        "    (\"sc\", StandardScaler()),\n",
        "    #(\"skb\",SelectKBest(f_classif,k=5)),\n",
        "  (\"gbr\", GradientBoostingRegressor(random_state=0,n_estimators=73))\n",
        "))\n",
        "\n",
        "pipex.fit(xtrain,ytrain)\n",
        "ypred_train=np.abs(pipex.predict(xtrain))\n",
        "ypred_test=np.abs(pipex.predict(xtest))\n",
        "\n",
        "print(\"Testing Accuracy R2 score\")\n",
        "print(pipex.score(xtest,ytest))\n",
        "print(\"Training Accuracy R2 score\")\n",
        "print(pipex.score(xtrain,ytrain))\n",
        "\n",
        "print(\"Testing Accuracy RMSLE score\")\n",
        "print(np.sqrt(mean_squared_log_error(ytest,ypred_test)))\n",
        "print(\"Training Accuracy RMSLE score\")\n",
        "print(np.sqrt(mean_squared_log_error( ytrain,ypred_train)))"
      ],
      "execution_count": null,
      "outputs": [
        {
          "output_type": "stream",
          "text": [
            "Testing Accuracy R2 score\n",
            "0.7264891569934333\n",
            "Training Accuracy R2 score\n",
            "0.7608939293309481\n",
            "Testing Accuracy RMSLE score\n",
            "0.06900909769572362\n",
            "Training Accuracy RMSLE score\n",
            "0.06368789567643027\n"
          ],
          "name": "stdout"
        }
      ]
    },
    {
      "cell_type": "code",
      "metadata": {
        "id": "YPoqgbCAExwD"
      },
      "source": [
        "from sklearn.model_selection import GridSearchCV\n",
        "param=[{'n_estimators':np.arange(1,100)}]\n",
        "grid=GridSearchCV(estimator=GradientBoostingRegressor(random_state=0),param_grid=param,scoring='r2',cv=5)"
      ],
      "execution_count": null,
      "outputs": []
    },
    {
      "cell_type": "code",
      "metadata": {
        "id": "UIJ8Lyd_Ei3C",
        "outputId": "167d6e1a-0586-4ba6-b14b-7e55fdb4f5f4",
        "colab": {
          "base_uri": "https://localhost:8080/"
        }
      },
      "source": [
        "grid.fit(xtrain,ytrain)"
      ],
      "execution_count": null,
      "outputs": [
        {
          "output_type": "execute_result",
          "data": {
            "text/plain": [
              "GridSearchCV(cv=5, error_score=nan,\n",
              "             estimator=GradientBoostingRegressor(alpha=0.9, ccp_alpha=0.0,\n",
              "                                                 criterion='friedman_mse',\n",
              "                                                 init=None, learning_rate=0.1,\n",
              "                                                 loss='ls', max_depth=3,\n",
              "                                                 max_features=None,\n",
              "                                                 max_leaf_nodes=None,\n",
              "                                                 min_impurity_decrease=0.0,\n",
              "                                                 min_impurity_split=None,\n",
              "                                                 min_samples_leaf=1,\n",
              "                                                 min_samples_split=2,\n",
              "                                                 min_weight_fraction_leaf=0.0,\n",
              "                                                 n_estimators=100,\n",
              "                                                 n_iter_n...\n",
              "             param_grid=[{'n_estimators': array([ 1,  2,  3,  4,  5,  6,  7,  8,  9, 10, 11, 12, 13, 14, 15, 16, 17,\n",
              "       18, 19, 20, 21, 22, 23, 24, 25, 26, 27, 28, 29, 30, 31, 32, 33, 34,\n",
              "       35, 36, 37, 38, 39, 40, 41, 42, 43, 44, 45, 46, 47, 48, 49, 50, 51,\n",
              "       52, 53, 54, 55, 56, 57, 58, 59, 60, 61, 62, 63, 64, 65, 66, 67, 68,\n",
              "       69, 70, 71, 72, 73, 74, 75, 76, 77, 78, 79, 80, 81, 82, 83, 84, 85,\n",
              "       86, 87, 88, 89, 90, 91, 92, 93, 94, 95, 96, 97, 98, 99])}],\n",
              "             pre_dispatch='2*n_jobs', refit=True, return_train_score=False,\n",
              "             scoring='r2', verbose=0)"
            ]
          },
          "metadata": {
            "tags": []
          },
          "execution_count": 74
        }
      ]
    },
    {
      "cell_type": "code",
      "metadata": {
        "id": "5c37sUYvEi47",
        "outputId": "c64f8179-454f-4214-bec4-49845fb6bd4e",
        "colab": {
          "base_uri": "https://localhost:8080/"
        }
      },
      "source": [
        "grid.best_params_\n"
      ],
      "execution_count": null,
      "outputs": [
        {
          "output_type": "execute_result",
          "data": {
            "text/plain": [
              "{'n_estimators': 73}"
            ]
          },
          "metadata": {
            "tags": []
          },
          "execution_count": 75
        }
      ]
    },
    {
      "cell_type": "markdown",
      "metadata": {
        "id": "fKacsY3VSgHI"
      },
      "source": [
        "* Gradient boosting regressor gives best score"
      ]
    },
    {
      "cell_type": "markdown",
      "metadata": {
        "id": "dP1ezAiCS3hj"
      },
      "source": [
        "###Final Model"
      ]
    },
    {
      "cell_type": "code",
      "metadata": {
        "id": "RIGnKAnfSH6h"
      },
      "source": [
        "m_final = pipex.fit(x,y)"
      ],
      "execution_count": null,
      "outputs": []
    }
  ]
}