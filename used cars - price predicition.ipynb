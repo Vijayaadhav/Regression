{
 "cells": [
  {
   "cell_type": "code",
   "execution_count": 1,
   "metadata": {},
   "outputs": [],
   "source": [
    "import numpy as np\n",
    "import pandas as pd\n",
    "import matplotlib.pyplot as plt\n",
    "import seaborn as sns"
   ]
  },
  {
   "cell_type": "code",
   "execution_count": 2,
   "metadata": {},
   "outputs": [],
   "source": [
    "df = pd.read_csv('vehicles.csv')"
   ]
  },
  {
   "cell_type": "code",
   "execution_count": 3,
   "metadata": {},
   "outputs": [],
   "source": [
    "pd.options.display.max_columns = None"
   ]
  },
  {
   "cell_type": "code",
   "execution_count": 4,
   "metadata": {
    "scrolled": false
   },
   "outputs": [
    {
     "data": {
      "text/html": [
       "<div>\n",
       "<style scoped>\n",
       "    .dataframe tbody tr th:only-of-type {\n",
       "        vertical-align: middle;\n",
       "    }\n",
       "\n",
       "    .dataframe tbody tr th {\n",
       "        vertical-align: top;\n",
       "    }\n",
       "\n",
       "    .dataframe thead th {\n",
       "        text-align: right;\n",
       "    }\n",
       "</style>\n",
       "<table border=\"1\" class=\"dataframe\">\n",
       "  <thead>\n",
       "    <tr style=\"text-align: right;\">\n",
       "      <th></th>\n",
       "      <th>Unnamed: 0</th>\n",
       "      <th>id</th>\n",
       "      <th>url</th>\n",
       "      <th>region</th>\n",
       "      <th>region_url</th>\n",
       "      <th>price</th>\n",
       "      <th>year</th>\n",
       "      <th>manufacturer</th>\n",
       "      <th>model</th>\n",
       "      <th>condition</th>\n",
       "      <th>cylinders</th>\n",
       "      <th>fuel</th>\n",
       "      <th>odometer</th>\n",
       "      <th>title_status</th>\n",
       "      <th>transmission</th>\n",
       "      <th>VIN</th>\n",
       "      <th>drive</th>\n",
       "      <th>size</th>\n",
       "      <th>type</th>\n",
       "      <th>paint_color</th>\n",
       "      <th>image_url</th>\n",
       "      <th>description</th>\n",
       "      <th>state</th>\n",
       "      <th>lat</th>\n",
       "      <th>long</th>\n",
       "      <th>posting_date</th>\n",
       "    </tr>\n",
       "  </thead>\n",
       "  <tbody>\n",
       "    <tr>\n",
       "      <th>0</th>\n",
       "      <td>0</td>\n",
       "      <td>7240372487</td>\n",
       "      <td>https://auburn.craigslist.org/ctd/d/auburn-uni...</td>\n",
       "      <td>auburn</td>\n",
       "      <td>https://auburn.craigslist.org</td>\n",
       "      <td>35990</td>\n",
       "      <td>2010.0</td>\n",
       "      <td>chevrolet</td>\n",
       "      <td>corvette grand sport</td>\n",
       "      <td>good</td>\n",
       "      <td>8 cylinders</td>\n",
       "      <td>gas</td>\n",
       "      <td>32742.0</td>\n",
       "      <td>clean</td>\n",
       "      <td>other</td>\n",
       "      <td>1G1YU3DW1A5106980</td>\n",
       "      <td>rwd</td>\n",
       "      <td>NaN</td>\n",
       "      <td>other</td>\n",
       "      <td>NaN</td>\n",
       "      <td>https://images.craigslist.org/00N0N_ipkbHVZYf4...</td>\n",
       "      <td>Carvana is the safer way to buy a car During t...</td>\n",
       "      <td>al</td>\n",
       "      <td>32.590000</td>\n",
       "      <td>-85.480000</td>\n",
       "      <td>2020-12-02T08:11:30-0600</td>\n",
       "    </tr>\n",
       "    <tr>\n",
       "      <th>1</th>\n",
       "      <td>1</td>\n",
       "      <td>7240309422</td>\n",
       "      <td>https://auburn.craigslist.org/cto/d/auburn-201...</td>\n",
       "      <td>auburn</td>\n",
       "      <td>https://auburn.craigslist.org</td>\n",
       "      <td>7500</td>\n",
       "      <td>2014.0</td>\n",
       "      <td>hyundai</td>\n",
       "      <td>sonata</td>\n",
       "      <td>excellent</td>\n",
       "      <td>4 cylinders</td>\n",
       "      <td>gas</td>\n",
       "      <td>93600.0</td>\n",
       "      <td>clean</td>\n",
       "      <td>automatic</td>\n",
       "      <td>5NPEC4AB0EH813529</td>\n",
       "      <td>fwd</td>\n",
       "      <td>NaN</td>\n",
       "      <td>sedan</td>\n",
       "      <td>NaN</td>\n",
       "      <td>https://images.craigslist.org/00s0s_gBHYmJ5o7y...</td>\n",
       "      <td>I'll move to another city and try to sell my c...</td>\n",
       "      <td>al</td>\n",
       "      <td>32.547500</td>\n",
       "      <td>-85.468200</td>\n",
       "      <td>2020-12-02T02:11:50-0600</td>\n",
       "    </tr>\n",
       "    <tr>\n",
       "      <th>2</th>\n",
       "      <td>2</td>\n",
       "      <td>7240224296</td>\n",
       "      <td>https://auburn.craigslist.org/cto/d/auburn-200...</td>\n",
       "      <td>auburn</td>\n",
       "      <td>https://auburn.craigslist.org</td>\n",
       "      <td>4900</td>\n",
       "      <td>2006.0</td>\n",
       "      <td>bmw</td>\n",
       "      <td>x3 3.0i</td>\n",
       "      <td>good</td>\n",
       "      <td>6 cylinders</td>\n",
       "      <td>gas</td>\n",
       "      <td>87046.0</td>\n",
       "      <td>clean</td>\n",
       "      <td>automatic</td>\n",
       "      <td>NaN</td>\n",
       "      <td>NaN</td>\n",
       "      <td>NaN</td>\n",
       "      <td>SUV</td>\n",
       "      <td>blue</td>\n",
       "      <td>https://images.craigslist.org/00B0B_5zgEGWPOrt...</td>\n",
       "      <td>Clean 2006 BMW X3 3.0I.  Beautiful and rare Bl...</td>\n",
       "      <td>al</td>\n",
       "      <td>32.616807</td>\n",
       "      <td>-85.464149</td>\n",
       "      <td>2020-12-01T19:50:41-0600</td>\n",
       "    </tr>\n",
       "    <tr>\n",
       "      <th>3</th>\n",
       "      <td>3</td>\n",
       "      <td>7240103965</td>\n",
       "      <td>https://auburn.craigslist.org/cto/d/lanett-tru...</td>\n",
       "      <td>auburn</td>\n",
       "      <td>https://auburn.craigslist.org</td>\n",
       "      <td>2000</td>\n",
       "      <td>1974.0</td>\n",
       "      <td>chevrolet</td>\n",
       "      <td>c-10</td>\n",
       "      <td>good</td>\n",
       "      <td>4 cylinders</td>\n",
       "      <td>gas</td>\n",
       "      <td>190000.0</td>\n",
       "      <td>clean</td>\n",
       "      <td>automatic</td>\n",
       "      <td>NaN</td>\n",
       "      <td>rwd</td>\n",
       "      <td>full-size</td>\n",
       "      <td>pickup</td>\n",
       "      <td>blue</td>\n",
       "      <td>https://images.craigslist.org/00M0M_6o7KcDpArw...</td>\n",
       "      <td>1974 chev. truck (LONG BED) NEW starter front ...</td>\n",
       "      <td>al</td>\n",
       "      <td>32.861600</td>\n",
       "      <td>-85.216100</td>\n",
       "      <td>2020-12-01T15:54:45-0600</td>\n",
       "    </tr>\n",
       "    <tr>\n",
       "      <th>4</th>\n",
       "      <td>4</td>\n",
       "      <td>7239983776</td>\n",
       "      <td>https://auburn.craigslist.org/cto/d/auburn-200...</td>\n",
       "      <td>auburn</td>\n",
       "      <td>https://auburn.craigslist.org</td>\n",
       "      <td>19500</td>\n",
       "      <td>2005.0</td>\n",
       "      <td>ford</td>\n",
       "      <td>f350 lariat</td>\n",
       "      <td>excellent</td>\n",
       "      <td>8 cylinders</td>\n",
       "      <td>diesel</td>\n",
       "      <td>116000.0</td>\n",
       "      <td>lien</td>\n",
       "      <td>automatic</td>\n",
       "      <td>NaN</td>\n",
       "      <td>4wd</td>\n",
       "      <td>full-size</td>\n",
       "      <td>pickup</td>\n",
       "      <td>blue</td>\n",
       "      <td>https://images.craigslist.org/00p0p_b95l1EgUfl...</td>\n",
       "      <td>2005 Ford F350 Lariat (Bullet Proofed). This t...</td>\n",
       "      <td>al</td>\n",
       "      <td>32.547500</td>\n",
       "      <td>-85.468200</td>\n",
       "      <td>2020-12-01T12:53:56-0600</td>\n",
       "    </tr>\n",
       "  </tbody>\n",
       "</table>\n",
       "</div>"
      ],
      "text/plain": [
       "   Unnamed: 0          id                                                url  \\\n",
       "0           0  7240372487  https://auburn.craigslist.org/ctd/d/auburn-uni...   \n",
       "1           1  7240309422  https://auburn.craigslist.org/cto/d/auburn-201...   \n",
       "2           2  7240224296  https://auburn.craigslist.org/cto/d/auburn-200...   \n",
       "3           3  7240103965  https://auburn.craigslist.org/cto/d/lanett-tru...   \n",
       "4           4  7239983776  https://auburn.craigslist.org/cto/d/auburn-200...   \n",
       "\n",
       "   region                     region_url  price    year manufacturer  \\\n",
       "0  auburn  https://auburn.craigslist.org  35990  2010.0    chevrolet   \n",
       "1  auburn  https://auburn.craigslist.org   7500  2014.0      hyundai   \n",
       "2  auburn  https://auburn.craigslist.org   4900  2006.0          bmw   \n",
       "3  auburn  https://auburn.craigslist.org   2000  1974.0    chevrolet   \n",
       "4  auburn  https://auburn.craigslist.org  19500  2005.0         ford   \n",
       "\n",
       "                  model  condition    cylinders    fuel  odometer  \\\n",
       "0  corvette grand sport       good  8 cylinders     gas   32742.0   \n",
       "1                sonata  excellent  4 cylinders     gas   93600.0   \n",
       "2               x3 3.0i       good  6 cylinders     gas   87046.0   \n",
       "3                  c-10       good  4 cylinders     gas  190000.0   \n",
       "4           f350 lariat  excellent  8 cylinders  diesel  116000.0   \n",
       "\n",
       "  title_status transmission                VIN drive       size    type  \\\n",
       "0        clean        other  1G1YU3DW1A5106980   rwd        NaN   other   \n",
       "1        clean    automatic  5NPEC4AB0EH813529   fwd        NaN   sedan   \n",
       "2        clean    automatic                NaN   NaN        NaN     SUV   \n",
       "3        clean    automatic                NaN   rwd  full-size  pickup   \n",
       "4         lien    automatic                NaN   4wd  full-size  pickup   \n",
       "\n",
       "  paint_color                                          image_url  \\\n",
       "0         NaN  https://images.craigslist.org/00N0N_ipkbHVZYf4...   \n",
       "1         NaN  https://images.craigslist.org/00s0s_gBHYmJ5o7y...   \n",
       "2        blue  https://images.craigslist.org/00B0B_5zgEGWPOrt...   \n",
       "3        blue  https://images.craigslist.org/00M0M_6o7KcDpArw...   \n",
       "4        blue  https://images.craigslist.org/00p0p_b95l1EgUfl...   \n",
       "\n",
       "                                         description state        lat  \\\n",
       "0  Carvana is the safer way to buy a car During t...    al  32.590000   \n",
       "1  I'll move to another city and try to sell my c...    al  32.547500   \n",
       "2  Clean 2006 BMW X3 3.0I.  Beautiful and rare Bl...    al  32.616807   \n",
       "3  1974 chev. truck (LONG BED) NEW starter front ...    al  32.861600   \n",
       "4  2005 Ford F350 Lariat (Bullet Proofed). This t...    al  32.547500   \n",
       "\n",
       "        long              posting_date  \n",
       "0 -85.480000  2020-12-02T08:11:30-0600  \n",
       "1 -85.468200  2020-12-02T02:11:50-0600  \n",
       "2 -85.464149  2020-12-01T19:50:41-0600  \n",
       "3 -85.216100  2020-12-01T15:54:45-0600  \n",
       "4 -85.468200  2020-12-01T12:53:56-0600  "
      ]
     },
     "execution_count": 4,
     "metadata": {},
     "output_type": "execute_result"
    }
   ],
   "source": [
    "df.head()"
   ]
  },
  {
   "cell_type": "code",
   "execution_count": 5,
   "metadata": {},
   "outputs": [
    {
     "data": {
      "text/plain": [
       "(458213, 26)"
      ]
     },
     "execution_count": 5,
     "metadata": {},
     "output_type": "execute_result"
    }
   ],
   "source": [
    "df.shape"
   ]
  },
  {
   "cell_type": "code",
   "execution_count": 6,
   "metadata": {},
   "outputs": [
    {
     "name": "stdout",
     "output_type": "stream",
     "text": [
      "<class 'pandas.core.frame.DataFrame'>\n",
      "RangeIndex: 458213 entries, 0 to 458212\n",
      "Data columns (total 26 columns):\n",
      " #   Column        Non-Null Count   Dtype  \n",
      "---  ------        --------------   -----  \n",
      " 0   Unnamed: 0    458213 non-null  int64  \n",
      " 1   id            458213 non-null  int64  \n",
      " 2   url           458213 non-null  object \n",
      " 3   region        458213 non-null  object \n",
      " 4   region_url    458213 non-null  object \n",
      " 5   price         458213 non-null  int64  \n",
      " 6   year          457163 non-null  float64\n",
      " 7   manufacturer  439993 non-null  object \n",
      " 8   model         453367 non-null  object \n",
      " 9   condition     265273 non-null  object \n",
      " 10  cylinders     287073 non-null  object \n",
      " 11  fuel          454976 non-null  object \n",
      " 12  odometer      402910 non-null  float64\n",
      " 13  title_status  455636 non-null  object \n",
      " 14  transmission  455771 non-null  object \n",
      " 15  VIN           270664 non-null  object \n",
      " 16  drive         324025 non-null  object \n",
      " 17  size          136865 non-null  object \n",
      " 18  type          345475 non-null  object \n",
      " 19  paint_color   317370 non-null  object \n",
      " 20  image_url     458185 non-null  object \n",
      " 21  description   458143 non-null  object \n",
      " 22  state         458213 non-null  object \n",
      " 23  lat           450765 non-null  float64\n",
      " 24  long          450765 non-null  float64\n",
      " 25  posting_date  458185 non-null  object \n",
      "dtypes: float64(4), int64(3), object(19)\n",
      "memory usage: 90.9+ MB\n"
     ]
    }
   ],
   "source": [
    "df.info()"
   ]
  },
  {
   "cell_type": "markdown",
   "metadata": {},
   "source": [
    "### DATA CLEANING"
   ]
  },
  {
   "cell_type": "markdown",
   "metadata": {},
   "source": [
    "#### Drop Redundant and Insignificant columns"
   ]
  },
  {
   "cell_type": "markdown",
   "metadata": {},
   "source": [
    "* Dropping columns Unnamed: 0, id, url, region_url, image_url,VIN  because of its insignificance."
   ]
  },
  {
   "cell_type": "code",
   "execution_count": 7,
   "metadata": {},
   "outputs": [],
   "source": [
    "df.drop(columns=['Unnamed: 0','id','url','region_url','image_url','VIN','state','lat','long'],inplace = True)"
   ]
  },
  {
   "cell_type": "markdown",
   "metadata": {},
   "source": [
    "##### Posting_date"
   ]
  },
  {
   "cell_type": "code",
   "execution_count": 8,
   "metadata": {},
   "outputs": [
    {
     "data": {
      "text/plain": [
       "2020    458185\n",
       "Name: posting_date, dtype: int64"
      ]
     },
     "execution_count": 8,
     "metadata": {},
     "output_type": "execute_result"
    }
   ],
   "source": [
    "year  = df['posting_date'].apply(lambda x: x[0:4] if type(x)!= float else x)\n",
    "year.value_counts()"
   ]
  },
  {
   "cell_type": "markdown",
   "metadata": {},
   "source": [
    "##### Model"
   ]
  },
  {
   "cell_type": "code",
   "execution_count": 9,
   "metadata": {},
   "outputs": [
    {
     "data": {
      "text/plain": [
       "f-150                8370\n",
       "silverado 1500       5964\n",
       "1500                 4211\n",
       "camry                4033\n",
       "accord               3730\n",
       "                     ... \n",
       "benz s class s550       1\n",
       "F350 UTILITY            1\n",
       "savana cargo 1500       1\n",
       "rav3                    1\n",
       "outback turbo           1\n",
       "Name: model, Length: 31520, dtype: int64"
      ]
     },
     "execution_count": 9,
     "metadata": {},
     "output_type": "execute_result"
    }
   ],
   "source": [
    "df['model'].value_counts()"
   ]
  },
  {
   "cell_type": "markdown",
   "metadata": {},
   "source": [
    "* Posting_Date is dropped as all cars belongs to same year '2020'\n",
    "* Model is dropped ,since it has more value counts.\n",
    "* Region is dropped as we have state feature present."
   ]
  },
  {
   "cell_type": "code",
   "execution_count": 10,
   "metadata": {},
   "outputs": [],
   "source": [
    "df.drop(columns = ['posting_date','model','description','region'],inplace = True)"
   ]
  },
  {
   "cell_type": "markdown",
   "metadata": {},
   "source": [
    "#### Dropping Duplicates"
   ]
  },
  {
   "cell_type": "code",
   "execution_count": 11,
   "metadata": {},
   "outputs": [
    {
     "data": {
      "text/plain": [
       "169152"
      ]
     },
     "execution_count": 11,
     "metadata": {},
     "output_type": "execute_result"
    }
   ],
   "source": [
    "df.duplicated().sum()"
   ]
  },
  {
   "cell_type": "code",
   "execution_count": 12,
   "metadata": {},
   "outputs": [],
   "source": [
    "df.drop_duplicates(inplace = True)"
   ]
  },
  {
   "cell_type": "code",
   "execution_count": 13,
   "metadata": {
    "scrolled": true
   },
   "outputs": [
    {
     "name": "stdout",
     "output_type": "stream",
     "text": [
      "After removing duplicates,\n",
      "No of rows: 289061 \n",
      "No of columns 13\n"
     ]
    }
   ],
   "source": [
    "print('After removing duplicates,\\nNo of rows:',df.shape[0],'\\nNo of columns',df.shape[1])"
   ]
  },
  {
   "cell_type": "markdown",
   "metadata": {},
   "source": [
    "#### Null Value Treatment"
   ]
  },
  {
   "cell_type": "code",
   "execution_count": 14,
   "metadata": {},
   "outputs": [
    {
     "data": {
      "text/html": [
       "<div>\n",
       "<style scoped>\n",
       "    .dataframe tbody tr th:only-of-type {\n",
       "        vertical-align: middle;\n",
       "    }\n",
       "\n",
       "    .dataframe tbody tr th {\n",
       "        vertical-align: top;\n",
       "    }\n",
       "\n",
       "    .dataframe thead th {\n",
       "        text-align: right;\n",
       "    }\n",
       "</style>\n",
       "<table border=\"1\" class=\"dataframe\">\n",
       "  <thead>\n",
       "    <tr style=\"text-align: right;\">\n",
       "      <th></th>\n",
       "      <th>Features</th>\n",
       "      <th>value</th>\n",
       "      <th>percent_of_null</th>\n",
       "    </tr>\n",
       "  </thead>\n",
       "  <tbody>\n",
       "    <tr>\n",
       "      <th>0</th>\n",
       "      <td>price</td>\n",
       "      <td>0</td>\n",
       "      <td>0.00</td>\n",
       "    </tr>\n",
       "    <tr>\n",
       "      <th>1</th>\n",
       "      <td>year</td>\n",
       "      <td>695</td>\n",
       "      <td>0.24</td>\n",
       "    </tr>\n",
       "    <tr>\n",
       "      <th>2</th>\n",
       "      <td>manufacturer</td>\n",
       "      <td>11695</td>\n",
       "      <td>4.05</td>\n",
       "    </tr>\n",
       "    <tr>\n",
       "      <th>3</th>\n",
       "      <td>condition</td>\n",
       "      <td>112668</td>\n",
       "      <td>38.98</td>\n",
       "    </tr>\n",
       "    <tr>\n",
       "      <th>4</th>\n",
       "      <td>cylinders</td>\n",
       "      <td>100273</td>\n",
       "      <td>34.69</td>\n",
       "    </tr>\n",
       "    <tr>\n",
       "      <th>5</th>\n",
       "      <td>fuel</td>\n",
       "      <td>1779</td>\n",
       "      <td>0.62</td>\n",
       "    </tr>\n",
       "    <tr>\n",
       "      <th>6</th>\n",
       "      <td>odometer</td>\n",
       "      <td>36640</td>\n",
       "      <td>12.68</td>\n",
       "    </tr>\n",
       "    <tr>\n",
       "      <th>7</th>\n",
       "      <td>title_status</td>\n",
       "      <td>1471</td>\n",
       "      <td>0.51</td>\n",
       "    </tr>\n",
       "    <tr>\n",
       "      <th>8</th>\n",
       "      <td>transmission</td>\n",
       "      <td>1367</td>\n",
       "      <td>0.47</td>\n",
       "    </tr>\n",
       "    <tr>\n",
       "      <th>9</th>\n",
       "      <td>drive</td>\n",
       "      <td>83069</td>\n",
       "      <td>28.74</td>\n",
       "    </tr>\n",
       "    <tr>\n",
       "      <th>10</th>\n",
       "      <td>size</td>\n",
       "      <td>186062</td>\n",
       "      <td>64.37</td>\n",
       "    </tr>\n",
       "    <tr>\n",
       "      <th>11</th>\n",
       "      <td>type</td>\n",
       "      <td>76092</td>\n",
       "      <td>26.32</td>\n",
       "    </tr>\n",
       "    <tr>\n",
       "      <th>12</th>\n",
       "      <td>paint_color</td>\n",
       "      <td>86553</td>\n",
       "      <td>29.94</td>\n",
       "    </tr>\n",
       "  </tbody>\n",
       "</table>\n",
       "</div>"
      ],
      "text/plain": [
       "        Features   value  percent_of_null\n",
       "0          price       0             0.00\n",
       "1           year     695             0.24\n",
       "2   manufacturer   11695             4.05\n",
       "3      condition  112668            38.98\n",
       "4      cylinders  100273            34.69\n",
       "5           fuel    1779             0.62\n",
       "6       odometer   36640            12.68\n",
       "7   title_status    1471             0.51\n",
       "8   transmission    1367             0.47\n",
       "9          drive   83069            28.74\n",
       "10          size  186062            64.37\n",
       "11          type   76092            26.32\n",
       "12   paint_color   86553            29.94"
      ]
     },
     "execution_count": 14,
     "metadata": {},
     "output_type": "execute_result"
    }
   ],
   "source": [
    "null = pd.DataFrame(df.isnull().sum()).reset_index()\n",
    "null.columns = ['Features','value']\n",
    "null['percent_of_null'] = round(null['value']*100/df.shape[0],2)\n",
    "null"
   ]
  },
  {
   "cell_type": "markdown",
   "metadata": {},
   "source": [
    "* since size has 68% of null values , it is dropped"
   ]
  },
  {
   "cell_type": "code",
   "execution_count": 15,
   "metadata": {},
   "outputs": [],
   "source": [
    "df.drop('size',axis = 1,inplace = True)"
   ]
  },
  {
   "cell_type": "markdown",
   "metadata": {},
   "source": [
    "#### Dropping rows"
   ]
  },
  {
   "cell_type": "markdown",
   "metadata": {},
   "source": [
    " * cylinders and drive plays a major role in cars , imputing may lead to wrong prediction.\n",
    " * price with '0' rows are removed as it is a target varible"
   ]
  },
  {
   "cell_type": "code",
   "execution_count": 16,
   "metadata": {},
   "outputs": [],
   "source": [
    "df.dropna(axis = 0,subset={'cylinders','drive'},inplace = True)"
   ]
  },
  {
   "cell_type": "code",
   "execution_count": 17,
   "metadata": {},
   "outputs": [],
   "source": [
    "df = df.loc[df['price'] != 0,:]"
   ]
  },
  {
   "cell_type": "code",
   "execution_count": 18,
   "metadata": {},
   "outputs": [
    {
     "data": {
      "text/plain": [
       "(158793, 12)"
      ]
     },
     "execution_count": 18,
     "metadata": {},
     "output_type": "execute_result"
    }
   ],
   "source": [
    "df.shape"
   ]
  },
  {
   "cell_type": "code",
   "execution_count": 19,
   "metadata": {},
   "outputs": [
    {
     "name": "stdout",
     "output_type": "stream",
     "text": [
      "After removing null value rows in cylinder and drive:\n"
     ]
    },
    {
     "data": {
      "text/html": [
       "<div>\n",
       "<style scoped>\n",
       "    .dataframe tbody tr th:only-of-type {\n",
       "        vertical-align: middle;\n",
       "    }\n",
       "\n",
       "    .dataframe tbody tr th {\n",
       "        vertical-align: top;\n",
       "    }\n",
       "\n",
       "    .dataframe thead th {\n",
       "        text-align: right;\n",
       "    }\n",
       "</style>\n",
       "<table border=\"1\" class=\"dataframe\">\n",
       "  <thead>\n",
       "    <tr style=\"text-align: right;\">\n",
       "      <th></th>\n",
       "      <th>Features</th>\n",
       "      <th>value</th>\n",
       "      <th>percent_of_null</th>\n",
       "    </tr>\n",
       "  </thead>\n",
       "  <tbody>\n",
       "    <tr>\n",
       "      <th>0</th>\n",
       "      <td>price</td>\n",
       "      <td>0</td>\n",
       "      <td>0.00</td>\n",
       "    </tr>\n",
       "    <tr>\n",
       "      <th>1</th>\n",
       "      <td>year</td>\n",
       "      <td>532</td>\n",
       "      <td>0.34</td>\n",
       "    </tr>\n",
       "    <tr>\n",
       "      <th>2</th>\n",
       "      <td>manufacturer</td>\n",
       "      <td>5816</td>\n",
       "      <td>3.66</td>\n",
       "    </tr>\n",
       "    <tr>\n",
       "      <th>3</th>\n",
       "      <td>condition</td>\n",
       "      <td>35761</td>\n",
       "      <td>22.52</td>\n",
       "    </tr>\n",
       "    <tr>\n",
       "      <th>4</th>\n",
       "      <td>cylinders</td>\n",
       "      <td>0</td>\n",
       "      <td>0.00</td>\n",
       "    </tr>\n",
       "    <tr>\n",
       "      <th>5</th>\n",
       "      <td>fuel</td>\n",
       "      <td>721</td>\n",
       "      <td>0.45</td>\n",
       "    </tr>\n",
       "    <tr>\n",
       "      <th>6</th>\n",
       "      <td>odometer</td>\n",
       "      <td>11896</td>\n",
       "      <td>7.49</td>\n",
       "    </tr>\n",
       "    <tr>\n",
       "      <th>7</th>\n",
       "      <td>title_status</td>\n",
       "      <td>521</td>\n",
       "      <td>0.33</td>\n",
       "    </tr>\n",
       "    <tr>\n",
       "      <th>8</th>\n",
       "      <td>transmission</td>\n",
       "      <td>35</td>\n",
       "      <td>0.02</td>\n",
       "    </tr>\n",
       "    <tr>\n",
       "      <th>9</th>\n",
       "      <td>drive</td>\n",
       "      <td>0</td>\n",
       "      <td>0.00</td>\n",
       "    </tr>\n",
       "    <tr>\n",
       "      <th>10</th>\n",
       "      <td>type</td>\n",
       "      <td>17015</td>\n",
       "      <td>10.72</td>\n",
       "    </tr>\n",
       "    <tr>\n",
       "      <th>11</th>\n",
       "      <td>paint_color</td>\n",
       "      <td>21324</td>\n",
       "      <td>13.43</td>\n",
       "    </tr>\n",
       "  </tbody>\n",
       "</table>\n",
       "</div>"
      ],
      "text/plain": [
       "        Features  value  percent_of_null\n",
       "0          price      0             0.00\n",
       "1           year    532             0.34\n",
       "2   manufacturer   5816             3.66\n",
       "3      condition  35761            22.52\n",
       "4      cylinders      0             0.00\n",
       "5           fuel    721             0.45\n",
       "6       odometer  11896             7.49\n",
       "7   title_status    521             0.33\n",
       "8   transmission     35             0.02\n",
       "9          drive      0             0.00\n",
       "10          type  17015            10.72\n",
       "11   paint_color  21324            13.43"
      ]
     },
     "execution_count": 19,
     "metadata": {},
     "output_type": "execute_result"
    }
   ],
   "source": [
    "print('After removing null value rows in cylinder and drive:')\n",
    "null = pd.DataFrame(df.isnull().sum()).reset_index()\n",
    "null.columns = ['Features','value']\n",
    "null['percent_of_null'] = round(null['value']*100/df.shape[0],2)\n",
    "null"
   ]
  },
  {
   "cell_type": "markdown",
   "metadata": {},
   "source": [
    "#### Missing Value Treatment"
   ]
  },
  {
   "cell_type": "code",
   "execution_count": 20,
   "metadata": {},
   "outputs": [],
   "source": [
    "import statistics as s"
   ]
  },
  {
   "cell_type": "markdown",
   "metadata": {},
   "source": [
    "* *paint color*  is imputed with 'other' because car might have different colors other than the given colors.\n",
    "* *manufacturer* is imputed with 'other' , as any of the manufacturer which is not in the list might be a possibility.\n",
    "*  since most of the vehicles(around 80%) belongs to fuel-'gas',null values are imputed with it.\n",
    "* *'year'*  has very less null values (around 0.4%), so it is treated with most repeated values.\n",
    "* *'type'*  is imputed with 'other' as there is a chance of other types which is not mentioned.\n",
    "* *'title_status'*  is also filled with most repeated value as it has very less percent of null.\n",
    "* *'transmission'* has very less percent of null values , so it is treated with mode."
   ]
  },
  {
   "cell_type": "code",
   "execution_count": 21,
   "metadata": {},
   "outputs": [],
   "source": [
    "df['paint_color'].fillna('other',inplace = True)\n",
    "df['manufacturer'].fillna('Not_Specified',inplace = True)\n",
    "df['fuel'].fillna(s.mode(df['fuel']),inplace = True)\n",
    "df['year'].fillna(s.mode(df['year']),inplace = True)\n",
    "df['type'].fillna('other',inplace = True)\n",
    "df['title_status'].fillna(s.mode(df['title_status']),inplace = True)\n",
    "df['transmission'].fillna(s.mode(df['transmission']),inplace = True)"
   ]
  },
  {
   "cell_type": "code",
   "execution_count": 22,
   "metadata": {},
   "outputs": [
    {
     "data": {
      "text/plain": [
       "(158793, 12)"
      ]
     },
     "execution_count": 22,
     "metadata": {},
     "output_type": "execute_result"
    }
   ],
   "source": [
    "df.shape"
   ]
  },
  {
   "cell_type": "markdown",
   "metadata": {},
   "source": [
    "##### Condition , odometer"
   ]
  },
  {
   "cell_type": "markdown",
   "metadata": {},
   "source": [
    "* Null values present in condition is labeled as 'Not Mentioned'"
   ]
  },
  {
   "cell_type": "code",
   "execution_count": 23,
   "metadata": {},
   "outputs": [
    {
     "data": {
      "text/plain": [
       "excellent    58414\n",
       "good         43598\n",
       "like new     14224\n",
       "fair          5633\n",
       "new            696\n",
       "salvage        467\n",
       "Name: condition, dtype: int64"
      ]
     },
     "execution_count": 23,
     "metadata": {},
     "output_type": "execute_result"
    }
   ],
   "source": [
    "df['condition'].value_counts()"
   ]
  },
  {
   "cell_type": "code",
   "execution_count": 24,
   "metadata": {},
   "outputs": [],
   "source": [
    "df['condition'].fillna('Not mentioned',inplace = True)"
   ]
  },
  {
   "cell_type": "markdown",
   "metadata": {},
   "source": [
    "* In odometer , first bins are created to reduce noise.\n",
    "* Then null values are filled with 0."
   ]
  },
  {
   "cell_type": "code",
   "execution_count": 25,
   "metadata": {},
   "outputs": [],
   "source": [
    "import math as m"
   ]
  },
  {
   "cell_type": "code",
   "execution_count": 26,
   "metadata": {
    "scrolled": true
   },
   "outputs": [],
   "source": [
    "odo= []\n",
    "for i in df.odometer:\n",
    "    if(m.isnan(i)):\n",
    "        odo.append(i)\n",
    "    elif(i<=25000):\n",
    "        odo.append(1)\n",
    "    elif(i>25000 and i<50000):\n",
    "        odo.append(2)\n",
    "    elif(i>50000 and i<=75000):\n",
    "        odo.append(3)\n",
    "    elif(i>75000 and i<=100000):\n",
    "        odo.append(4)\n",
    "    elif(i>100000 and i<=125000):\n",
    "        odo.append(5)\n",
    "    elif(i>125000 and i<=150000):\n",
    "        odo.append(6)\n",
    "    elif(i>150000 and i<=175000):\n",
    "        odo.append(7)\n",
    "    else:\n",
    "        odo.append(8)\n",
    "odo = pd.Series(odo,name='odo')"
   ]
  },
  {
   "cell_type": "code",
   "execution_count": 27,
   "metadata": {},
   "outputs": [],
   "source": [
    "df.reset_index(inplace = True)"
   ]
  },
  {
   "cell_type": "code",
   "execution_count": 28,
   "metadata": {},
   "outputs": [],
   "source": [
    "df.drop(columns = ['index'],inplace = True)"
   ]
  },
  {
   "cell_type": "code",
   "execution_count": 29,
   "metadata": {},
   "outputs": [],
   "source": [
    "df.drop('odometer',axis = 1,inplace = True)"
   ]
  },
  {
   "cell_type": "code",
   "execution_count": 30,
   "metadata": {},
   "outputs": [],
   "source": [
    "df = pd.concat((df,odo),axis =1)"
   ]
  },
  {
   "cell_type": "code",
   "execution_count": 31,
   "metadata": {},
   "outputs": [
    {
     "data": {
      "text/html": [
       "<div>\n",
       "<style scoped>\n",
       "    .dataframe tbody tr th:only-of-type {\n",
       "        vertical-align: middle;\n",
       "    }\n",
       "\n",
       "    .dataframe tbody tr th {\n",
       "        vertical-align: top;\n",
       "    }\n",
       "\n",
       "    .dataframe thead th {\n",
       "        text-align: right;\n",
       "    }\n",
       "</style>\n",
       "<table border=\"1\" class=\"dataframe\">\n",
       "  <thead>\n",
       "    <tr style=\"text-align: right;\">\n",
       "      <th></th>\n",
       "      <th>price</th>\n",
       "      <th>year</th>\n",
       "      <th>manufacturer</th>\n",
       "      <th>condition</th>\n",
       "      <th>cylinders</th>\n",
       "      <th>fuel</th>\n",
       "      <th>title_status</th>\n",
       "      <th>transmission</th>\n",
       "      <th>drive</th>\n",
       "      <th>type</th>\n",
       "      <th>paint_color</th>\n",
       "      <th>odo</th>\n",
       "    </tr>\n",
       "  </thead>\n",
       "  <tbody>\n",
       "    <tr>\n",
       "      <th>0</th>\n",
       "      <td>35990</td>\n",
       "      <td>2010.0</td>\n",
       "      <td>chevrolet</td>\n",
       "      <td>good</td>\n",
       "      <td>8 cylinders</td>\n",
       "      <td>gas</td>\n",
       "      <td>clean</td>\n",
       "      <td>other</td>\n",
       "      <td>rwd</td>\n",
       "      <td>other</td>\n",
       "      <td>other</td>\n",
       "      <td>2.0</td>\n",
       "    </tr>\n",
       "    <tr>\n",
       "      <th>1</th>\n",
       "      <td>7500</td>\n",
       "      <td>2014.0</td>\n",
       "      <td>hyundai</td>\n",
       "      <td>excellent</td>\n",
       "      <td>4 cylinders</td>\n",
       "      <td>gas</td>\n",
       "      <td>clean</td>\n",
       "      <td>automatic</td>\n",
       "      <td>fwd</td>\n",
       "      <td>sedan</td>\n",
       "      <td>other</td>\n",
       "      <td>4.0</td>\n",
       "    </tr>\n",
       "    <tr>\n",
       "      <th>2</th>\n",
       "      <td>2000</td>\n",
       "      <td>1974.0</td>\n",
       "      <td>chevrolet</td>\n",
       "      <td>good</td>\n",
       "      <td>4 cylinders</td>\n",
       "      <td>gas</td>\n",
       "      <td>clean</td>\n",
       "      <td>automatic</td>\n",
       "      <td>rwd</td>\n",
       "      <td>pickup</td>\n",
       "      <td>blue</td>\n",
       "      <td>8.0</td>\n",
       "    </tr>\n",
       "    <tr>\n",
       "      <th>3</th>\n",
       "      <td>19500</td>\n",
       "      <td>2005.0</td>\n",
       "      <td>ford</td>\n",
       "      <td>excellent</td>\n",
       "      <td>8 cylinders</td>\n",
       "      <td>diesel</td>\n",
       "      <td>lien</td>\n",
       "      <td>automatic</td>\n",
       "      <td>4wd</td>\n",
       "      <td>pickup</td>\n",
       "      <td>blue</td>\n",
       "      <td>5.0</td>\n",
       "    </tr>\n",
       "    <tr>\n",
       "      <th>4</th>\n",
       "      <td>39990</td>\n",
       "      <td>2012.0</td>\n",
       "      <td>ford</td>\n",
       "      <td>good</td>\n",
       "      <td>8 cylinders</td>\n",
       "      <td>gas</td>\n",
       "      <td>clean</td>\n",
       "      <td>other</td>\n",
       "      <td>rwd</td>\n",
       "      <td>coupe</td>\n",
       "      <td>blue</td>\n",
       "      <td>1.0</td>\n",
       "    </tr>\n",
       "  </tbody>\n",
       "</table>\n",
       "</div>"
      ],
      "text/plain": [
       "   price    year manufacturer  condition    cylinders    fuel title_status  \\\n",
       "0  35990  2010.0    chevrolet       good  8 cylinders     gas        clean   \n",
       "1   7500  2014.0      hyundai  excellent  4 cylinders     gas        clean   \n",
       "2   2000  1974.0    chevrolet       good  4 cylinders     gas        clean   \n",
       "3  19500  2005.0         ford  excellent  8 cylinders  diesel         lien   \n",
       "4  39990  2012.0         ford       good  8 cylinders     gas        clean   \n",
       "\n",
       "  transmission drive    type paint_color  odo  \n",
       "0        other   rwd   other       other  2.0  \n",
       "1    automatic   fwd   sedan       other  4.0  \n",
       "2    automatic   rwd  pickup        blue  8.0  \n",
       "3    automatic   4wd  pickup        blue  5.0  \n",
       "4        other   rwd   coupe        blue  1.0  "
      ]
     },
     "execution_count": 31,
     "metadata": {},
     "output_type": "execute_result"
    }
   ],
   "source": [
    "df.head()"
   ]
  },
  {
   "cell_type": "code",
   "execution_count": 32,
   "metadata": {},
   "outputs": [],
   "source": [
    "df['odo'].fillna('0',inplace = True)"
   ]
  },
  {
   "cell_type": "code",
   "execution_count": 33,
   "metadata": {},
   "outputs": [
    {
     "data": {
      "text/html": [
       "<div>\n",
       "<style scoped>\n",
       "    .dataframe tbody tr th:only-of-type {\n",
       "        vertical-align: middle;\n",
       "    }\n",
       "\n",
       "    .dataframe tbody tr th {\n",
       "        vertical-align: top;\n",
       "    }\n",
       "\n",
       "    .dataframe thead th {\n",
       "        text-align: right;\n",
       "    }\n",
       "</style>\n",
       "<table border=\"1\" class=\"dataframe\">\n",
       "  <thead>\n",
       "    <tr style=\"text-align: right;\">\n",
       "      <th></th>\n",
       "      <th>Features</th>\n",
       "      <th>value</th>\n",
       "      <th>percent_of_null</th>\n",
       "    </tr>\n",
       "  </thead>\n",
       "  <tbody>\n",
       "    <tr>\n",
       "      <th>0</th>\n",
       "      <td>price</td>\n",
       "      <td>0</td>\n",
       "      <td>0.0</td>\n",
       "    </tr>\n",
       "    <tr>\n",
       "      <th>1</th>\n",
       "      <td>year</td>\n",
       "      <td>0</td>\n",
       "      <td>0.0</td>\n",
       "    </tr>\n",
       "    <tr>\n",
       "      <th>2</th>\n",
       "      <td>manufacturer</td>\n",
       "      <td>0</td>\n",
       "      <td>0.0</td>\n",
       "    </tr>\n",
       "    <tr>\n",
       "      <th>3</th>\n",
       "      <td>condition</td>\n",
       "      <td>0</td>\n",
       "      <td>0.0</td>\n",
       "    </tr>\n",
       "    <tr>\n",
       "      <th>4</th>\n",
       "      <td>cylinders</td>\n",
       "      <td>0</td>\n",
       "      <td>0.0</td>\n",
       "    </tr>\n",
       "    <tr>\n",
       "      <th>5</th>\n",
       "      <td>fuel</td>\n",
       "      <td>0</td>\n",
       "      <td>0.0</td>\n",
       "    </tr>\n",
       "    <tr>\n",
       "      <th>6</th>\n",
       "      <td>title_status</td>\n",
       "      <td>0</td>\n",
       "      <td>0.0</td>\n",
       "    </tr>\n",
       "    <tr>\n",
       "      <th>7</th>\n",
       "      <td>transmission</td>\n",
       "      <td>0</td>\n",
       "      <td>0.0</td>\n",
       "    </tr>\n",
       "    <tr>\n",
       "      <th>8</th>\n",
       "      <td>drive</td>\n",
       "      <td>0</td>\n",
       "      <td>0.0</td>\n",
       "    </tr>\n",
       "    <tr>\n",
       "      <th>9</th>\n",
       "      <td>type</td>\n",
       "      <td>0</td>\n",
       "      <td>0.0</td>\n",
       "    </tr>\n",
       "    <tr>\n",
       "      <th>10</th>\n",
       "      <td>paint_color</td>\n",
       "      <td>0</td>\n",
       "      <td>0.0</td>\n",
       "    </tr>\n",
       "    <tr>\n",
       "      <th>11</th>\n",
       "      <td>odo</td>\n",
       "      <td>0</td>\n",
       "      <td>0.0</td>\n",
       "    </tr>\n",
       "  </tbody>\n",
       "</table>\n",
       "</div>"
      ],
      "text/plain": [
       "        Features  value  percent_of_null\n",
       "0          price      0              0.0\n",
       "1           year      0              0.0\n",
       "2   manufacturer      0              0.0\n",
       "3      condition      0              0.0\n",
       "4      cylinders      0              0.0\n",
       "5           fuel      0              0.0\n",
       "6   title_status      0              0.0\n",
       "7   transmission      0              0.0\n",
       "8          drive      0              0.0\n",
       "9           type      0              0.0\n",
       "10   paint_color      0              0.0\n",
       "11           odo      0              0.0"
      ]
     },
     "execution_count": 33,
     "metadata": {},
     "output_type": "execute_result"
    }
   ],
   "source": [
    "null = pd.DataFrame(df.isnull().sum()).reset_index()\n",
    "null.columns = ['Features','value']\n",
    "null['percent_of_null'] = round(null['value']*100/df.shape[0],2)\n",
    "null"
   ]
  },
  {
   "cell_type": "code",
   "execution_count": 34,
   "metadata": {},
   "outputs": [
    {
     "name": "stdout",
     "output_type": "stream",
     "text": [
      "<class 'pandas.core.frame.DataFrame'>\n",
      "RangeIndex: 158793 entries, 0 to 158792\n",
      "Data columns (total 12 columns):\n",
      " #   Column        Non-Null Count   Dtype  \n",
      "---  ------        --------------   -----  \n",
      " 0   price         158793 non-null  int64  \n",
      " 1   year          158793 non-null  float64\n",
      " 2   manufacturer  158793 non-null  object \n",
      " 3   condition     158793 non-null  object \n",
      " 4   cylinders     158793 non-null  object \n",
      " 5   fuel          158793 non-null  object \n",
      " 6   title_status  158793 non-null  object \n",
      " 7   transmission  158793 non-null  object \n",
      " 8   drive         158793 non-null  object \n",
      " 9   type          158793 non-null  object \n",
      " 10  paint_color   158793 non-null  object \n",
      " 11  odo           158793 non-null  object \n",
      "dtypes: float64(1), int64(1), object(10)\n",
      "memory usage: 14.5+ MB\n"
     ]
    }
   ],
   "source": [
    "df.info()"
   ]
  },
  {
   "cell_type": "markdown",
   "metadata": {},
   "source": [
    "#### conversion of datatypes:"
   ]
  },
  {
   "cell_type": "code",
   "execution_count": 35,
   "metadata": {},
   "outputs": [],
   "source": [
    "df['year'] = df['year'].astype(int)"
   ]
  },
  {
   "cell_type": "markdown",
   "metadata": {},
   "source": [
    "### EXPLORATORY DATA ANALYSIS"
   ]
  },
  {
   "cell_type": "markdown",
   "metadata": {},
   "source": [
    "#### univariate and bivariate analysis"
   ]
  },
  {
   "cell_type": "markdown",
   "metadata": {},
   "source": [
    "##### Manufacturer"
   ]
  },
  {
   "cell_type": "code",
   "execution_count": 36,
   "metadata": {},
   "outputs": [],
   "source": [
    "cumulative = df['manufacturer'].value_counts(normalize = True).cumsum()"
   ]
  },
  {
   "cell_type": "markdown",
   "metadata": {},
   "source": [
    "* As first 20 manufacturers contributes to 90% of the vehicles, remaining are treated as 'others'."
   ]
  },
  {
   "cell_type": "code",
   "execution_count": 37,
   "metadata": {},
   "outputs": [],
   "source": [
    "l = cumulative.index[0:20]\n",
    "df['manufacturer'] = df['manufacturer'].apply(lambda x:x if x in l else 'others')"
   ]
  },
  {
   "cell_type": "code",
   "execution_count": 38,
   "metadata": {},
   "outputs": [
    {
     "data": {
      "image/png": "[encoded data removed]",
      "text/plain": [
       "<Figure size 936x432 with 2 Axes>"
      ]
     },
     "metadata": {
      "needs_background": "light"
     },
     "output_type": "display_data"
    }
   ],
   "source": [
    "f,ax = plt.subplots(1,2,figsize = (13,6))\n",
    "\n",
    "s = sns.countplot(df['manufacturer'],ax = ax[0])\n",
    "ax[0].set_xticklabels(s.get_xticklabels(),rotation=90)\n",
    "\n",
    "sns.barplot(df['manufacturer'],df['price'],ax =ax[1],)\n",
    "plt.xticks(rotation = 90)\n",
    "\n",
    "plt.tight_layout()"
   ]
  },
  {
   "cell_type": "markdown",
   "metadata": {},
   "source": [
    "* 'Ford','Chevrolet' contributes most of the vehicles which is more than 25000.\n",
    "*  Toyoto follows them in the order.\n",
    "* The graph clearly shows 'Chevrolet' and 'cadillac' have the avg price higher compared to other vehicles.\n",
    "* Even though 'cadillac' has less count of vehicles , it contributes to more avg price. It says that price of the vehicle is high comparitively.\n"
   ]
  },
  {
   "cell_type": "markdown",
   "metadata": {},
   "source": [
    "##### Cylinders"
   ]
  },
  {
   "cell_type": "code",
   "execution_count": 39,
   "metadata": {},
   "outputs": [
    {
     "data": {
      "image/png": "[encoded data removed]",
      "text/plain": [
       "<Figure size 936x432 with 2 Axes>"
      ]
     },
     "metadata": {
      "needs_background": "light"
     },
     "output_type": "display_data"
    }
   ],
   "source": [
    "f,ax = plt.subplots(1,2,figsize = (13,6))\n",
    "\n",
    "s = sns.countplot(df['cylinders'],ax = ax[0])\n",
    "ax[0].set_xticklabels(s.get_xticklabels(),rotation=90)\n",
    "\n",
    "sns.barplot(df['cylinders'],df['price'],ax =ax[1],)\n",
    "plt.xticks(rotation = 90)\n",
    "plt.tight_layout()"
   ]
  },
  {
   "cell_type": "markdown",
   "metadata": {},
   "source": [
    "* Vehicles with 6,4,8 cylinders are very high compared to others.\n",
    "* Remaining vehicles with cylinders 10,5,3 are less than 1000 which is very low.\n",
    "* '12' cylinder vehicles are very very less in count but it contributes more avg price. This clearly says vehicles\n",
    "   with '12' cylinders are ver high in price.\n",
    "*  Then '8' cylinder vehicles seem to be higher than that of '4' and '6' as they are in same count range."
   ]
  },
  {
   "cell_type": "markdown",
   "metadata": {},
   "source": [
    "##### Fuel "
   ]
  },
  {
   "cell_type": "code",
   "execution_count": 40,
   "metadata": {},
   "outputs": [
    {
     "data": {
      "image/png": "[encoded data removed]",
      "text/plain": [
       "<Figure size 864x432 with 2 Axes>"
      ]
     },
     "metadata": {
      "needs_background": "light"
     },
     "output_type": "display_data"
    }
   ],
   "source": [
    "f,ax = plt.subplots(1,2,figsize = (12,6))\n",
    "\n",
    "s = sns.countplot(df['fuel'],ax = ax[0])\n",
    "ax[0].set_xticklabels(s.get_xticklabels(),rotation=90)\n",
    "\n",
    "sns.barplot(df['fuel'],df['price'],ax =ax[1],)\n",
    "plt.xticks(rotation = 90)\n",
    "plt.tight_layout()"
   ]
  },
  {
   "cell_type": "markdown",
   "metadata": {},
   "source": [
    "* Clearly , gas vehicles are very high in count which is around 175000+. It occupies more than 80% of data.\n",
    "* Then 'diesel' which is around 10000+.\n",
    "* 'Diesel' vehicles seem to be more costlier than all other fuels. "
   ]
  },
  {
   "cell_type": "markdown",
   "metadata": {},
   "source": [
    "##### Transmission"
   ]
  },
  {
   "cell_type": "code",
   "execution_count": 41,
   "metadata": {},
   "outputs": [
    {
     "data": {
      "image/png": "[encoded data removed]",
      "text/plain": [
       "<Figure size 720x360 with 2 Axes>"
      ]
     },
     "metadata": {
      "needs_background": "light"
     },
     "output_type": "display_data"
    }
   ],
   "source": [
    "f,ax = plt.subplots(1,2,figsize = (10,5))\n",
    "\n",
    "s = sns.countplot(df['transmission'],ax = ax[0])\n",
    "ax[0].set_xticklabels(s.get_xticklabels(),rotation=90)\n",
    "\n",
    "sns.barplot(df['transmission'],df['price'],ax =ax[1],)\n",
    "plt.xticks(rotation = 90)\n",
    "plt.tight_layout()"
   ]
  },
  {
   "cell_type": "markdown",
   "metadata": {},
   "source": [
    "* 'Automatic' transmission vehicles are very high which is more than 80%\n",
    "* 'Manual' vehicles are very less. It also infers that people prefer 'automatic' vehicles than manual transmission.\n",
    "* 'Manual' seems to be more costlier. It is followed by 'automatic' .\n",
    "*  There is no huge difference between these two."
   ]
  },
  {
   "cell_type": "markdown",
   "metadata": {},
   "source": [
    "##### Drive"
   ]
  },
  {
   "cell_type": "code",
   "execution_count": 42,
   "metadata": {},
   "outputs": [
    {
     "data": {
      "image/png": "[encoded data removed]",
      "text/plain": [
       "<Figure size 720x360 with 2 Axes>"
      ]
     },
     "metadata": {
      "needs_background": "light"
     },
     "output_type": "display_data"
    }
   ],
   "source": [
    "f,ax = plt.subplots(1,2,figsize = (10,5))\n",
    "\n",
    "s = sns.countplot(df['drive'],ax = ax[0])\n",
    "ax[0].set_xticklabels(s.get_xticklabels(),rotation=90)\n",
    "\n",
    "sns.barplot(df['drive'],df['price'],ax =ax[1],)\n",
    "plt.xticks(rotation = 90)\n",
    "plt.tight_layout()"
   ]
  },
  {
   "cell_type": "markdown",
   "metadata": {},
   "source": [
    "* It is quite strange that 4wd are more in count than other two. Mostly, 4wd is not used for personal use. It might be \n",
    "used for off-road or any other purposes.\n",
    "* More than 80000+ vehicles are 4wd.\n",
    "* 'Rwd' are mostly large vehicles such as trucks , buses etc.\n",
    "\n",
    "* 4wd seems to be more costly than other two drives.\n",
    "* people who look for less cost can prefer 'Fwd'."
   ]
  },
  {
   "cell_type": "markdown",
   "metadata": {},
   "source": [
    "##### Type"
   ]
  },
  {
   "cell_type": "code",
   "execution_count": 43,
   "metadata": {},
   "outputs": [
    {
     "data": {
      "image/png": "[encoded data removed]",
      "text/plain": [
       "<Figure size 720x360 with 2 Axes>"
      ]
     },
     "metadata": {
      "needs_background": "light"
     },
     "output_type": "display_data"
    }
   ],
   "source": [
    "f,ax = plt.subplots(1,2,figsize = (10,5))\n",
    "\n",
    "s = sns.countplot(df['type'],ax = ax[0])\n",
    "ax[0].set_xticklabels(s.get_xticklabels(),rotation=90)\n",
    "\n",
    "sns.barplot(df['type'],df['price'],ax =ax[1],)\n",
    "plt.xticks(rotation = 90)\n",
    "plt.tight_layout()"
   ]
  },
  {
   "cell_type": "markdown",
   "metadata": {},
   "source": [
    "* 'sedan' and 'suv' are in more count around 40000+ each. Then it is followed by 'trucks' and 'pickup' vehicles.\n",
    "* 'pick up' vehciles seem to be more costly."
   ]
  },
  {
   "cell_type": "markdown",
   "metadata": {},
   "source": [
    "##### paint_color"
   ]
  },
  {
   "cell_type": "code",
   "execution_count": 44,
   "metadata": {},
   "outputs": [
    {
     "data": {
      "image/png": "[encoded data removed]",
      "text/plain": [
       "<Figure size 720x360 with 2 Axes>"
      ]
     },
     "metadata": {
      "needs_background": "light"
     },
     "output_type": "display_data"
    }
   ],
   "source": [
    "f,ax = plt.subplots(1,2,figsize = (10,5))\n",
    "\n",
    "s = sns.countplot(df['paint_color'],ax = ax[0])\n",
    "ax[0].set_xticklabels(s.get_xticklabels(),rotation=90)\n",
    "\n",
    "sns.barplot(df['paint_color'],df['price'],ax =ax[1],)\n",
    "plt.xticks(rotation = 90)\n",
    "plt.tight_layout()"
   ]
  },
  {
   "cell_type": "markdown",
   "metadata": {},
   "source": [
    "* Paint color plays a major role in vehicle selection as it attracts the people.\n",
    "* colors such as 'white','black','silver' are in top count.\n",
    "* Then 'red','blue' stands in the line.\n",
    "* The graph-2 clearly says that 'red' and 'orange' color vehicles are more costlier than other. But we cannot come to conclusion because other features such as drive,transmission,'cylinders' also have huge responsibility in determining the cost."
   ]
  },
  {
   "cell_type": "markdown",
   "metadata": {},
   "source": [
    "##### odometer"
   ]
  },
  {
   "cell_type": "code",
   "execution_count": 45,
   "metadata": {},
   "outputs": [
    {
     "data": {
      "image/png": "[encoded data removed]",
      "text/plain": [
       "<Figure size 864x360 with 2 Axes>"
      ]
     },
     "metadata": {
      "needs_background": "light"
     },
     "output_type": "display_data"
    }
   ],
   "source": [
    "f,ax = plt.subplots(1,2,figsize = (12,5))\n",
    "\n",
    "s = sns.countplot(df['odo'],ax = ax[0])\n",
    "ax[0].set_xticklabels(s.get_xticklabels(),rotation=90)\n",
    "\n",
    "sns.barplot(df['odo'],df['price'],ax =ax[1],)\n",
    "plt.xticks(rotation = 90)\n",
    "\n",
    "plt.tight_layout()"
   ]
  },
  {
   "cell_type": "markdown",
   "metadata": {},
   "source": [
    "* Odometer range plays a major role in price detection\n",
    "* Here vehicles are almost equally distributed which inludes all the ranges.\n",
    "* Here price of vehicle which has a odometer range (100000-125000) is very high."
   ]
  },
  {
   "cell_type": "markdown",
   "metadata": {},
   "source": [
    "##### Title Status"
   ]
  },
  {
   "cell_type": "code",
   "execution_count": 46,
   "metadata": {},
   "outputs": [
    {
     "data": {
      "image/png": "[encoded data removed]",
      "text/plain": [
       "<Figure size 864x360 with 2 Axes>"
      ]
     },
     "metadata": {
      "needs_background": "light"
     },
     "output_type": "display_data"
    }
   ],
   "source": [
    "f,ax = plt.subplots(1,2,figsize = (12,5))\n",
    "\n",
    "s = sns.countplot(df['title_status'],ax = ax[0])\n",
    "ax[0].set_xticklabels(s.get_xticklabels(),rotation=90)\n",
    "\n",
    "sns.barplot(df['title_status'],df['price'],ax =ax[1],)\n",
    "plt.xticks(rotation = 90)\n",
    "\n",
    "plt.tight_layout()"
   ]
  },
  {
   "cell_type": "markdown",
   "metadata": {},
   "source": [
    "* clearly, 'clean' vehicles are more compared to others.\n",
    "* 'parts_only' is almost null seems there are no separate parts present.\n",
    "* status 'Missing' vehicles have high cost."
   ]
  },
  {
   "cell_type": "markdown",
   "metadata": {},
   "source": [
    "##### Condition"
   ]
  },
  {
   "cell_type": "code",
   "execution_count": 47,
   "metadata": {},
   "outputs": [
    {
     "data": {
      "image/png": "[encoded data removed]",
      "text/plain": [
       "<Figure size 864x360 with 2 Axes>"
      ]
     },
     "metadata": {
      "needs_background": "light"
     },
     "output_type": "display_data"
    }
   ],
   "source": [
    "f,ax = plt.subplots(1,2,figsize = (12,5))\n",
    "\n",
    "s = sns.countplot(df['condition'],ax = ax[0])\n",
    "ax[0].set_xticklabels(s.get_xticklabels(),rotation=90)\n",
    "\n",
    "sns.barplot(df['condition'],df['price'],ax =ax[1],)\n",
    "plt.xticks(rotation = 90)\n",
    "\n",
    "plt.tight_layout()"
   ]
  },
  {
   "cell_type": "markdown",
   "metadata": {},
   "source": [
    "* Vehicles with condition - 'Good' and 'excellent' seems to be higher than other.\n",
    "* Condition with 'Good' vehicles seem to be costly."
   ]
  },
  {
   "cell_type": "markdown",
   "metadata": {},
   "source": [
    "##### Year"
   ]
  },
  {
   "cell_type": "code",
   "execution_count": 48,
   "metadata": {},
   "outputs": [],
   "source": [
    "cum_year = df['year'].value_counts(normalize = True).cumsum().head(21)"
   ]
  },
  {
   "cell_type": "code",
   "execution_count": 49,
   "metadata": {},
   "outputs": [],
   "source": [
    "l = cum_year.index[0:20]\n",
    "df['year'] = df['year'].apply(lambda x:x if x in l else 'other')"
   ]
  },
  {
   "cell_type": "code",
   "execution_count": 50,
   "metadata": {},
   "outputs": [
    {
     "data": {
      "image/png": "[encoded data removed]",
      "text/plain": [
       "<Figure size 864x360 with 2 Axes>"
      ]
     },
     "metadata": {
      "needs_background": "light"
     },
     "output_type": "display_data"
    }
   ],
   "source": [
    "f,ax = plt.subplots(1,2,figsize = (12,5))\n",
    "\n",
    "s = sns.countplot(df.loc[df['year']!='other','year'],ax = ax[0])\n",
    "ax[0].set_xticklabels(s.get_xticklabels(),rotation=90)\n",
    "\n",
    "sns.barplot(df.loc[df['year']!='other','year'],df['price'],ax =ax[1],)\n",
    "plt.xticks(rotation = 90)\n",
    "\n",
    "plt.tight_layout()"
   ]
  },
  {
   "cell_type": "markdown",
   "metadata": {},
   "source": [
    "* 2017 models are very high which is around 16000+ vehicles.\n",
    "* 2014,2013,2012 models are also counts to 13000+ each.\n",
    "* Here vehicles in the year 2006 are more costlier. It might be a possibility that belongs to luxury brand. "
   ]
  },
  {
   "cell_type": "markdown",
   "metadata": {},
   "source": [
    "### FEATURE ENGINEERING & FEATURE SELECTION"
   ]
  },
  {
   "cell_type": "code",
   "execution_count": 79,
   "metadata": {},
   "outputs": [
    {
     "name": "stdout",
     "output_type": "stream",
     "text": [
      "<class 'pandas.core.frame.DataFrame'>\n",
      "RangeIndex: 158793 entries, 0 to 158792\n",
      "Data columns (total 12 columns):\n",
      " #   Column        Non-Null Count   Dtype \n",
      "---  ------        --------------   ----- \n",
      " 0   price         158793 non-null  int64 \n",
      " 1   year          158793 non-null  object\n",
      " 2   manufacturer  158793 non-null  object\n",
      " 3   condition     158793 non-null  object\n",
      " 4   cylinders     158793 non-null  object\n",
      " 5   fuel          158793 non-null  object\n",
      " 6   title_status  158793 non-null  object\n",
      " 7   transmission  158793 non-null  object\n",
      " 8   drive         158793 non-null  object\n",
      " 9   type          158793 non-null  object\n",
      " 10  paint_color   158793 non-null  object\n",
      " 11  odo           158793 non-null  object\n",
      "dtypes: int64(1), object(11)\n",
      "memory usage: 14.5+ MB\n"
     ]
    }
   ],
   "source": [
    "df.info()"
   ]
  },
  {
   "cell_type": "code",
   "execution_count": 80,
   "metadata": {},
   "outputs": [],
   "source": [
    "X = df.iloc[:,1:]\n",
    "y = np.log(df['price'])"
   ]
  },
  {
   "cell_type": "code",
   "execution_count": 81,
   "metadata": {},
   "outputs": [],
   "source": [
    "df_encoded = pd.get_dummies(X,drop_first= True)"
   ]
  },
  {
   "cell_type": "code",
   "execution_count": 82,
   "metadata": {},
   "outputs": [],
   "source": [
    "import statsmodels.api as sm\n",
    "from statsmodels.api import add_constant"
   ]
  },
  {
   "cell_type": "code",
   "execution_count": 83,
   "metadata": {},
   "outputs": [],
   "source": [
    "xc = sm.add_constant(df_encoded)"
   ]
  },
  {
   "cell_type": "code",
   "execution_count": 84,
   "metadata": {
    "scrolled": false
   },
   "outputs": [
    {
     "data": {
      "text/html": [
       "<table class=\"simpletable\">\n",
       "<caption>OLS Regression Results</caption>\n",
       "<tr>\n",
       "  <th>Dep. Variable:</th>          <td>price</td>      <th>  R-squared:         </th>  <td>   0.406</td>  \n",
       "</tr>\n",
       "<tr>\n",
       "  <th>Model:</th>                   <td>OLS</td>       <th>  Adj. R-squared:    </th>  <td>   0.406</td>  \n",
       "</tr>\n",
       "<tr>\n",
       "  <th>Method:</th>             <td>Least Squares</td>  <th>  F-statistic:       </th>  <td>   1108.</td>  \n",
       "</tr>\n",
       "<tr>\n",
       "  <th>Date:</th>             <td>Sat, 02 Jan 2021</td> <th>  Prob (F-statistic):</th>   <td>  0.00</td>   \n",
       "</tr>\n",
       "<tr>\n",
       "  <th>Time:</th>                 <td>18:04:47</td>     <th>  Log-Likelihood:    </th> <td>-2.0252e+05</td>\n",
       "</tr>\n",
       "<tr>\n",
       "  <th>No. Observations:</th>      <td>158793</td>      <th>  AIC:               </th>  <td>4.052e+05</td> \n",
       "</tr>\n",
       "<tr>\n",
       "  <th>Df Residuals:</th>          <td>158694</td>      <th>  BIC:               </th>  <td>4.062e+05</td> \n",
       "</tr>\n",
       "<tr>\n",
       "  <th>Df Model:</th>              <td>    98</td>      <th>                     </th>      <td> </td>     \n",
       "</tr>\n",
       "<tr>\n",
       "  <th>Covariance Type:</th>      <td>nonrobust</td>    <th>                     </th>      <td> </td>     \n",
       "</tr>\n",
       "</table>\n",
       "<table class=\"simpletable\">\n",
       "<tr>\n",
       "               <td></td>                 <th>coef</th>     <th>std err</th>      <th>t</th>      <th>P>|t|</th>  <th>[0.025</th>    <th>0.975]</th>  \n",
       "</tr>\n",
       "<tr>\n",
       "  <th>const</th>                      <td>    8.9596</td> <td>    0.043</td> <td>  209.650</td> <td> 0.000</td> <td>    8.876</td> <td>    9.043</td>\n",
       "</tr>\n",
       "<tr>\n",
       "  <th>year_2001</th>                  <td>   -0.0260</td> <td>    0.025</td> <td>   -1.059</td> <td> 0.290</td> <td>   -0.074</td> <td>    0.022</td>\n",
       "</tr>\n",
       "<tr>\n",
       "  <th>year_2002</th>                  <td>    0.0482</td> <td>    0.023</td> <td>    2.068</td> <td> 0.039</td> <td>    0.003</td> <td>    0.094</td>\n",
       "</tr>\n",
       "<tr>\n",
       "  <th>year_2003</th>                  <td>    0.0887</td> <td>    0.023</td> <td>    3.937</td> <td> 0.000</td> <td>    0.045</td> <td>    0.133</td>\n",
       "</tr>\n",
       "<tr>\n",
       "  <th>year_2004</th>                  <td>    0.1482</td> <td>    0.022</td> <td>    6.846</td> <td> 0.000</td> <td>    0.106</td> <td>    0.191</td>\n",
       "</tr>\n",
       "<tr>\n",
       "  <th>year_2005</th>                  <td>    0.1983</td> <td>    0.021</td> <td>    9.289</td> <td> 0.000</td> <td>    0.156</td> <td>    0.240</td>\n",
       "</tr>\n",
       "<tr>\n",
       "  <th>year_2006</th>                  <td>    0.2929</td> <td>    0.021</td> <td>   14.029</td> <td> 0.000</td> <td>    0.252</td> <td>    0.334</td>\n",
       "</tr>\n",
       "<tr>\n",
       "  <th>year_2007</th>                  <td>    0.3998</td> <td>    0.021</td> <td>   19.443</td> <td> 0.000</td> <td>    0.359</td> <td>    0.440</td>\n",
       "</tr>\n",
       "<tr>\n",
       "  <th>year_2008</th>                  <td>    0.4749</td> <td>    0.020</td> <td>   23.261</td> <td> 0.000</td> <td>    0.435</td> <td>    0.515</td>\n",
       "</tr>\n",
       "<tr>\n",
       "  <th>year_2009</th>                  <td>    0.5625</td> <td>    0.021</td> <td>   26.359</td> <td> 0.000</td> <td>    0.521</td> <td>    0.604</td>\n",
       "</tr>\n",
       "<tr>\n",
       "  <th>year_2010</th>                  <td>    0.6553</td> <td>    0.021</td> <td>   31.328</td> <td> 0.000</td> <td>    0.614</td> <td>    0.696</td>\n",
       "</tr>\n",
       "<tr>\n",
       "  <th>year_2011</th>                  <td>    0.7627</td> <td>    0.021</td> <td>   37.036</td> <td> 0.000</td> <td>    0.722</td> <td>    0.803</td>\n",
       "</tr>\n",
       "<tr>\n",
       "  <th>year_2012</th>                  <td>    0.8445</td> <td>    0.020</td> <td>   41.375</td> <td> 0.000</td> <td>    0.804</td> <td>    0.884</td>\n",
       "</tr>\n",
       "<tr>\n",
       "  <th>year_2013</th>                  <td>    0.9374</td> <td>    0.020</td> <td>   45.964</td> <td> 0.000</td> <td>    0.897</td> <td>    0.977</td>\n",
       "</tr>\n",
       "<tr>\n",
       "  <th>year_2014</th>                  <td>    1.0002</td> <td>    0.021</td> <td>   48.785</td> <td> 0.000</td> <td>    0.960</td> <td>    1.040</td>\n",
       "</tr>\n",
       "<tr>\n",
       "  <th>year_2015</th>                  <td>    1.0838</td> <td>    0.021</td> <td>   52.497</td> <td> 0.000</td> <td>    1.043</td> <td>    1.124</td>\n",
       "</tr>\n",
       "<tr>\n",
       "  <th>year_2016</th>                  <td>    1.1391</td> <td>    0.021</td> <td>   54.324</td> <td> 0.000</td> <td>    1.098</td> <td>    1.180</td>\n",
       "</tr>\n",
       "<tr>\n",
       "  <th>year_2017</th>                  <td>    1.1897</td> <td>    0.021</td> <td>   57.296</td> <td> 0.000</td> <td>    1.149</td> <td>    1.230</td>\n",
       "</tr>\n",
       "<tr>\n",
       "  <th>year_2018</th>                  <td>    1.1853</td> <td>    0.022</td> <td>   54.045</td> <td> 0.000</td> <td>    1.142</td> <td>    1.228</td>\n",
       "</tr>\n",
       "<tr>\n",
       "  <th>year_2019</th>                  <td>    1.0758</td> <td>    0.023</td> <td>   46.554</td> <td> 0.000</td> <td>    1.031</td> <td>    1.121</td>\n",
       "</tr>\n",
       "<tr>\n",
       "  <th>year_other</th>                 <td>    0.2682</td> <td>    0.020</td> <td>   13.728</td> <td> 0.000</td> <td>    0.230</td> <td>    0.306</td>\n",
       "</tr>\n",
       "<tr>\n",
       "  <th>manufacturer_bmw</th>           <td>    0.0414</td> <td>    0.018</td> <td>    2.281</td> <td> 0.023</td> <td>    0.006</td> <td>    0.077</td>\n",
       "</tr>\n",
       "<tr>\n",
       "  <th>manufacturer_cadillac</th>      <td>    0.0558</td> <td>    0.022</td> <td>    2.570</td> <td> 0.010</td> <td>    0.013</td> <td>    0.098</td>\n",
       "</tr>\n",
       "<tr>\n",
       "  <th>manufacturer_chevrolet</th>     <td>   -0.0572</td> <td>    0.013</td> <td>   -4.350</td> <td> 0.000</td> <td>   -0.083</td> <td>   -0.031</td>\n",
       "</tr>\n",
       "<tr>\n",
       "  <th>manufacturer_chrysler</th>      <td>   -0.2177</td> <td>    0.020</td> <td>  -10.687</td> <td> 0.000</td> <td>   -0.258</td> <td>   -0.178</td>\n",
       "</tr>\n",
       "<tr>\n",
       "  <th>manufacturer_dodge</th>         <td>   -0.2239</td> <td>    0.017</td> <td>  -13.477</td> <td> 0.000</td> <td>   -0.257</td> <td>   -0.191</td>\n",
       "</tr>\n",
       "<tr>\n",
       "  <th>manufacturer_ford</th>          <td>   -0.0992</td> <td>    0.013</td> <td>   -7.706</td> <td> 0.000</td> <td>   -0.124</td> <td>   -0.074</td>\n",
       "</tr>\n",
       "<tr>\n",
       "  <th>manufacturer_gmc</th>           <td>   -0.0316</td> <td>    0.017</td> <td>   -1.880</td> <td> 0.060</td> <td>   -0.064</td> <td>    0.001</td>\n",
       "</tr>\n",
       "<tr>\n",
       "  <th>manufacturer_honda</th>         <td>    0.1213</td> <td>    0.015</td> <td>    8.244</td> <td> 0.000</td> <td>    0.092</td> <td>    0.150</td>\n",
       "</tr>\n",
       "<tr>\n",
       "  <th>manufacturer_hyundai</th>       <td>   -0.1091</td> <td>    0.018</td> <td>   -5.993</td> <td> 0.000</td> <td>   -0.145</td> <td>   -0.073</td>\n",
       "</tr>\n",
       "<tr>\n",
       "  <th>manufacturer_jeep</th>          <td>    0.0181</td> <td>    0.016</td> <td>    1.140</td> <td> 0.254</td> <td>   -0.013</td> <td>    0.049</td>\n",
       "</tr>\n",
       "<tr>\n",
       "  <th>manufacturer_kia</th>           <td>   -0.1517</td> <td>    0.020</td> <td>   -7.686</td> <td> 0.000</td> <td>   -0.190</td> <td>   -0.113</td>\n",
       "</tr>\n",
       "<tr>\n",
       "  <th>manufacturer_lexus</th>         <td>    0.2788</td> <td>    0.021</td> <td>   13.211</td> <td> 0.000</td> <td>    0.237</td> <td>    0.320</td>\n",
       "</tr>\n",
       "<tr>\n",
       "  <th>manufacturer_mazda</th>         <td>   -0.0971</td> <td>    0.022</td> <td>   -4.372</td> <td> 0.000</td> <td>   -0.141</td> <td>   -0.054</td>\n",
       "</tr>\n",
       "<tr>\n",
       "  <th>manufacturer_mercedes-benz</th> <td>    0.0630</td> <td>    0.020</td> <td>    3.220</td> <td> 0.001</td> <td>    0.025</td> <td>    0.101</td>\n",
       "</tr>\n",
       "<tr>\n",
       "  <th>manufacturer_nissan</th>        <td>   -0.1485</td> <td>    0.015</td> <td>   -9.763</td> <td> 0.000</td> <td>   -0.178</td> <td>   -0.119</td>\n",
       "</tr>\n",
       "<tr>\n",
       "  <th>manufacturer_others</th>        <td>   -0.0203</td> <td>    0.014</td> <td>   -1.488</td> <td> 0.137</td> <td>   -0.047</td> <td>    0.006</td>\n",
       "</tr>\n",
       "<tr>\n",
       "  <th>manufacturer_ram</th>           <td>   -0.0660</td> <td>    0.018</td> <td>   -3.735</td> <td> 0.000</td> <td>   -0.101</td> <td>   -0.031</td>\n",
       "</tr>\n",
       "<tr>\n",
       "  <th>manufacturer_subaru</th>        <td>   -0.0089</td> <td>    0.019</td> <td>   -0.465</td> <td> 0.642</td> <td>   -0.047</td> <td>    0.029</td>\n",
       "</tr>\n",
       "<tr>\n",
       "  <th>manufacturer_toyota</th>        <td>    0.1982</td> <td>    0.014</td> <td>   14.204</td> <td> 0.000</td> <td>    0.171</td> <td>    0.226</td>\n",
       "</tr>\n",
       "<tr>\n",
       "  <th>manufacturer_volkswagen</th>    <td>   -0.1247</td> <td>    0.019</td> <td>   -6.614</td> <td> 0.000</td> <td>   -0.162</td> <td>   -0.088</td>\n",
       "</tr>\n",
       "<tr>\n",
       "  <th>condition_excellent</th>        <td>    0.0924</td> <td>    0.006</td> <td>   15.076</td> <td> 0.000</td> <td>    0.080</td> <td>    0.104</td>\n",
       "</tr>\n",
       "<tr>\n",
       "  <th>condition_fair</th>             <td>   -0.7671</td> <td>    0.013</td> <td>  -57.629</td> <td> 0.000</td> <td>   -0.793</td> <td>   -0.741</td>\n",
       "</tr>\n",
       "<tr>\n",
       "  <th>condition_good</th>             <td>   -0.0753</td> <td>    0.007</td> <td>  -11.064</td> <td> 0.000</td> <td>   -0.089</td> <td>   -0.062</td>\n",
       "</tr>\n",
       "<tr>\n",
       "  <th>condition_like new</th>         <td>    0.1306</td> <td>    0.009</td> <td>   14.909</td> <td> 0.000</td> <td>    0.113</td> <td>    0.148</td>\n",
       "</tr>\n",
       "<tr>\n",
       "  <th>condition_new</th>              <td>    0.4170</td> <td>    0.034</td> <td>   12.447</td> <td> 0.000</td> <td>    0.351</td> <td>    0.483</td>\n",
       "</tr>\n",
       "<tr>\n",
       "  <th>condition_salvage</th>          <td>   -1.0541</td> <td>    0.041</td> <td>  -25.433</td> <td> 0.000</td> <td>   -1.135</td> <td>   -0.973</td>\n",
       "</tr>\n",
       "<tr>\n",
       "  <th>cylinders_12 cylinders</th>     <td>    1.3803</td> <td>    0.087</td> <td>   15.841</td> <td> 0.000</td> <td>    1.210</td> <td>    1.551</td>\n",
       "</tr>\n",
       "<tr>\n",
       "  <th>cylinders_3 cylinders</th>      <td>    0.2869</td> <td>    0.056</td> <td>    5.114</td> <td> 0.000</td> <td>    0.177</td> <td>    0.397</td>\n",
       "</tr>\n",
       "<tr>\n",
       "  <th>cylinders_4 cylinders</th>      <td>    0.4390</td> <td>    0.034</td> <td>   12.831</td> <td> 0.000</td> <td>    0.372</td> <td>    0.506</td>\n",
       "</tr>\n",
       "<tr>\n",
       "  <th>cylinders_5 cylinders</th>      <td>    0.5162</td> <td>    0.041</td> <td>   12.479</td> <td> 0.000</td> <td>    0.435</td> <td>    0.597</td>\n",
       "</tr>\n",
       "<tr>\n",
       "  <th>cylinders_6 cylinders</th>      <td>    0.6572</td> <td>    0.034</td> <td>   19.411</td> <td> 0.000</td> <td>    0.591</td> <td>    0.724</td>\n",
       "</tr>\n",
       "<tr>\n",
       "  <th>cylinders_8 cylinders</th>      <td>    0.9187</td> <td>    0.034</td> <td>   27.158</td> <td> 0.000</td> <td>    0.852</td> <td>    0.985</td>\n",
       "</tr>\n",
       "<tr>\n",
       "  <th>cylinders_other</th>            <td>    0.5021</td> <td>    0.052</td> <td>    9.603</td> <td> 0.000</td> <td>    0.400</td> <td>    0.605</td>\n",
       "</tr>\n",
       "<tr>\n",
       "  <th>fuel_electric</th>              <td>   -0.2972</td> <td>    0.063</td> <td>   -4.692</td> <td> 0.000</td> <td>   -0.421</td> <td>   -0.173</td>\n",
       "</tr>\n",
       "<tr>\n",
       "  <th>fuel_gas</th>                   <td>   -0.5577</td> <td>    0.011</td> <td>  -51.417</td> <td> 0.000</td> <td>   -0.579</td> <td>   -0.536</td>\n",
       "</tr>\n",
       "<tr>\n",
       "  <th>fuel_hybrid</th>                <td>   -0.4879</td> <td>    0.022</td> <td>  -22.654</td> <td> 0.000</td> <td>   -0.530</td> <td>   -0.446</td>\n",
       "</tr>\n",
       "<tr>\n",
       "  <th>fuel_other</th>                 <td>   -0.6899</td> <td>    0.025</td> <td>  -28.065</td> <td> 0.000</td> <td>   -0.738</td> <td>   -0.642</td>\n",
       "</tr>\n",
       "<tr>\n",
       "  <th>title_status_lien</th>          <td>    0.1533</td> <td>    0.023</td> <td>    6.650</td> <td> 0.000</td> <td>    0.108</td> <td>    0.198</td>\n",
       "</tr>\n",
       "<tr>\n",
       "  <th>title_status_missing</th>       <td>   -0.6352</td> <td>    0.048</td> <td>  -13.315</td> <td> 0.000</td> <td>   -0.729</td> <td>   -0.542</td>\n",
       "</tr>\n",
       "<tr>\n",
       "  <th>title_status_parts only</th>    <td>   -1.9206</td> <td>    0.108</td> <td>  -17.805</td> <td> 0.000</td> <td>   -2.132</td> <td>   -1.709</td>\n",
       "</tr>\n",
       "<tr>\n",
       "  <th>title_status_rebuilt</th>       <td>   -0.1451</td> <td>    0.013</td> <td>  -11.052</td> <td> 0.000</td> <td>   -0.171</td> <td>   -0.119</td>\n",
       "</tr>\n",
       "<tr>\n",
       "  <th>title_status_salvage</th>       <td>   -0.1726</td> <td>    0.019</td> <td>   -9.172</td> <td> 0.000</td> <td>   -0.210</td> <td>   -0.136</td>\n",
       "</tr>\n",
       "<tr>\n",
       "  <th>transmission_manual</th>        <td>    0.1133</td> <td>    0.009</td> <td>   13.150</td> <td> 0.000</td> <td>    0.096</td> <td>    0.130</td>\n",
       "</tr>\n",
       "<tr>\n",
       "  <th>transmission_other</th>         <td>    0.0410</td> <td>    0.017</td> <td>    2.479</td> <td> 0.013</td> <td>    0.009</td> <td>    0.073</td>\n",
       "</tr>\n",
       "<tr>\n",
       "  <th>drive_fwd</th>                  <td>   -0.3060</td> <td>    0.007</td> <td>  -42.931</td> <td> 0.000</td> <td>   -0.320</td> <td>   -0.292</td>\n",
       "</tr>\n",
       "<tr>\n",
       "  <th>drive_rwd</th>                  <td>   -0.0692</td> <td>    0.007</td> <td>   -9.834</td> <td> 0.000</td> <td>   -0.083</td> <td>   -0.055</td>\n",
       "</tr>\n",
       "<tr>\n",
       "  <th>type_bus</th>                   <td>   -0.0553</td> <td>    0.060</td> <td>   -0.927</td> <td> 0.354</td> <td>   -0.172</td> <td>    0.062</td>\n",
       "</tr>\n",
       "<tr>\n",
       "  <th>type_convertible</th>           <td>    0.2811</td> <td>    0.016</td> <td>   17.048</td> <td> 0.000</td> <td>    0.249</td> <td>    0.313</td>\n",
       "</tr>\n",
       "<tr>\n",
       "  <th>type_coupe</th>                 <td>    0.0723</td> <td>    0.012</td> <td>    6.126</td> <td> 0.000</td> <td>    0.049</td> <td>    0.095</td>\n",
       "</tr>\n",
       "<tr>\n",
       "  <th>type_hatchback</th>             <td>   -0.1306</td> <td>    0.013</td> <td>   -9.949</td> <td> 0.000</td> <td>   -0.156</td> <td>   -0.105</td>\n",
       "</tr>\n",
       "<tr>\n",
       "  <th>type_mini-van</th>              <td>    0.0046</td> <td>    0.016</td> <td>    0.281</td> <td> 0.778</td> <td>   -0.028</td> <td>    0.037</td>\n",
       "</tr>\n",
       "<tr>\n",
       "  <th>type_offroad</th>               <td>    0.2285</td> <td>    0.038</td> <td>    6.009</td> <td> 0.000</td> <td>    0.154</td> <td>    0.303</td>\n",
       "</tr>\n",
       "<tr>\n",
       "  <th>type_other</th>                 <td>    0.1281</td> <td>    0.008</td> <td>   15.558</td> <td> 0.000</td> <td>    0.112</td> <td>    0.144</td>\n",
       "</tr>\n",
       "<tr>\n",
       "  <th>type_pickup</th>                <td>    0.2090</td> <td>    0.010</td> <td>   20.432</td> <td> 0.000</td> <td>    0.189</td> <td>    0.229</td>\n",
       "</tr>\n",
       "<tr>\n",
       "  <th>type_sedan</th>                 <td>   -0.1308</td> <td>    0.007</td> <td>  -17.951</td> <td> 0.000</td> <td>   -0.145</td> <td>   -0.117</td>\n",
       "</tr>\n",
       "<tr>\n",
       "  <th>type_truck</th>                 <td>    0.1597</td> <td>    0.009</td> <td>   16.942</td> <td> 0.000</td> <td>    0.141</td> <td>    0.178</td>\n",
       "</tr>\n",
       "<tr>\n",
       "  <th>type_van</th>                   <td>    0.0959</td> <td>    0.015</td> <td>    6.390</td> <td> 0.000</td> <td>    0.067</td> <td>    0.125</td>\n",
       "</tr>\n",
       "<tr>\n",
       "  <th>type_wagon</th>                 <td>    0.0089</td> <td>    0.015</td> <td>    0.577</td> <td> 0.564</td> <td>   -0.021</td> <td>    0.039</td>\n",
       "</tr>\n",
       "<tr>\n",
       "  <th>paint_color_blue</th>           <td>   -0.0481</td> <td>    0.009</td> <td>   -5.297</td> <td> 0.000</td> <td>   -0.066</td> <td>   -0.030</td>\n",
       "</tr>\n",
       "<tr>\n",
       "  <th>paint_color_brown</th>          <td>   -0.1270</td> <td>    0.016</td> <td>   -8.066</td> <td> 0.000</td> <td>   -0.158</td> <td>   -0.096</td>\n",
       "</tr>\n",
       "<tr>\n",
       "  <th>paint_color_custom</th>         <td>    0.0526</td> <td>    0.013</td> <td>    3.943</td> <td> 0.000</td> <td>    0.026</td> <td>    0.079</td>\n",
       "</tr>\n",
       "<tr>\n",
       "  <th>paint_color_green</th>          <td>   -0.1358</td> <td>    0.015</td> <td>   -9.349</td> <td> 0.000</td> <td>   -0.164</td> <td>   -0.107</td>\n",
       "</tr>\n",
       "<tr>\n",
       "  <th>paint_color_grey</th>           <td>   -0.0208</td> <td>    0.009</td> <td>   -2.394</td> <td> 0.017</td> <td>   -0.038</td> <td>   -0.004</td>\n",
       "</tr>\n",
       "<tr>\n",
       "  <th>paint_color_orange</th>         <td>    0.1231</td> <td>    0.030</td> <td>    4.128</td> <td> 0.000</td> <td>    0.065</td> <td>    0.182</td>\n",
       "</tr>\n",
       "<tr>\n",
       "  <th>paint_color_other</th>          <td>   -0.4642</td> <td>    0.008</td> <td>  -55.546</td> <td> 0.000</td> <td>   -0.481</td> <td>   -0.448</td>\n",
       "</tr>\n",
       "<tr>\n",
       "  <th>paint_color_purple</th>         <td>   -0.1443</td> <td>    0.040</td> <td>   -3.602</td> <td> 0.000</td> <td>   -0.223</td> <td>   -0.066</td>\n",
       "</tr>\n",
       "<tr>\n",
       "  <th>paint_color_red</th>            <td>   -0.0443</td> <td>    0.009</td> <td>   -4.803</td> <td> 0.000</td> <td>   -0.062</td> <td>   -0.026</td>\n",
       "</tr>\n",
       "<tr>\n",
       "  <th>paint_color_silver</th>         <td>   -0.0474</td> <td>    0.008</td> <td>   -5.775</td> <td> 0.000</td> <td>   -0.064</td> <td>   -0.031</td>\n",
       "</tr>\n",
       "<tr>\n",
       "  <th>paint_color_white</th>          <td>   -0.0141</td> <td>    0.008</td> <td>   -1.874</td> <td> 0.061</td> <td>   -0.029</td> <td>    0.001</td>\n",
       "</tr>\n",
       "<tr>\n",
       "  <th>paint_color_yellow</th>         <td>    0.0518</td> <td>    0.027</td> <td>    1.883</td> <td> 0.060</td> <td>   -0.002</td> <td>    0.106</td>\n",
       "</tr>\n",
       "<tr>\n",
       "  <th>odo_2.0</th>                    <td>   -0.1413</td> <td>    0.010</td> <td>  -13.833</td> <td> 0.000</td> <td>   -0.161</td> <td>   -0.121</td>\n",
       "</tr>\n",
       "<tr>\n",
       "  <th>odo_3.0</th>                    <td>   -0.2727</td> <td>    0.011</td> <td>  -25.658</td> <td> 0.000</td> <td>   -0.294</td> <td>   -0.252</td>\n",
       "</tr>\n",
       "<tr>\n",
       "  <th>odo_4.0</th>                    <td>   -0.4013</td> <td>    0.010</td> <td>  -38.356</td> <td> 0.000</td> <td>   -0.422</td> <td>   -0.381</td>\n",
       "</tr>\n",
       "<tr>\n",
       "  <th>odo_5.0</th>                    <td>   -0.5019</td> <td>    0.011</td> <td>  -47.009</td> <td> 0.000</td> <td>   -0.523</td> <td>   -0.481</td>\n",
       "</tr>\n",
       "<tr>\n",
       "  <th>odo_6.0</th>                    <td>   -0.5971</td> <td>    0.011</td> <td>  -54.256</td> <td> 0.000</td> <td>   -0.619</td> <td>   -0.576</td>\n",
       "</tr>\n",
       "<tr>\n",
       "  <th>odo_7.0</th>                    <td>   -0.6951</td> <td>    0.012</td> <td>  -59.171</td> <td> 0.000</td> <td>   -0.718</td> <td>   -0.672</td>\n",
       "</tr>\n",
       "<tr>\n",
       "  <th>odo_8.0</th>                    <td>   -0.8317</td> <td>    0.011</td> <td>  -74.385</td> <td> 0.000</td> <td>   -0.854</td> <td>   -0.810</td>\n",
       "</tr>\n",
       "<tr>\n",
       "  <th>odo_0</th>                      <td>   -0.7235</td> <td>    0.012</td> <td>  -61.714</td> <td> 0.000</td> <td>   -0.746</td> <td>   -0.700</td>\n",
       "</tr>\n",
       "</table>\n",
       "<table class=\"simpletable\">\n",
       "<tr>\n",
       "  <th>Omnibus:</th>       <td>153082.283</td> <th>  Durbin-Watson:     </th>   <td>   1.482</td>  \n",
       "</tr>\n",
       "<tr>\n",
       "  <th>Prob(Omnibus):</th>   <td> 0.000</td>   <th>  Jarque-Bera (JB):  </th> <td>10708220.562</td>\n",
       "</tr>\n",
       "<tr>\n",
       "  <th>Skew:</th>            <td>-4.600</td>   <th>  Prob(JB):          </th>   <td>    0.00</td>  \n",
       "</tr>\n",
       "<tr>\n",
       "  <th>Kurtosis:</th>        <td>42.164</td>   <th>  Cond. No.          </th>   <td>    87.9</td>  \n",
       "</tr>\n",
       "</table><br/><br/>Warnings:<br/>[1] Standard Errors assume that the covariance matrix of the errors is correctly specified."
      ],
      "text/plain": [
       "<class 'statsmodels.iolib.summary.Summary'>\n",
       "\"\"\"\n",
       "                            OLS Regression Results                            \n",
       "==============================================================================\n",
       "Dep. Variable:                  price   R-squared:                       0.406\n",
       "Model:                            OLS   Adj. R-squared:                  0.406\n",
       "Method:                 Least Squares   F-statistic:                     1108.\n",
       "Date:                Sat, 02 Jan 2021   Prob (F-statistic):               0.00\n",
       "Time:                        18:04:47   Log-Likelihood:            -2.0252e+05\n",
       "No. Observations:              158793   AIC:                         4.052e+05\n",
       "Df Residuals:                  158694   BIC:                         4.062e+05\n",
       "Df Model:                          98                                         \n",
       "Covariance Type:            nonrobust                                         \n",
       "==============================================================================================\n",
       "                                 coef    std err          t      P>|t|      [0.025      0.975]\n",
       "----------------------------------------------------------------------------------------------\n",
       "const                          8.9596      0.043    209.650      0.000       8.876       9.043\n",
       "year_2001                     -0.0260      0.025     -1.059      0.290      -0.074       0.022\n",
       "year_2002                      0.0482      0.023      2.068      0.039       0.003       0.094\n",
       "year_2003                      0.0887      0.023      3.937      0.000       0.045       0.133\n",
       "year_2004                      0.1482      0.022      6.846      0.000       0.106       0.191\n",
       "year_2005                      0.1983      0.021      9.289      0.000       0.156       0.240\n",
       "year_2006                      0.2929      0.021     14.029      0.000       0.252       0.334\n",
       "year_2007                      0.3998      0.021     19.443      0.000       0.359       0.440\n",
       "year_2008                      0.4749      0.020     23.261      0.000       0.435       0.515\n",
       "year_2009                      0.5625      0.021     26.359      0.000       0.521       0.604\n",
       "year_2010                      0.6553      0.021     31.328      0.000       0.614       0.696\n",
       "year_2011                      0.7627      0.021     37.036      0.000       0.722       0.803\n",
       "year_2012                      0.8445      0.020     41.375      0.000       0.804       0.884\n",
       "year_2013                      0.9374      0.020     45.964      0.000       0.897       0.977\n",
       "year_2014                      1.0002      0.021     48.785      0.000       0.960       1.040\n",
       "year_2015                      1.0838      0.021     52.497      0.000       1.043       1.124\n",
       "year_2016                      1.1391      0.021     54.324      0.000       1.098       1.180\n",
       "year_2017                      1.1897      0.021     57.296      0.000       1.149       1.230\n",
       "year_2018                      1.1853      0.022     54.045      0.000       1.142       1.228\n",
       "year_2019                      1.0758      0.023     46.554      0.000       1.031       1.121\n",
       "year_other                     0.2682      0.020     13.728      0.000       0.230       0.306\n",
       "manufacturer_bmw               0.0414      0.018      2.281      0.023       0.006       0.077\n",
       "manufacturer_cadillac          0.0558      0.022      2.570      0.010       0.013       0.098\n",
       "manufacturer_chevrolet        -0.0572      0.013     -4.350      0.000      -0.083      -0.031\n",
       "manufacturer_chrysler         -0.2177      0.020    -10.687      0.000      -0.258      -0.178\n",
       "manufacturer_dodge            -0.2239      0.017    -13.477      0.000      -0.257      -0.191\n",
       "manufacturer_ford             -0.0992      0.013     -7.706      0.000      -0.124      -0.074\n",
       "manufacturer_gmc              -0.0316      0.017     -1.880      0.060      -0.064       0.001\n",
       "manufacturer_honda             0.1213      0.015      8.244      0.000       0.092       0.150\n",
       "manufacturer_hyundai          -0.1091      0.018     -5.993      0.000      -0.145      -0.073\n",
       "manufacturer_jeep              0.0181      0.016      1.140      0.254      -0.013       0.049\n",
       "manufacturer_kia              -0.1517      0.020     -7.686      0.000      -0.190      -0.113\n",
       "manufacturer_lexus             0.2788      0.021     13.211      0.000       0.237       0.320\n",
       "manufacturer_mazda            -0.0971      0.022     -4.372      0.000      -0.141      -0.054\n",
       "manufacturer_mercedes-benz     0.0630      0.020      3.220      0.001       0.025       0.101\n",
       "manufacturer_nissan           -0.1485      0.015     -9.763      0.000      -0.178      -0.119\n",
       "manufacturer_others           -0.0203      0.014     -1.488      0.137      -0.047       0.006\n",
       "manufacturer_ram              -0.0660      0.018     -3.735      0.000      -0.101      -0.031\n",
       "manufacturer_subaru           -0.0089      0.019     -0.465      0.642      -0.047       0.029\n",
       "manufacturer_toyota            0.1982      0.014     14.204      0.000       0.171       0.226\n",
       "manufacturer_volkswagen       -0.1247      0.019     -6.614      0.000      -0.162      -0.088\n",
       "condition_excellent            0.0924      0.006     15.076      0.000       0.080       0.104\n",
       "condition_fair                -0.7671      0.013    -57.629      0.000      -0.793      -0.741\n",
       "condition_good                -0.0753      0.007    -11.064      0.000      -0.089      -0.062\n",
       "condition_like new             0.1306      0.009     14.909      0.000       0.113       0.148\n",
       "condition_new                  0.4170      0.034     12.447      0.000       0.351       0.483\n",
       "condition_salvage             -1.0541      0.041    -25.433      0.000      -1.135      -0.973\n",
       "cylinders_12 cylinders         1.3803      0.087     15.841      0.000       1.210       1.551\n",
       "cylinders_3 cylinders          0.2869      0.056      5.114      0.000       0.177       0.397\n",
       "cylinders_4 cylinders          0.4390      0.034     12.831      0.000       0.372       0.506\n",
       "cylinders_5 cylinders          0.5162      0.041     12.479      0.000       0.435       0.597\n",
       "cylinders_6 cylinders          0.6572      0.034     19.411      0.000       0.591       0.724\n",
       "cylinders_8 cylinders          0.9187      0.034     27.158      0.000       0.852       0.985\n",
       "cylinders_other                0.5021      0.052      9.603      0.000       0.400       0.605\n",
       "fuel_electric                 -0.2972      0.063     -4.692      0.000      -0.421      -0.173\n",
       "fuel_gas                      -0.5577      0.011    -51.417      0.000      -0.579      -0.536\n",
       "fuel_hybrid                   -0.4879      0.022    -22.654      0.000      -0.530      -0.446\n",
       "fuel_other                    -0.6899      0.025    -28.065      0.000      -0.738      -0.642\n",
       "title_status_lien              0.1533      0.023      6.650      0.000       0.108       0.198\n",
       "title_status_missing          -0.6352      0.048    -13.315      0.000      -0.729      -0.542\n",
       "title_status_parts only       -1.9206      0.108    -17.805      0.000      -2.132      -1.709\n",
       "title_status_rebuilt          -0.1451      0.013    -11.052      0.000      -0.171      -0.119\n",
       "title_status_salvage          -0.1726      0.019     -9.172      0.000      -0.210      -0.136\n",
       "transmission_manual            0.1133      0.009     13.150      0.000       0.096       0.130\n",
       "transmission_other             0.0410      0.017      2.479      0.013       0.009       0.073\n",
       "drive_fwd                     -0.3060      0.007    -42.931      0.000      -0.320      -0.292\n",
       "drive_rwd                     -0.0692      0.007     -9.834      0.000      -0.083      -0.055\n",
       "type_bus                      -0.0553      0.060     -0.927      0.354      -0.172       0.062\n",
       "type_convertible               0.2811      0.016     17.048      0.000       0.249       0.313\n",
       "type_coupe                     0.0723      0.012      6.126      0.000       0.049       0.095\n",
       "type_hatchback                -0.1306      0.013     -9.949      0.000      -0.156      -0.105\n",
       "type_mini-van                  0.0046      0.016      0.281      0.778      -0.028       0.037\n",
       "type_offroad                   0.2285      0.038      6.009      0.000       0.154       0.303\n",
       "type_other                     0.1281      0.008     15.558      0.000       0.112       0.144\n",
       "type_pickup                    0.2090      0.010     20.432      0.000       0.189       0.229\n",
       "type_sedan                    -0.1308      0.007    -17.951      0.000      -0.145      -0.117\n",
       "type_truck                     0.1597      0.009     16.942      0.000       0.141       0.178\n",
       "type_van                       0.0959      0.015      6.390      0.000       0.067       0.125\n",
       "type_wagon                     0.0089      0.015      0.577      0.564      -0.021       0.039\n",
       "paint_color_blue              -0.0481      0.009     -5.297      0.000      -0.066      -0.030\n",
       "paint_color_brown             -0.1270      0.016     -8.066      0.000      -0.158      -0.096\n",
       "paint_color_custom             0.0526      0.013      3.943      0.000       0.026       0.079\n",
       "paint_color_green             -0.1358      0.015     -9.349      0.000      -0.164      -0.107\n",
       "paint_color_grey              -0.0208      0.009     -2.394      0.017      -0.038      -0.004\n",
       "paint_color_orange             0.1231      0.030      4.128      0.000       0.065       0.182\n",
       "paint_color_other             -0.4642      0.008    -55.546      0.000      -0.481      -0.448\n",
       "paint_color_purple            -0.1443      0.040     -3.602      0.000      -0.223      -0.066\n",
       "paint_color_red               -0.0443      0.009     -4.803      0.000      -0.062      -0.026\n",
       "paint_color_silver            -0.0474      0.008     -5.775      0.000      -0.064      -0.031\n",
       "paint_color_white             -0.0141      0.008     -1.874      0.061      -0.029       0.001\n",
       "paint_color_yellow             0.0518      0.027      1.883      0.060      -0.002       0.106\n",
       "odo_2.0                       -0.1413      0.010    -13.833      0.000      -0.161      -0.121\n",
       "odo_3.0                       -0.2727      0.011    -25.658      0.000      -0.294      -0.252\n",
       "odo_4.0                       -0.4013      0.010    -38.356      0.000      -0.422      -0.381\n",
       "odo_5.0                       -0.5019      0.011    -47.009      0.000      -0.523      -0.481\n",
       "odo_6.0                       -0.5971      0.011    -54.256      0.000      -0.619      -0.576\n",
       "odo_7.0                       -0.6951      0.012    -59.171      0.000      -0.718      -0.672\n",
       "odo_8.0                       -0.8317      0.011    -74.385      0.000      -0.854      -0.810\n",
       "odo_0                         -0.7235      0.012    -61.714      0.000      -0.746      -0.700\n",
       "==============================================================================\n",
       "Omnibus:                   153082.283   Durbin-Watson:                   1.482\n",
       "Prob(Omnibus):                  0.000   Jarque-Bera (JB):         10708220.562\n",
       "Skew:                          -4.600   Prob(JB):                         0.00\n",
       "Kurtosis:                      42.164   Cond. No.                         87.9\n",
       "==============================================================================\n",
       "\n",
       "Warnings:\n",
       "[1] Standard Errors assume that the covariance matrix of the errors is correctly specified.\n",
       "\"\"\""
      ]
     },
     "execution_count": 84,
     "metadata": {},
     "output_type": "execute_result"
    }
   ],
   "source": [
    "model = sm.OLS(y,xc).fit()\n",
    "model.summary()"
   ]
  },
  {
   "cell_type": "markdown",
   "metadata": {},
   "source": [
    "#### Model 1 - Linear Regression with feature selection"
   ]
  },
  {
   "cell_type": "code",
   "execution_count": 85,
   "metadata": {},
   "outputs": [],
   "source": [
    "from sklearn.model_selection import train_test_split\n",
    "from sklearn.linear_model import LinearRegression\n",
    "\n",
    "xtrain,xtest,ytrain,ytest = train_test_split(df_encoded,y,test_size = 0.3,random_state = 0)"
   ]
  },
  {
   "cell_type": "code",
   "execution_count": 57,
   "metadata": {},
   "outputs": [],
   "source": [
    "from sklearn.feature_selection import RFE"
   ]
  },
  {
   "cell_type": "code",
   "execution_count": 86,
   "metadata": {},
   "outputs": [
    {
     "name": "stdout",
     "output_type": "stream",
     "text": [
      "Index(['year_2006', 'year_2007', 'year_2008', 'year_2009', 'year_2010',\n",
      "       'year_2011', 'year_2012', 'year_2013', 'year_2014', 'year_2015',\n",
      "       'year_2016', 'year_2017', 'year_2018', 'year_2019', 'year_other',\n",
      "       'manufacturer_chrysler', 'manufacturer_dodge', 'manufacturer_honda',\n",
      "       'manufacturer_lexus', 'manufacturer_toyota', 'condition_fair',\n",
      "       'condition_new', 'condition_salvage', 'cylinders_12 cylinders',\n",
      "       'cylinders_3 cylinders', 'cylinders_4 cylinders',\n",
      "       'cylinders_5 cylinders', 'cylinders_6 cylinders',\n",
      "       'cylinders_8 cylinders', 'cylinders_other', 'fuel_electric', 'fuel_gas',\n",
      "       'fuel_hybrid', 'fuel_other', 'title_status_lien',\n",
      "       'title_status_missing', 'title_status_parts only', 'drive_fwd',\n",
      "       'type_bus', 'type_convertible', 'type_offroad', 'paint_color_orange',\n",
      "       'paint_color_other', 'odo_3.0', 'odo_4.0', 'odo_5.0', 'odo_6.0',\n",
      "       'odo_7.0', 'odo_8.0', 'odo_0'],\n",
      "      dtype='object')\n"
     ]
    }
   ],
   "source": [
    "linreg_rfe = LinearRegression()\n",
    "rfe_model = RFE(estimator=linreg_rfe, n_features_to_select = 50)\n",
    "rfe_model = rfe_model.fit(xtrain, ytrain)\n",
    "feat_index = pd.Series(data = rfe_model.ranking_, index = xtrain.columns)\n",
    "signi_feat_rfe = feat_index[feat_index==1].index\n",
    "print(signi_feat_rfe)"
   ]
  },
  {
   "cell_type": "code",
   "execution_count": 87,
   "metadata": {},
   "outputs": [],
   "source": [
    "xtrain_rfe = xtrain[signi_feat_rfe]\n",
    "xtest_rfe = xtest[signi_feat_rfe]"
   ]
  },
  {
   "cell_type": "code",
   "execution_count": 88,
   "metadata": {},
   "outputs": [],
   "source": [
    "m1 = LinearRegression()\n",
    "m1.fit(xtrain_rfe,ytrain)\n",
    "ypred = m1.predict(xtest_rfe)"
   ]
  },
  {
   "cell_type": "code",
   "execution_count": 89,
   "metadata": {},
   "outputs": [
    {
     "data": {
      "text/plain": [
       "0.40954272626118404"
      ]
     },
     "execution_count": 89,
     "metadata": {},
     "output_type": "execute_result"
    }
   ],
   "source": [
    "from sklearn.metrics import r2_score\n",
    "r2_score(ytest,ypred)"
   ]
  },
  {
   "cell_type": "markdown",
   "metadata": {},
   "source": [
    "#### Model 2 - Random Forest Regressor"
   ]
  },
  {
   "cell_type": "code",
   "execution_count": 92,
   "metadata": {},
   "outputs": [
    {
     "data": {
      "text/plain": [
       "RandomForestRegressor()"
      ]
     },
     "execution_count": 92,
     "metadata": {},
     "output_type": "execute_result"
    }
   ],
   "source": [
    "from sklearn.ensemble import RandomForestRegressor\n",
    "rf = RandomForestRegressor()\n",
    "rf.fit(xtrain,ytrain)"
   ]
  },
  {
   "cell_type": "code",
   "execution_count": 95,
   "metadata": {},
   "outputs": [],
   "source": [
    "ypred = rf.predict(xtest)"
   ]
  },
  {
   "cell_type": "code",
   "execution_count": 96,
   "metadata": {},
   "outputs": [
    {
     "data": {
      "text/plain": [
       "0.43773237849039803"
      ]
     },
     "execution_count": 96,
     "metadata": {},
     "output_type": "execute_result"
    }
   ],
   "source": [
    "r2_score(ytest,ypred)"
   ]
  },
  {
   "cell_type": "markdown",
   "metadata": {},
   "source": [
    "#### Model 3 - Gradient Boost Regressor"
   ]
  },
  {
   "cell_type": "code",
   "execution_count": 99,
   "metadata": {},
   "outputs": [
    {
     "data": {
      "text/plain": [
       "GradientBoostingRegressor()"
      ]
     },
     "execution_count": 99,
     "metadata": {},
     "output_type": "execute_result"
    }
   ],
   "source": [
    "from sklearn.ensemble import GradientBoostingRegressor\n",
    "gbr = GradientBoostingRegressor()\n",
    "gbr.fit(xtrain,ytrain)"
   ]
  },
  {
   "cell_type": "code",
   "execution_count": 100,
   "metadata": {},
   "outputs": [],
   "source": [
    "ypred = gbr.predict(xtest)"
   ]
  },
  {
   "cell_type": "code",
   "execution_count": 101,
   "metadata": {},
   "outputs": [
    {
     "data": {
      "text/plain": [
       "0.4092409612861595"
      ]
     },
     "execution_count": 101,
     "metadata": {},
     "output_type": "execute_result"
    }
   ],
   "source": [
    "r2_score(ytest,ypred)"
   ]
  },
  {
   "cell_type": "markdown",
   "metadata": {},
   "source": [
    "#### Applying PCA"
   ]
  },
  {
   "cell_type": "code",
   "execution_count": 105,
   "metadata": {},
   "outputs": [],
   "source": [
    "from sklearn.decomposition import PCA"
   ]
  },
  {
   "cell_type": "code",
   "execution_count": 106,
   "metadata": {},
   "outputs": [],
   "source": [
    "pca = PCA(n_components=60)\n",
    "pca.fit(df_encoded)\n",
    "X_pca = pca.transform(df_encoded)"
   ]
  },
  {
   "cell_type": "code",
   "execution_count": 107,
   "metadata": {},
   "outputs": [
    {
     "data": {
      "text/plain": [
       "array([0.09754276, 0.05901492, 0.05563355, 0.0332815 , 0.03084423,\n",
       "       0.02992923, 0.02730935, 0.02562159, 0.02446339, 0.02347132,\n",
       "       0.02328073, 0.02175619, 0.02045857, 0.02037921, 0.01921965,\n",
       "       0.018979  , 0.01764047, 0.01697212, 0.01640947, 0.01597319,\n",
       "       0.01557458, 0.01509186, 0.01444311, 0.01371914, 0.01329647,\n",
       "       0.01228167, 0.0118233 , 0.01116506, 0.01098567, 0.0107114 ,\n",
       "       0.010563  , 0.01038136, 0.00998221, 0.00982345, 0.00960983,\n",
       "       0.00936171, 0.00902672, 0.00870685, 0.00836006, 0.00801452,\n",
       "       0.00762586, 0.00749223, 0.00726391, 0.00698743, 0.00679791,\n",
       "       0.00662303, 0.00641071, 0.00603846, 0.0058669 , 0.00567858,\n",
       "       0.00547895, 0.00528213, 0.00514762, 0.00490649, 0.00472311,\n",
       "       0.00445399, 0.00443907, 0.00426095, 0.00416763, 0.00401321])"
      ]
     },
     "execution_count": 107,
     "metadata": {},
     "output_type": "execute_result"
    }
   ],
   "source": [
    "pca.explained_variance_ratio_"
   ]
  },
  {
   "cell_type": "code",
   "execution_count": 129,
   "metadata": {},
   "outputs": [
    {
     "data": {
      "text/plain": [
       "0.9347606298832128"
      ]
     },
     "execution_count": 129,
     "metadata": {},
     "output_type": "execute_result"
    }
   ],
   "source": [
    "pca.explained_variance_ratio_[0:60].sum()"
   ]
  },
  {
   "cell_type": "code",
   "execution_count": 130,
   "metadata": {},
   "outputs": [],
   "source": [
    "new = pd.concat([pd.DataFrame(X_pca),df['price']],axis = 1)\n",
    "x = new.drop('price',axis = 1)\n",
    "y = np.log(new['price'])"
   ]
  },
  {
   "cell_type": "code",
   "execution_count": 131,
   "metadata": {},
   "outputs": [],
   "source": [
    "xtrain,xtest,ytrain,ytest = train_test_split(x,y,test_size = 0.2,random_state = 0)"
   ]
  },
  {
   "cell_type": "code",
   "execution_count": 132,
   "metadata": {},
   "outputs": [],
   "source": [
    "from sklearn.ensemble import RandomForestRegressor"
   ]
  },
  {
   "cell_type": "code",
   "execution_count": 133,
   "metadata": {},
   "outputs": [
    {
     "data": {
      "text/plain": [
       "RandomForestRegressor()"
      ]
     },
     "execution_count": 133,
     "metadata": {},
     "output_type": "execute_result"
    }
   ],
   "source": [
    "m2 = RandomForestRegressor()\n",
    "m2.fit(xtrain,ytrain)"
   ]
  },
  {
   "cell_type": "code",
   "execution_count": 134,
   "metadata": {},
   "outputs": [],
   "source": [
    "ypred = m2.predict(xtest)"
   ]
  },
  {
   "cell_type": "code",
   "execution_count": 135,
   "metadata": {},
   "outputs": [
    {
     "data": {
      "text/plain": [
       "0.4313737246753947"
      ]
     },
     "execution_count": 135,
     "metadata": {},
     "output_type": "execute_result"
    }
   ],
   "source": [
    "r2_score(ytest,ypred)"
   ]
  }
 ],
 "metadata": {
  "kernelspec": {
   "display_name": "Python 3",
   "language": "python",
   "name": "python3"
  },
  "language_info": {
   "codemirror_mode": {
    "name": "ipython",
    "version": 3
   },
   "file_extension": ".py",
   "mimetype": "text/x-python",
   "name": "python",
   "nbconvert_exporter": "python",
   "pygments_lexer": "ipython3",
   "version": "3.7.7"
  }
 },
 "nbformat": 4,
 "nbformat_minor": 4
}
